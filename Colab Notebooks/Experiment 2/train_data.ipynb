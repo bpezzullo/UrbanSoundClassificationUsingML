{
  "nbformat": 4,
  "nbformat_minor": 0,
  "metadata": {
    "colab": {
      "name": "train_data.ipynb",
      "provenance": [],
      "collapsed_sections": [],
      "toc_visible": true,
      "include_colab_link": true
    },
    "kernelspec": {
      "name": "python3",
      "display_name": "Python 3"
    }
  },
  "cells": [
    {
      "cell_type": "markdown",
      "metadata": {
        "id": "view-in-github",
        "colab_type": "text"
      },
      "source": [
        "<a href=\"https://colab.research.google.com/github/bpezzullo/UrbanSoundClassificationUsingML/blob/main/Colab%20Notebooks/Experiment%202/train_data.ipynb\" target=\"_parent\"><img src=\"https://colab.research.google.com/assets/colab-badge.svg\" alt=\"Open In Colab\"/></a>"
      ]
    },
    {
      "cell_type": "code",
      "metadata": {
        "id": "A0r3bsTCLKcX",
        "outputId": "34cb9257-4ec1-4822-baf8-3ffe2348d834",
        "colab": {
          "base_uri": "https://localhost:8080/"
        }
      },
      "source": [
        "import os\n",
        "# Find the latest version of spark 3.0  from http://www-us.apache.org/dist/spark/ and enter as the spark version\n",
        "# For example:\n",
        "spark_version = 'spark-3.0.1'\n",
        "#spark_version = 'spark-3.<enter version>'\n",
        "os.environ['SPARK_VERSION']=spark_version\n",
        "\n",
        "# Install Spark and Java\n",
        "!apt-get update\n",
        "!apt-get install openjdk-11-jdk-headless -qq > /dev/null\n",
        "!wget -q http://www-us.apache.org/dist/spark/$SPARK_VERSION/$SPARK_VERSION-bin-hadoop2.7.tgz\n",
        "!tar xf $SPARK_VERSION-bin-hadoop2.7.tgz\n",
        "!pip install -q findspark\n",
        "\n",
        "# Set Environment Variables\n",
        "os.environ[\"JAVA_HOME\"] = \"/usr/lib/jvm/java-11-openjdk-amd64\"\n",
        "os.environ[\"SPARK_HOME\"] = f\"/content/{spark_version}-bin-hadoop2.7\"\n",
        "\n",
        "# Start a SparkSession\n",
        "import findspark\n",
        "findspark.init()"
      ],
      "execution_count": null,
      "outputs": [
        {
          "output_type": "stream",
          "text": [
            "Get:1 https://cloud.r-project.org/bin/linux/ubuntu bionic-cran40/ InRelease [3,626 B]\n",
            "Ign:2 https://developer.download.nvidia.com/compute/cuda/repos/ubuntu1804/x86_64  InRelease\n",
            "Ign:3 https://developer.download.nvidia.com/compute/machine-learning/repos/ubuntu1804/x86_64  InRelease\n",
            "Get:4 https://developer.download.nvidia.com/compute/cuda/repos/ubuntu1804/x86_64  Release [697 B]\n",
            "Get:5 https://developer.download.nvidia.com/compute/machine-learning/repos/ubuntu1804/x86_64  Release [564 B]\n",
            "Get:6 https://developer.download.nvidia.com/compute/cuda/repos/ubuntu1804/x86_64  Release.gpg [836 B]\n",
            "Get:7 http://ppa.launchpad.net/c2d4u.team/c2d4u4.0+/ubuntu bionic InRelease [15.9 kB]\n",
            "Get:8 http://security.ubuntu.com/ubuntu bionic-security InRelease [88.7 kB]\n",
            "Get:9 https://developer.download.nvidia.com/compute/machine-learning/repos/ubuntu1804/x86_64  Release.gpg [833 B]\n",
            "Hit:10 http://archive.ubuntu.com/ubuntu bionic InRelease\n",
            "Ign:11 https://developer.download.nvidia.com/compute/cuda/repos/ubuntu1804/x86_64  Packages\n",
            "Get:11 https://developer.download.nvidia.com/compute/cuda/repos/ubuntu1804/x86_64  Packages [407 kB]\n",
            "Get:12 http://archive.ubuntu.com/ubuntu bionic-updates InRelease [88.7 kB]\n",
            "Get:13 https://developer.download.nvidia.com/compute/machine-learning/repos/ubuntu1804/x86_64  Packages [58.5 kB]\n",
            "Get:14 http://ppa.launchpad.net/graphics-drivers/ppa/ubuntu bionic InRelease [21.3 kB]\n",
            "Get:15 http://security.ubuntu.com/ubuntu bionic-security/main amd64 Packages [1,781 kB]\n",
            "Get:16 http://archive.ubuntu.com/ubuntu bionic-backports InRelease [74.6 kB]\n",
            "Get:17 http://ppa.launchpad.net/c2d4u.team/c2d4u4.0+/ubuntu bionic/main Sources [1,688 kB]\n",
            "Get:18 http://archive.ubuntu.com/ubuntu bionic-updates/restricted amd64 Packages [247 kB]\n",
            "Get:19 http://archive.ubuntu.com/ubuntu bionic-updates/main amd64 Packages [2,198 kB]\n",
            "Get:20 http://security.ubuntu.com/ubuntu bionic-security/multiverse amd64 Packages [15.8 kB]\n",
            "Get:21 http://security.ubuntu.com/ubuntu bionic-security/universe amd64 Packages [1,364 kB]\n",
            "Get:22 http://security.ubuntu.com/ubuntu bionic-security/restricted amd64 Packages [222 kB]\n",
            "Get:23 http://archive.ubuntu.com/ubuntu bionic-updates/universe amd64 Packages [2,129 kB]\n",
            "Get:24 http://archive.ubuntu.com/ubuntu bionic-updates/multiverse amd64 Packages [46.3 kB]\n",
            "Get:25 http://ppa.launchpad.net/c2d4u.team/c2d4u4.0+/ubuntu bionic/main amd64 Packages [864 kB]\n",
            "Get:26 http://ppa.launchpad.net/graphics-drivers/ppa/ubuntu bionic/main amd64 Packages [46.6 kB]\n",
            "Fetched 11.4 MB in 6s (1,775 kB/s)\n",
            "Reading package lists... Done\n"
          ],
          "name": "stdout"
        }
      ]
    },
    {
      "cell_type": "code",
      "metadata": {
        "id": "YUbGjJQra_Gm",
        "outputId": "2ec47fa8-e6ba-4995-f6fc-bbd5dd28ec1f",
        "colab": {
          "base_uri": "https://localhost:8080/"
        }
      },
      "source": [
        "!wget https://jdbc.postgresql.org/download/postgresql-42.2.9.jar"
      ],
      "execution_count": null,
      "outputs": [
        {
          "output_type": "stream",
          "text": [
            "--2020-11-12 15:41:47--  https://jdbc.postgresql.org/download/postgresql-42.2.9.jar\n",
            "Resolving jdbc.postgresql.org (jdbc.postgresql.org)... 72.32.157.228, 2001:4800:3e1:1::228\n",
            "Connecting to jdbc.postgresql.org (jdbc.postgresql.org)|72.32.157.228|:443... connected.\n",
            "HTTP request sent, awaiting response... 200 OK\n",
            "Length: 914037 (893K) [application/java-archive]\n",
            "Saving to: ‘postgresql-42.2.9.jar’\n",
            "\n",
            "postgresql-42.2.9.j 100%[===================>] 892.61K  1.04MB/s    in 0.8s    \n",
            "\n",
            "2020-11-12 15:41:49 (1.04 MB/s) - ‘postgresql-42.2.9.jar’ saved [914037/914037]\n",
            "\n"
          ],
          "name": "stdout"
        }
      ]
    },
    {
      "cell_type": "code",
      "metadata": {
        "id": "4DIeICb3bFyO"
      },
      "source": [
        "from pyspark.sql import SparkSession\n",
        "spark = SparkSession.builder.appName(\"CloudETL\").config(\"spark.driver.extraClassPath\",\"/content/postgresql-42.2.9.jar\").getOrCreate()"
      ],
      "execution_count": null,
      "outputs": []
    },
    {
      "cell_type": "code",
      "metadata": {
        "id": "W-0uJbG7ps-J"
      },
      "source": [
        "# Function to pull the files from my S3 drive.  I also stored the files under Github\n",
        "import numpy as np\n",
        "from google.colab import files\n",
        "import json\n",
        "# Read in data from S3 Buckets\n",
        "from pyspark import SparkFiles\n",
        "\n",
        "def pulljsonFiles(filename):\n",
        "  json_url=\"https://billdatavizclass.s3.amazonaws.com/\" + filename\n",
        "  spark.sparkContext.addFile(json_url)\n",
        "  data= spark.read.option('multiline','true').json(SparkFiles.get(filename))\n",
        "\n",
        "  # return the data from the file\n",
        "  inputsTmp = data.select(\"mfcc\").collect()\n",
        "  inputs = inputsTmp[0][0] #  \n",
        "  targetsTmp = data.select(\"classID\").collect()\n",
        "  targets = targetsTmp[0][0]\n",
        "\n",
        "  return inputs,targets\n",
        "\n"
      ],
      "execution_count": null,
      "outputs": []
    },
    {
      "cell_type": "code",
      "metadata": {
        "id": "4LGQIqzkQDF1"
      },
      "source": [
        "def createSet(inputs,targets,currentSet=[], currentTarget=[]):\n",
        "\n",
        "  for i in range(len(inputs)):\n",
        "      currentSet.append(inputs[i])\n",
        "      currentTarget.append(targets[i])\n",
        "  return currentSet, currentTarget"
      ],
      "execution_count": null,
      "outputs": []
    },
    {
      "cell_type": "code",
      "metadata": {
        "id": "XbyPR2FxM3Fq",
        "outputId": "ddb29bd0-1e8f-4ac1-92e1-19d5ae2524a7",
        "colab": {
          "base_uri": "https://localhost:8080/"
        }
      },
      "source": [
        "# This cell creates the input to the model and splits the data to Test, Validation, and Training.  In each model ran\n",
        "# there will be 7 data sets (ds) of training data, 2 ds of test and 1 ds of validation giving the 70-10-20 split.  TO control this \n",
        "# modify the testList and valList with the approporiate datasets.  \n",
        "from sklearn.model_selection import train_test_split\n",
        "import tensorflow.keras as keras\n",
        "from tensorflow.keras.models import Sequential\n",
        "from tensorflow.keras.layers import Dense\n",
        "\n",
        "fileList = [\"data1.json\",\"data2.json\",\"data3.json\",\"data4.json\",\"data5.json\",\"data6.json\",\"data7.json\",\"data8.json\",\"data9.json\",\"data10.json\"]\n",
        "testList = [\"data10.json\",\"data2.json\"]\n",
        "valList = [\"data1.json\"]\n",
        "X_test = []\n",
        "X_train = []\n",
        "X_val = []\n",
        "y_test = []\n",
        "y_train = []\n",
        "y_val = []\n",
        "\n",
        "# loop through and create the input for the mode to run\n",
        "for file in fileList:\n",
        "  inputs, targets = pulljsonFiles(file)\n",
        "  print(np.shape(inputs))\n",
        "  if file in testList: X_test, y_test = createSet(inputs,targets,X_test, y_test)\n",
        "  elif file in valList: x_val, y_val = createSet(inputs,targets,X_val, y_val)\n",
        "  else: X_train, y_train = createSet(inputs,targets,X_train, y_train)\n",
        "  print(f\"done with file: {file}\")\n",
        "print(\"shape\",np.shape(X_train))\n",
        "print(\"shape\",np.shape(X_test))\n",
        "X_test = np.array(X_test)\n",
        "X_train = np.array(X_train)\n",
        "y_test = np.array(y_test)\n",
        "y_train = np.array(y_train)\n",
        "X_val = np.array(X_val)\n",
        "y_val = np.array(y_val)"
      ],
      "execution_count": null,
      "outputs": [
        {
          "output_type": "stream",
          "text": [
            "(3106, 44, 13)\n",
            "done with file: data1.json\n",
            "(3076, 44, 13)\n",
            "done with file: data2.json\n",
            "(3337, 44, 13)\n",
            "done with file: data3.json\n",
            "(3454, 44, 13)\n",
            "done with file: data4.json\n",
            "(3248, 44, 13)\n",
            "done with file: data5.json\n",
            "(2901, 44, 13)\n",
            "done with file: data6.json\n",
            "(3010, 44, 13)\n",
            "done with file: data7.json\n",
            "(2809, 44, 13)\n",
            "done with file: data8.json\n",
            "(2910, 44, 13)\n",
            "done with file: data9.json\n",
            "(2974, 44, 13)\n",
            "done with file: data10.json\n",
            "shape (21669, 44, 13)\n",
            "shape (6050, 44, 13)\n"
          ],
          "name": "stdout"
        }
      ]
    },
    {
      "cell_type": "code",
      "metadata": {
        "id": "gDSZu6mlZnbK",
        "outputId": "7e9a8efd-9385-49bc-976d-ca20495128ed",
        "colab": {
          "base_uri": "https://localhost:8080/"
        }
      },
      "source": [
        "# A visual of the shape and size of the data\n",
        "print(X_train.shape[0],X_train.shape[1], X_train.shape[2])\n",
        "print(y_train.shape[0], y_train.shape[1])\n",
        "print(X_test.shape[0],X_test.shape[1], X_test.shape[2])\n",
        "print(y_test.shape[0], y_test.shape[1])\n"
      ],
      "execution_count": null,
      "outputs": [
        {
          "output_type": "stream",
          "text": [
            "21669 44 13\n",
            "21669 1\n",
            "6050 44 13\n",
            "6050 1\n"
          ],
          "name": "stdout"
        }
      ]
    },
    {
      "cell_type": "code",
      "metadata": {
        "id": "rr6eTuJ0_3Et",
        "outputId": "ccc19047-9fca-4ae6-8d63-0f3f8bb424b6",
        "colab": {
          "base_uri": "https://localhost:8080/"
        }
      },
      "source": [
        "# mount google drive to save the results\n",
        "from google.colab import drive\n",
        "drive.mount(\"/content/gdrive\")"
      ],
      "execution_count": null,
      "outputs": [
        {
          "output_type": "stream",
          "text": [
            "Mounted at /content/gdrive\n"
          ],
          "name": "stdout"
        }
      ]
    },
    {
      "cell_type": "code",
      "metadata": {
        "id": "daRkA2M8rOdy",
        "outputId": "b794de58-dc21-4d51-901c-de9f7d460344",
        "colab": {
          "base_uri": "https://localhost:8080/",
          "height": 34
        }
      },
      "source": [
        "# This cell drives the creation and training of the models.  \n",
        "from sklearn.metrics import classification_report\n",
        "  \n",
        "class_names=[\"air_conditioner\",\n",
        "             \"car_horn\",\n",
        "             \"children_playing\",\n",
        "             \"dog_bark\",\n",
        "             \"drilling\",\n",
        "             \"engine_idling\",\n",
        "             \"gun_shot\",\n",
        "             \"jackhammer\",\n",
        "             \"siren\",\n",
        "             \"street_music\"]\n",
        "\n",
        "\n",
        "# Set the parameters for Sequential model\n",
        "neuronsHidden = [2**6, 2**7, 2**8, 2**9]\n",
        "dropouts = [0.2, 0.3, 0.4]\n",
        "epochs = [30, 40, 50]\n",
        "batchsizes = [16, 32]\n",
        "finalResults = []\n",
        "save_model = False\n",
        "# When narrowing down on the best model, created the below array and modified the for statement to below.\n",
        "# sets = [[128,0.4,150,16],[128,0.4,200,16]]\n",
        "\n",
        "sets = [[128,0.4,150,16]]\n",
        "save_model = True\n",
        "for (nn,dd,ee,bb) in sets:     # this replaces the 4 for statements below\n",
        "\n",
        "# for nn in neuronsHidden:\n",
        "#   for dd in dropouts:\n",
        "#     for ee in epochs:\n",
        "#       for bb in batchsizes:\n",
        "        data = run_model(nn,dd,ee,bb,X_train,y_train,X_test,y_test,X_val,y_val,save_model)\n",
        "        finalResults.append(data)\n",
        "        # plot_history2(data)    # if you wanted to plot the training and validation lines uncomment\n",
        "        print(nn,dd,ee,bb)\n",
        "\n",
        "# file name is based on the dataset being used.\n",
        "# test one was ds 1, 3 for test and 2 for validate  resultsds123.json\n",
        "# test two was ds 4, 6 for test and 5 for validate  resultsds456.json\n",
        "# test one was ds 7, 9 for test and 8 for validate  resultsds789.json\n",
        "# test two was ds 10, 2 for test and 1 for validate resultsds1012.json\n",
        "\n",
        "with open(\"/content/gdrive/My Drive/FinalProject/resultsds123.json\", \"w\") as f:\n",
        "  json.dump(finalResults, f)\n",
        "\n",
        "files.download(\"/content/gdrive/My Drive/FinalProject/resultsds123.json\")"
      ],
      "execution_count": null,
      "outputs": [
        {
          "output_type": "stream",
          "text": [
            "128 0.4 150 16\n"
          ],
          "name": "stdout"
        },
        {
          "output_type": "display_data",
          "data": {
            "application/javascript": [
              "\n",
              "    async function download(id, filename, size) {\n",
              "      if (!google.colab.kernel.accessAllowed) {\n",
              "        return;\n",
              "      }\n",
              "      const div = document.createElement('div');\n",
              "      const label = document.createElement('label');\n",
              "      label.textContent = `Downloading \"${filename}\": `;\n",
              "      div.appendChild(label);\n",
              "      const progress = document.createElement('progress');\n",
              "      progress.max = size;\n",
              "      div.appendChild(progress);\n",
              "      document.body.appendChild(div);\n",
              "\n",
              "      const buffers = [];\n",
              "      let downloaded = 0;\n",
              "\n",
              "      const channel = await google.colab.kernel.comms.open(id);\n",
              "      // Send a message to notify the kernel that we're ready.\n",
              "      channel.send({})\n",
              "\n",
              "      for await (const message of channel.messages) {\n",
              "        // Send a message to notify the kernel that we're ready.\n",
              "        channel.send({})\n",
              "        if (message.buffers) {\n",
              "          for (const buffer of message.buffers) {\n",
              "            buffers.push(buffer);\n",
              "            downloaded += buffer.byteLength;\n",
              "            progress.value = downloaded;\n",
              "          }\n",
              "        }\n",
              "      }\n",
              "      const blob = new Blob(buffers, {type: 'application/binary'});\n",
              "      const a = document.createElement('a');\n",
              "      a.href = window.URL.createObjectURL(blob);\n",
              "      a.download = filename;\n",
              "      div.appendChild(a);\n",
              "      a.click();\n",
              "      div.remove();\n",
              "    }\n",
              "  "
            ],
            "text/plain": [
              "<IPython.core.display.Javascript object>"
            ]
          },
          "metadata": {
            "tags": []
          }
        },
        {
          "output_type": "display_data",
          "data": {
            "application/javascript": [
              "download(\"download_12a9c63d-a9e6-4b13-ab77-53a415f0993e\", \"resultsds123.json\", 7739)"
            ],
            "text/plain": [
              "<IPython.core.display.Javascript object>"
            ]
          },
          "metadata": {
            "tags": []
          }
        }
      ]
    },
    {
      "cell_type": "code",
      "metadata": {
        "id": "cebATCuKtfa-"
      },
      "source": [
        "def run_model(nn,dd,ee,bb,X_train,y_train,X_test,y_test,X_val,y_val,save_model):\n",
        "  param_results = {\"parameters\": [],\n",
        "                  \"report\" : [],\n",
        "                  \"finalAcc\": 0.0,\n",
        "                  \"finalVal\": 0.0,\n",
        "                  \"finalAccData\": [],\n",
        "                  \"finalValData\": []\n",
        "                  }\n",
        "  class_names=[\"air_conditioner\",\n",
        "             \"car_horn\",\n",
        "             \"children_playing\",\n",
        "             \"dog_bark\",\n",
        "             \"drilling\",\n",
        "             \"engine_idling\",\n",
        "             \"gun_shot\",\n",
        "             \"jackhammer\",\n",
        "             \"siren\",\n",
        "             \"street_music\"]\n",
        "\n",
        "  keras.backend.clear_session()\n",
        "\n",
        "\n",
        "  # build the network architecture\n",
        "  model = keras.Sequential([\n",
        "      # input layer\n",
        "      keras.layers.Flatten(input_shape=(X_train.shape[1], X_train.shape[2])),\n",
        "      \n",
        "      # lst hidden layer\n",
        "      keras.layers.Dense(nn, activation=\"relu\", kernel_regularizer=keras.regularizers.l2(0.001)),\n",
        "      keras.layers.Dropout(dd),\n",
        "      \n",
        "      # 2nd hidden layer\n",
        "      keras.layers.Dense(nn/2, activation=\"relu\", kernel_regularizer=keras.regularizers.l2(0.001)),\n",
        "      keras.layers.Dropout(dd),\n",
        "      \n",
        "      # # 3rd hidden layer\n",
        "      keras.layers.Dense(nn/4, activation=\"relu\", kernel_regularizer=keras.regularizers.l2(0.001)),\n",
        "      keras.layers.Dropout(dd),\n",
        "      \n",
        "      # output layer\n",
        "      keras.layers.Dense(10, activation=\"softmax\")\n",
        "  ])\n",
        "\n",
        "  # compile network : example\n",
        "  optimizer = keras.optimizers.Adam(learning_rate=0.0001)\n",
        "  model.compile(optimizer=optimizer,   # 'adam',\n",
        "              loss = \"sparse_categorical_crossentropy\",\n",
        "              metrics=[\"accuracy\"])\n",
        "\n",
        "  model_history = model.fit(X_train, y_train, validation_data=(X_val, y_val), epochs=ee, batch_size=bb, verbose=0 )\n",
        "              \n",
        "  # store the result which will be later saved to a file            \n",
        "  predictions = np.argmax(model.predict(X_test), axis=1)\n",
        "  report = classification_report(y_test, predictions,\n",
        "                                  target_names=class_names,\n",
        "                                  output_dict=True)\n",
        "  param_results[\"parameters\"]= [nn,dd,ee,bb],\n",
        "  param_results[\"report\"] = report\n",
        "  param_results[\"finalAcc\"]= model_history.history[\"accuracy\"][-1]\n",
        "  param_results[\"finalVal\"]= model_history.history[\"val_accuracy\"][-1]\n",
        "  param_results[\"finalAccData\"]= model_history.history[\"accuracy\"]\n",
        "  param_results[\"finalValData\"]= model_history.history[\"val_accuracy\"]\n",
        "  \n",
        "  if save_model: \n",
        "    # Save the model to be used later\n",
        "    model.save(\"/content/gdrive/My Drive/FinalProject/Experiment2_best_model.h5\")\n",
        "\n",
        "  return param_results"
      ],
      "execution_count": null,
      "outputs": []
    },
    {
      "cell_type": "code",
      "metadata": {
        "id": "ZHRo58BwOfCu"
      },
      "source": [
        "import matplotlib.pyplot as plt\n",
        "\n",
        "def plot_history2(history):\n",
        "  fig, axs = plt.subplots(1,figsize=(20,10))\n",
        "\n",
        "  # create the accuracy subplot\n",
        "  axs[0].plot(history[\"history\"][\"accuracy\"],label=\"train accuracy\")\n",
        "  axs[0].plot(history[\"history\"][\"val_accuracy\"],label=\"test accuracy\")\n",
        "  axs[0].set_ylabel(\"Accuracy\")\n",
        "  axs[0].legend(loc=\"best\")\n",
        "  axs[0].set_title(\"accuracy eval\")\n",
        "  axs[0].set_ylim(0, 1)\n",
        "\n",
        "  plt.show()"
      ],
      "execution_count": null,
      "outputs": []
    },
    {
      "cell_type": "markdown",
      "metadata": {
        "id": "Q8PxNQuHQkmn"
      },
      "source": [
        "#Re-run model"
      ]
    },
    {
      "cell_type": "code",
      "metadata": {
        "id": "bYo8FxjeQENm"
      },
      "source": [
        "# Load the model\n",
        "from tensorflow.keras.models import load_model\n",
        "voice_model = load_model(\"/content/gdrive/My Drive/FinalProject/Experiment2_best_model.h5\")"
      ],
      "execution_count": null,
      "outputs": []
    },
    {
      "cell_type": "code",
      "metadata": {
        "id": "atWWQ1xAQWki"
      },
      "source": [
        "model_loss, model_accuracy = model.evaluate(\n",
        "    X_test, y_test, verbose=2)\n",
        "print(\n",
        "    f\"Normal Neural Network - Loss: {model_loss}, Accuracy: {model_accuracy}\")"
      ],
      "execution_count": null,
      "outputs": []
    },
    {
      "cell_type": "code",
      "metadata": {
        "id": "9pDqP33TQWk6"
      },
      "source": [
        "# Calculate classification report\n",
        "class_names=[\"air_conditioner\",\n",
        "              \"car_horn\",\n",
        "             \"children_playing\",\n",
        "             \"dog_bark\",\n",
        "             \"drilling\",\n",
        "             \"engine_idling\",\n",
        "             \"gun_shot\",\n",
        "             \"jackhammer\",\n",
        "             \"siren\",\n",
        "             \"street_music\"]\n",
        "# convert output to simple array\n",
        "y_temp = []\n",
        "for i in range(len(y_test)):\n",
        "  y_temp.append(y_test[i][0])\n",
        "\n",
        "             \n",
        "from sklearn.metrics import classification_report\n",
        "predictions = model.predict_classes(X_test)\n",
        "print(classification_report(y_temp, predictions,\n",
        "                            target_names=class_names))"
      ],
      "execution_count": null,
      "outputs": []
    },
    {
      "cell_type": "markdown",
      "metadata": {
        "id": "sVx6aAiQQ8LQ"
      },
      "source": [
        "# Single run cells\n"
      ]
    },
    {
      "cell_type": "code",
      "metadata": {
        "id": "KFhvZaJE9c5L"
      },
      "source": [
        "# After selecting the best model, I took scaled the input to see if that would improve the results.  In this case it made\n",
        "# it worse.\n",
        "from sklearn.preprocessing import LabelEncoder, MinMaxScaler, StandardScaler\n",
        "scalers = {}\n",
        "X_train_scaled = X_train\n",
        "X_test_scaled = X_test\n",
        "X_val_scaled = X_val\n",
        "\n",
        "for i in range(X_train.shape[1]):\n",
        "  scalers[i]= StandardScaler()\n",
        "  X_train_scaled[:,i,:] = scalers[i].fit_transform(X_train[:,i,:])\n",
        "\n",
        "for i in range(X_test.shape[1]):\n",
        "  X_test_scaled[:,i,:] = scalers[i].transform(X_test[:,i,:])\n",
        "\n",
        "for i in range(X_val.shape[1]):\n",
        "  X_val_scaled[:,i,:] = scalers[i].transform(X_val[:,i,:])\n",
        "# X_scaler = MinMaxScaler().fit(X_train)\n"
      ],
      "execution_count": null,
      "outputs": []
    },
    {
      "cell_type": "code",
      "metadata": {
        "id": "d62Q_MZLZcPI",
        "outputId": "b8d3fcc9-8ec3-4ba1-d815-773a08dd42ca",
        "colab": {
          "base_uri": "https://localhost:8080/"
        }
      },
      "source": [
        "print(\"scaled\",X_test_scaled[0][0])\n",
        "print('reg',X_test[0][0])"
      ],
      "execution_count": null,
      "outputs": [
        {
          "output_type": "stream",
          "text": [
            "scaled [-2.32965262 -0.91503091 -1.22064651 -2.46677326 -0.04863221 -1.85756005\n",
            " -1.3626175  -0.93088443  0.17465882  2.10449883  4.30238814  1.85625286\n",
            "  0.22116921]\n",
            "reg [-2.32965262 -0.91503091 -1.22064651 -2.46677326 -0.04863221 -1.85756005\n",
            " -1.3626175  -0.93088443  0.17465882  2.10449883  4.30238814  1.85625286\n",
            "  0.22116921]\n"
          ],
          "name": "stdout"
        }
      ]
    },
    {
      "cell_type": "code",
      "metadata": {
        "id": "313Nnvu64VdU"
      },
      "source": [
        "# Clear out the previous results so they don't taint the next run.\n",
        "keras.backend.clear_session()"
      ],
      "execution_count": null,
      "outputs": []
    },
    {
      "cell_type": "code",
      "metadata": {
        "id": "MDn6qvBW25kf"
      },
      "source": [
        "# Cells used to learn about the models and just run single runs.\n",
        "# build the network architecture\n",
        "model = keras.Sequential([\n",
        "    # input layer\n",
        "    keras.layers.Flatten(input_shape=(X_train.shape[1], X_train.shape[2])),\n",
        "    \n",
        "    # lst hidden layer\n",
        "    keras.layers.Dense(128, activation=\"relu\", kernel_regularizer=keras.regularizers.l2(0.001)),\n",
        "    keras.layers.Dropout(0.4),\n",
        "    \n",
        "    # 2nd hidden layer\n",
        "    keras.layers.Dense(64, activation=\"relu\", kernel_regularizer=keras.regularizers.l2(0.001)),\n",
        "    keras.layers.Dropout(0.4),\n",
        "    \n",
        "    # # 3rd hidden layer\n",
        "    keras.layers.Dense(32, activation=\"relu\", kernel_regularizer=keras.regularizers.l2(0.001)),\n",
        "    keras.layers.Dropout(0.4),\n",
        "    \n",
        "    # output layer\n",
        "    keras.layers.Dense(10, activation=\"softmax\")\n",
        "])"
      ],
      "execution_count": null,
      "outputs": []
    },
    {
      "cell_type": "code",
      "metadata": {
        "id": "72xPIY_S253Q",
        "outputId": "96cfc289-3282-4dab-b606-d66140eed0eb",
        "colab": {
          "base_uri": "https://localhost:8080/"
        }
      },
      "source": [
        "# compile network : example\n",
        "optimizer = keras.optimizers.Adam(learning_rate=0.0001)\n",
        "model.compile(optimizer=optimizer,   # 'adam',\n",
        "             loss = \"sparse_categorical_crossentropy\",\n",
        "             metrics=[\"accuracy\"])\n",
        "model.summary()"
      ],
      "execution_count": null,
      "outputs": [
        {
          "output_type": "stream",
          "text": [
            "Model: \"sequential\"\n",
            "_________________________________________________________________\n",
            "Layer (type)                 Output Shape              Param #   \n",
            "=================================================================\n",
            "flatten (Flatten)            (None, 572)               0         \n",
            "_________________________________________________________________\n",
            "dense (Dense)                (None, 128)               73344     \n",
            "_________________________________________________________________\n",
            "dropout (Dropout)            (None, 128)               0         \n",
            "_________________________________________________________________\n",
            "dense_1 (Dense)              (None, 64)                8256      \n",
            "_________________________________________________________________\n",
            "dropout_1 (Dropout)          (None, 64)                0         \n",
            "_________________________________________________________________\n",
            "dense_2 (Dense)              (None, 32)                2080      \n",
            "_________________________________________________________________\n",
            "dropout_2 (Dropout)          (None, 32)                0         \n",
            "_________________________________________________________________\n",
            "dense_3 (Dense)              (None, 10)                330       \n",
            "=================================================================\n",
            "Total params: 84,010\n",
            "Trainable params: 84,010\n",
            "Non-trainable params: 0\n",
            "_________________________________________________________________\n"
          ],
          "name": "stdout"
        }
      ]
    },
    {
      "cell_type": "markdown",
      "metadata": {
        "id": "SDIPKCeEXRNE"
      },
      "source": [
        "# Train the model"
      ]
    },
    {
      "cell_type": "code",
      "metadata": {
        "id": "haDAhLiO63TT",
        "outputId": "c0d65fea-d8b8-4d88-ddba-ad3a0bc05008",
        "colab": {
          "base_uri": "https://localhost:8080/"
        }
      },
      "source": [
        "# train network\n",
        "model_history = model.fit(X_train, y_train, validation_data=(X_val, y_val), epochs=50, batch_size=16)\n",
        "\n"
      ],
      "execution_count": null,
      "outputs": [
        {
          "output_type": "stream",
          "text": [
            "Epoch 1/50\n",
            "1355/1355 [==============================] - 3s 2ms/step - loss: 13.7610 - accuracy: 0.1380 - val_loss: 2.6672 - val_accuracy: 0.1610\n",
            "Epoch 2/50\n",
            "1355/1355 [==============================] - 3s 2ms/step - loss: 2.8883 - accuracy: 0.1522 - val_loss: 2.6002 - val_accuracy: 0.1771\n",
            "Epoch 3/50\n",
            "1355/1355 [==============================] - 3s 2ms/step - loss: 2.6616 - accuracy: 0.1490 - val_loss: 2.5331 - val_accuracy: 0.1668\n",
            "Epoch 4/50\n",
            "1355/1355 [==============================] - 3s 2ms/step - loss: 2.5812 - accuracy: 0.1534 - val_loss: 2.5156 - val_accuracy: 0.1655\n",
            "Epoch 5/50\n",
            "1355/1355 [==============================] - 3s 2ms/step - loss: 2.5196 - accuracy: 0.1568 - val_loss: 2.4793 - val_accuracy: 0.1703\n",
            "Epoch 6/50\n",
            "1355/1355 [==============================] - 3s 2ms/step - loss: 2.4897 - accuracy: 0.1628 - val_loss: 2.4475 - val_accuracy: 0.1922\n",
            "Epoch 7/50\n",
            "1355/1355 [==============================] - 3s 2ms/step - loss: 2.4427 - accuracy: 0.1885 - val_loss: 2.3600 - val_accuracy: 0.1951\n",
            "Epoch 8/50\n",
            "1355/1355 [==============================] - 3s 2ms/step - loss: 2.3911 - accuracy: 0.2053 - val_loss: 2.3500 - val_accuracy: 0.2061\n",
            "Epoch 9/50\n",
            "1355/1355 [==============================] - 3s 2ms/step - loss: 2.3240 - accuracy: 0.2195 - val_loss: 2.3991 - val_accuracy: 0.2090\n",
            "Epoch 10/50\n",
            "1355/1355 [==============================] - 3s 2ms/step - loss: 2.2795 - accuracy: 0.2274 - val_loss: 2.4073 - val_accuracy: 0.2209\n",
            "Epoch 11/50\n",
            "1355/1355 [==============================] - 3s 2ms/step - loss: 2.2404 - accuracy: 0.2385 - val_loss: 2.3325 - val_accuracy: 0.2489\n",
            "Epoch 12/50\n",
            "1355/1355 [==============================] - 3s 2ms/step - loss: 2.1800 - accuracy: 0.2541 - val_loss: 2.3418 - val_accuracy: 0.2411\n",
            "Epoch 13/50\n",
            "1355/1355 [==============================] - 3s 2ms/step - loss: 2.1448 - accuracy: 0.2709 - val_loss: 2.2840 - val_accuracy: 0.2634\n",
            "Epoch 14/50\n",
            "1355/1355 [==============================] - 3s 2ms/step - loss: 2.0964 - accuracy: 0.2805 - val_loss: 2.1723 - val_accuracy: 0.2894\n",
            "Epoch 15/50\n",
            "1355/1355 [==============================] - 3s 2ms/step - loss: 2.0595 - accuracy: 0.2913 - val_loss: 2.2286 - val_accuracy: 0.2965\n",
            "Epoch 16/50\n",
            "1355/1355 [==============================] - 3s 2ms/step - loss: 2.0373 - accuracy: 0.2937 - val_loss: 2.3616 - val_accuracy: 0.2956\n",
            "Epoch 17/50\n",
            "1355/1355 [==============================] - 3s 2ms/step - loss: 1.9984 - accuracy: 0.3080 - val_loss: 2.2551 - val_accuracy: 0.3506\n",
            "Epoch 18/50\n",
            "1355/1355 [==============================] - 3s 2ms/step - loss: 1.9612 - accuracy: 0.3200 - val_loss: 2.2542 - val_accuracy: 0.3513\n",
            "Epoch 19/50\n",
            "1355/1355 [==============================] - 3s 2ms/step - loss: 1.9198 - accuracy: 0.3420 - val_loss: 2.2095 - val_accuracy: 0.3677\n",
            "Epoch 20/50\n",
            "1355/1355 [==============================] - 3s 2ms/step - loss: 1.8703 - accuracy: 0.3667 - val_loss: 2.2292 - val_accuracy: 0.3632\n",
            "Epoch 21/50\n",
            "1355/1355 [==============================] - 3s 2ms/step - loss: 1.8201 - accuracy: 0.3838 - val_loss: 2.2007 - val_accuracy: 0.3442\n",
            "Epoch 22/50\n",
            "1355/1355 [==============================] - 3s 2ms/step - loss: 1.7884 - accuracy: 0.3939 - val_loss: 2.2478 - val_accuracy: 0.3767\n",
            "Epoch 23/50\n",
            "1355/1355 [==============================] - 3s 2ms/step - loss: 1.7606 - accuracy: 0.4026 - val_loss: 2.2824 - val_accuracy: 0.3406\n",
            "Epoch 24/50\n",
            "1355/1355 [==============================] - 3s 2ms/step - loss: 1.7184 - accuracy: 0.4138 - val_loss: 2.2934 - val_accuracy: 0.3789\n",
            "Epoch 25/50\n",
            "1355/1355 [==============================] - 3s 2ms/step - loss: 1.6927 - accuracy: 0.4311 - val_loss: 2.2465 - val_accuracy: 0.3638\n",
            "Epoch 26/50\n",
            "1355/1355 [==============================] - 3s 2ms/step - loss: 1.6633 - accuracy: 0.4480 - val_loss: 2.2308 - val_accuracy: 0.3387\n",
            "Epoch 27/50\n",
            "1355/1355 [==============================] - 3s 2ms/step - loss: 1.6263 - accuracy: 0.4609 - val_loss: 2.2834 - val_accuracy: 0.3519\n",
            "Epoch 28/50\n",
            "1355/1355 [==============================] - 3s 2ms/step - loss: 1.5858 - accuracy: 0.4790 - val_loss: 2.4388 - val_accuracy: 0.3571\n",
            "Epoch 29/50\n",
            "1355/1355 [==============================] - 3s 2ms/step - loss: 1.5553 - accuracy: 0.4922 - val_loss: 2.4407 - val_accuracy: 0.3738\n",
            "Epoch 30/50\n",
            "1355/1355 [==============================] - 3s 2ms/step - loss: 1.5318 - accuracy: 0.5025 - val_loss: 2.4859 - val_accuracy: 0.3574\n",
            "Epoch 31/50\n",
            "1355/1355 [==============================] - 3s 2ms/step - loss: 1.5132 - accuracy: 0.5070 - val_loss: 2.4958 - val_accuracy: 0.3654\n",
            "Epoch 32/50\n",
            "1355/1355 [==============================] - 3s 2ms/step - loss: 1.4830 - accuracy: 0.5146 - val_loss: 2.2723 - val_accuracy: 0.3854\n",
            "Epoch 33/50\n",
            "1355/1355 [==============================] - 3s 2ms/step - loss: 1.4698 - accuracy: 0.5228 - val_loss: 2.3837 - val_accuracy: 0.3860\n",
            "Epoch 34/50\n",
            "1355/1355 [==============================] - 3s 2ms/step - loss: 1.4459 - accuracy: 0.5310 - val_loss: 2.5970 - val_accuracy: 0.3835\n",
            "Epoch 35/50\n",
            "1355/1355 [==============================] - 3s 2ms/step - loss: 1.4218 - accuracy: 0.5404 - val_loss: 2.5196 - val_accuracy: 0.3638\n",
            "Epoch 36/50\n",
            "1355/1355 [==============================] - 3s 2ms/step - loss: 1.3999 - accuracy: 0.5476 - val_loss: 2.6833 - val_accuracy: 0.3760\n",
            "Epoch 37/50\n",
            "1355/1355 [==============================] - 3s 2ms/step - loss: 1.3883 - accuracy: 0.5497 - val_loss: 2.6878 - val_accuracy: 0.3822\n",
            "Epoch 38/50\n",
            "1355/1355 [==============================] - 3s 2ms/step - loss: 1.3700 - accuracy: 0.5578 - val_loss: 2.6325 - val_accuracy: 0.3886\n",
            "Epoch 39/50\n",
            "1355/1355 [==============================] - 3s 2ms/step - loss: 1.3627 - accuracy: 0.5654 - val_loss: 2.7040 - val_accuracy: 0.3799\n",
            "Epoch 40/50\n",
            "1355/1355 [==============================] - 3s 2ms/step - loss: 1.3440 - accuracy: 0.5757 - val_loss: 2.6905 - val_accuracy: 0.3979\n",
            "Epoch 41/50\n",
            "1355/1355 [==============================] - 3s 2ms/step - loss: 1.3205 - accuracy: 0.5813 - val_loss: 2.9474 - val_accuracy: 0.3851\n",
            "Epoch 42/50\n",
            "1355/1355 [==============================] - 3s 2ms/step - loss: 1.3171 - accuracy: 0.5843 - val_loss: 2.6107 - val_accuracy: 0.3899\n",
            "Epoch 43/50\n",
            "1355/1355 [==============================] - 3s 2ms/step - loss: 1.3070 - accuracy: 0.5856 - val_loss: 2.7025 - val_accuracy: 0.4047\n",
            "Epoch 44/50\n",
            "1355/1355 [==============================] - 3s 2ms/step - loss: 1.2950 - accuracy: 0.5934 - val_loss: 2.8481 - val_accuracy: 0.4076\n",
            "Epoch 45/50\n",
            "1355/1355 [==============================] - 3s 2ms/step - loss: 1.2804 - accuracy: 0.5963 - val_loss: 2.6908 - val_accuracy: 0.4234\n",
            "Epoch 46/50\n",
            "1355/1355 [==============================] - 3s 2ms/step - loss: 1.2789 - accuracy: 0.5979 - val_loss: 2.7921 - val_accuracy: 0.4131\n",
            "Epoch 47/50\n",
            "1355/1355 [==============================] - 3s 2ms/step - loss: 1.2612 - accuracy: 0.6041 - val_loss: 2.8232 - val_accuracy: 0.4076\n",
            "Epoch 48/50\n",
            "1355/1355 [==============================] - 3s 2ms/step - loss: 1.2585 - accuracy: 0.6038 - val_loss: 2.9155 - val_accuracy: 0.4221\n",
            "Epoch 49/50\n",
            "1355/1355 [==============================] - 3s 2ms/step - loss: 1.2548 - accuracy: 0.6065 - val_loss: 2.9475 - val_accuracy: 0.4279\n",
            "Epoch 50/50\n",
            "1355/1355 [==============================] - 3s 2ms/step - loss: 1.2287 - accuracy: 0.6148 - val_loss: 2.9140 - val_accuracy: 0.4221\n"
          ],
          "name": "stdout"
        }
      ]
    },
    {
      "cell_type": "code",
      "metadata": {
        "id": "tuuqublEs5lB"
      },
      "source": [
        "import matplotlib.pyplot as plt\n",
        "\n",
        "def plot_history(history,figname):\n",
        "  fig, axs = plt.subplots(2,figsize=(20,10))\n",
        "\n",
        "  # create the accuracy subplot\n",
        "  axs[0].plot(history.history[\"accuracy\"],label=\"train accuracy\")\n",
        "  axs[0].plot(history.history[\"val_accuracy\"],label=\"test accuracy\")\n",
        "  axs[0].set_ylabel(\"Accuracy\")\n",
        "  axs[0].legend(loc=\"best\")\n",
        "  axs[0].set_title(\"accuracy eval\")\n",
        "  axs[0].set_ylim(0, 1)\n",
        "\n",
        "  # create error subplot\n",
        "  axs[1].plot(history.history[\"loss\"],label=\"train error\")\n",
        "  axs[1].plot(history.history[\"val_loss\"],label=\"test error\")\n",
        "  axs[1].set_ylabel(\"Error\")\n",
        "  axs[1].set_xlabel(\"Epoch\")\n",
        "  axs[1].legend(loc=\"best\")\n",
        "  axs[1].set_title(\"Error eval\")\n",
        "  # axs[1].set_ylim(0, 1)\n",
        "\n",
        "  fig.savefig(figname)\n",
        "\n",
        "  plt.show()"
      ],
      "execution_count": null,
      "outputs": []
    },
    {
      "cell_type": "code",
      "metadata": {
        "id": "HddEsN1orJTF",
        "outputId": "48f9efe4-1927-48cd-8868-486fa4f6d3ad",
        "colab": {
          "base_uri": "https://localhost:8080/",
          "height": 456
        }
      },
      "source": [
        "plot_history(model_history,'neuron128(of).png')"
      ],
      "execution_count": null,
      "outputs": [
        {
          "output_type": "display_data",
          "data": {
            "image/png": "[encoded data removed]",
            "text/plain": [
              "<Figure size 1440x720 with 2 Axes>"
            ]
          },
          "metadata": {
            "tags": [],
            "needs_background": "light"
          }
        }
      ]
    },
    {
      "cell_type": "code",
      "metadata": {
        "id": "75MlYukV5WaC",
        "outputId": "b8c06c71-9c64-4e3d-f9f8-65b47b4db47f",
        "colab": {
          "base_uri": "https://localhost:8080/"
        }
      },
      "source": [
        "print(model_history.history[\"accuracy\"][-1])\n",
        "print(model_history.history[\"val_accuracy\"][-1])"
      ],
      "execution_count": 25,
      "outputs": [
        {
          "output_type": "stream",
          "text": [
            "0.6147953271865845\n",
            "0.42208629846572876\n"
          ],
          "name": "stdout"
        }
      ]
    },
    {
      "cell_type": "code",
      "metadata": {
        "id": "FNYmcz6EphM5"
      },
      "source": [
        "# Save the model\n",
        "model.save(\"sound_model1.h5\")"
      ],
      "execution_count": 26,
      "outputs": []
    },
    {
      "cell_type": "code",
      "metadata": {
        "id": "exjxihgqHCOO"
      },
      "source": [
        "# Load the model\n",
        "from tensorflow.keras.models import load_model\n",
        "voice_model = load_model(\"sound_model_trained.h5\")"
      ],
      "execution_count": null,
      "outputs": []
    },
    {
      "cell_type": "code",
      "metadata": {
        "id": "qRTTH3of7wjJ",
        "outputId": "5eb837dc-8cf5-4fc7-bda2-ca2e2e07c8f9",
        "colab": {
          "base_uri": "https://localhost:8080/"
        }
      },
      "source": [
        "model_loss, model_accuracy = model.evaluate(\n",
        "    X_test, y_test, verbose=2)\n",
        "print(\n",
        "    f\"Normal Neural Network - Loss: {model_loss}, Accuracy: {model_accuracy}\")"
      ],
      "execution_count": null,
      "outputs": [
        {
          "output_type": "stream",
          "text": [
            "210/210 - 0s - loss: 11.1195 - accuracy: 0.4115\n",
            "Normal Neural Network - Loss: 11.119521141052246, Accuracy: 0.41151896119117737\n"
          ],
          "name": "stdout"
        }
      ]
    },
    {
      "cell_type": "code",
      "metadata": {
        "id": "DAwhcxlHllFn",
        "outputId": "bf5dc325-fd7e-4582-8ce0-a8a5030c0e71",
        "colab": {
          "base_uri": "https://localhost:8080/"
        }
      },
      "source": [
        "# Calculate classification report\n",
        "class_names=[\"air_conditioner\",\n",
        "              \"car_horn\",\n",
        "             \"children_playing\",\n",
        "             \"dog_bark\",\n",
        "             \"drilling\",\n",
        "             \"engine_idling\",\n",
        "             \"gun_shot\",\n",
        "             \"jackhammer\",\n",
        "             \"siren\",\n",
        "             \"street_music\"]\n",
        "# convert output to simple array\n",
        "y_temp = []\n",
        "for i in range(len(y_test)):\n",
        "  y_temp.append(y_test[i][0])\n",
        "\n",
        "             \n",
        "from sklearn.metrics import classification_report\n",
        "predictions = model.predict_classes(X_test)\n",
        "print(classification_report(y_temp, predictions,\n",
        "                            target_names=class_names))"
      ],
      "execution_count": null,
      "outputs": [
        {
          "output_type": "stream",
          "text": [
            "                  precision    recall  f1-score   support\n",
            "\n",
            " air_conditioner       0.34      0.13      0.19       798\n",
            "        car_horn       0.34      0.25      0.29       473\n",
            "children_playing       0.28      0.40      0.33       786\n",
            "        dog_bark       0.42      0.61      0.49       594\n",
            "        drilling       0.30      0.28      0.29       664\n",
            "   engine_idling       0.62      0.34      0.44       832\n",
            "        gun_shot       0.80      0.71      0.75        90\n",
            "      jackhammer       0.60      0.43      0.50       762\n",
            "           siren       0.69      0.62      0.66       903\n",
            "    street_music       0.28      0.56      0.38       800\n",
            "\n",
            "        accuracy                           0.41      6702\n",
            "       macro avg       0.47      0.43      0.43      6702\n",
            "    weighted avg       0.45      0.41      0.41      6702\n",
            "\n"
          ],
          "name": "stdout"
        }
      ]
    },
    {
      "cell_type": "code",
      "metadata": {
        "id": "4kSCc74HRMWb"
      },
      "source": [
        "import pandas as pd\n",
        "\n",
        "df = pd.DataFrame({'Prediction':predictions.tolist(),\n",
        "              'Actual': y_temp}\n",
        "             )\n",
        "\n",
        "\n",
        "df.head()\n",
        "df.to_csv('neurons128.csv')"
      ],
      "execution_count": null,
      "outputs": []
    },
    {
      "cell_type": "code",
      "metadata": {
        "id": "VFRh8k8ML_58",
        "outputId": "0535e193-b26f-4208-f875-613a3816717f",
        "colab": {
          "base_uri": "https://localhost:8080/"
        }
      },
      "source": [
        "from sklearn.svm import SVC \n",
        "model = SVC(kernel='linear')\n",
        "model.fit(X_train, y_train)"
      ],
      "execution_count": null,
      "outputs": [
        {
          "output_type": "stream",
          "text": [
            "[2, 2, 2, 2, 4, 4, 4, 2, 2, 4, 2, 2, 2, 2, 2, 2, 2, 2, 2, 2, 2, 2, 2, 2, 2, 2, 2, 3, 3, 3, 3, 3, 3, 3, 3, 3, 3, 7, 5, 5, 5, 5, 5, 5, 5, 5, 5, 5, 5, 5, 5, 5, 5, 9, 9, 9, 9, 9, 9, 9, 9, 9, 9, 9, 9, 9, 9, 9, 9, 9, 9, 9, 9, 9, 9, 9, 9, 3, 3, 3, 3, 3, 3, 3, 3, 3, 3, 3, 3, 3, 3, 3, 3, 6, 0, 0, 8, 0, 8, 0, 0, 0, 0, 0, 0, 0, 0, 0, 8, 0, 8, 0, 8, 0, 8, 0, 8, 8, 8, 8, 8, 8, 8, 8, 8, 8, 0, 0, 0, 0, 0, 0, 0, 0, 0, 0, 0, 0, 0, 0, 0, 0, 0, 0, 8, 8, 8, 8, 8, 8, 8, 8, 0, 8, 0, 0, 0, 0, 4, 9, 9, 9, 9, 9, 9, 9, 9, 9, 9, 9, 9, 9, 9, 9, 9, 9, 9, 9, 4, 4, 4, 4, 4, 4, 4, 4, 4, 4, 4, 4, 4, 4, 4, 4, 9, 0, 4, 3, 9, 9, 0, 0, 2, 2, 9, 3, 9, 9, 8, 3, 3, 9, 9, 9, 9, 9, 9, 9, 9, 9, 9, 9, 9, 9, 9, 9, 9, 9, 9, 9, 9, 9, 9, 9, 9, 9, 9, 9, 9, 9, 9, 9, 9, 9, 9, 9, 9, 9, 9, 9, 9, 9, 9, 2, 9, 9, 9, 9, 9, 9, 9, 9, 9, 9, 9, 9, 9, 9, 9, 9, 9, 9, 9, 9, 9, 9, 9, 9, 6, 9, 6, 6, 6, 6, 6, 6, 9, 6, 6, 9, 6, 6, 6, 6, 6, 9, 6, 9, 6, 6, 6, 6, 6, 6, 6, 6, 6, 6, 6, 6, 6, 6, 3, 3, 3, 3, 3, 9, 3, 3, 3, 3, 2, 3, 2, 3, 4, 3, 4, 3, 3, 3, 3, 3, 4, 4, 7, 3, 4, 3, 4, 4, 4, 4, 4, 4, 4, 1, 1, 1, 1, 1, 4, 9, 9, 9, 7, 9, 7, 9, 9, 7, 9, 0, 0, 0, 0, 7, 7, 7, 7, 7, 5, 7, 5, 9, 5, 9, 5, 5, 9, 5, 9, 7, 7, 7, 7, 5, 8, 5, 8, 7, 5, 7, 5, 7, 9, 7, 9, 9, 0, 9, 9, 7, 9, 9, 0, 7, 9, 7, 9, 7, 7, 7, 9, 7, 9, 9, 9, 9, 7, 9, 7, 7, 9, 7, 9, 5, 7, 5, 7, 9, 9, 9, 9, 5, 7, 5, 7, 7, 9, 5, 5, 5, 5, 5, 5, 9, 5, 5, 9, 8, 5, 8, 5, 5, 5, 5, 5, 2, 5, 5, 5, 5, 5, 5, 5, 5, 5, 5, 5, 5, 5, 5, 5, 5, 5, 5, 5, 5, 5, 5, 5, 9, 5, 5, 5, 5, 9, 4, 4, 8, 4, 8, 4, 4, 4, 4, 4, 4, 4, 4, 4, 4, 4, 4, 8, 8, 7, 7, 4, 7, 7, 7, 4, 8, 7, 8, 7, 7, 8, 7, 8, 4, 7, 4, 4, 7, 7, 7, 4, 4, 7, 4, 7, 9, 7, 9, 7, 7, 7, 7, 7, 4, 4, 4, 4, 4, 4, 7, 7, 7, 7, 7, 7, 7, 7, 7, 7, 7, 7, 7, 7, 7, 7, 4, 7, 7, 4, 4, 0, 0, 0, 4, 0, 0, 0, 0, 0, 0, 0, 4, 4, 4, 4, 4, 4, 4, 4, 4, 4, 4, 4, 4, 4, 7, 0, 0, 0, 0, 0, 4, 4, 4, 4, 4, 4, 4, 4, 0, 0, 0, 4, 4, 4, 9, 0, 0, 0, 0, 0, 0, 0, 0, 0, 4, 4, 4, 4, 0, 0, 0, 0, 4, 4, 4, 4, 0, 0, 0, 0, 4, 4, 4, 4, 0, 0, 0, 0, 9, 9, 0, 4, 0, 4, 4, 7, 4, 4, 4, 4, 4, 4, 4, 4, 9, 9, 9, 9, 9, 9, 9, 9, 9, 9, 9, 9, 9, 9, 9, 9, 9, 9, 9, 9, 9, 9, 9, 9, 9, 9, 0, 9, 0, 9, 9, 9, 9, 9, 9, 9, 9, 9, 9, 9, 9, 9, 9, 9, 9, 9, 9, 9, 9, 9, 9, 9, 9, 9, 9, 9, 6, 6, 6, 4, 8, 4, 4, 4, 4, 4, 9, 4, 9, 4, 4, 4, 4, 4, 4, 4, 7, 7, 4, 7, 4, 4, 4, 4, 4, 4, 4, 4, 7, 4, 4, 4, 4, 4, 4, 4, 9, 9, 4, 9, 4, 4, 4, 4, 4, 4, 4, 5, 5, 5, 5, 5, 8, 8, 8, 8, 8, 8, 2, 8, 2, 2, 2, 2, 2, 2, 2, 2, 2, 2, 2, 9, 2, 9, 2, 8, 2, 8, 8, 9, 8, 9, 2, 2, 2, 2, 2, 2, 2, 2, 8, 8, 8, 8, 8, 8, 8, 8, 8, 8, 2, 8, 9, 8, 8, 8, 8, 8, 8, 8, 8, 2, 9, 8, 9, 2, 9, 2, 9, 2, 9, 2, 2, 2, 2, 2, 2, 2, 2, 2, 2, 2, 2, 2, 2, 2, 2, 2, 2, 2, 3, 4, 7, 4, 4, 4, 4, 4, 4, 4, 4, 4, 4, 4, 4, 4, 4, 4, 4, 4, 4, 4, 4, 4, 4, 4, 2, 2, 5, 2, 5, 2, 9, 5, 9, 5, 5, 2, 5, 2, 5, 3, 5, 3, 3, 4, 3, 4, 4, 4, 4, 4, 4, 4, 4, 4, 7, 4, 7, 4, 4, 4, 9, 2, 6, 3, 3, 3, 3, 4, 3, 3, 3, 3, 3, 3, 3, 3, 3, 3, 3, 6, 2, 5, 5, 5, 5, 5, 5, 5, 5, 8, 3, 3, 5, 5, 5, 8, 5, 8, 5, 5, 0, 5, 0, 5, 5, 5, 5, 7, 8, 7, 8, 3, 3, 3, 3, 3, 3, 3, 3, 8, 8, 8, 8, 8, 3, 6, 3, 2, 8, 9, 9, 9, 9, 8, 9, 8, 2, 8, 8, 8, 8, 8, 8, 8, 8, 8, 8, 8, 8, 9, 9, 9, 9, 8, 8, 8, 8, 8, 8, 8, 8, 8, 8, 8, 8, 8, 8, 8, 8, 8, 8, 8, 8, 8, 9, 8, 9, 8, 8, 8, 9, 8, 8, 8, 8, 2, 8, 8, 8, 8, 8, 8, 8, 8, 8, 8, 8, 8, 8, 8, 8, 8, 8, 8, 8, 8, 8, 8, 8, 8, 8, 8, 8, 8, 2, 8, 8, 8, 8, 8, 8, 8, 8, 8, 8, 8, 9, 8, 9, 8, 8, 8, 8, 8, 8, 8, 8, 8, 8, 8, 8, 8, 8, 8, 8, 9, 8, 8, 8, 8, 8, 8, 8, 8, 8, 8, 8, 8, 8, 8, 8, 8, 8, 8, 8, 8, 8, 9, 8, 9, 9, 8, 9, 8, 8, 8, 8, 9, 8, 9, 8, 8, 8, 8, 3, 9, 4, 8, 4, 3, 3, 3, 3, 8, 8, 8, 8, 4, 3, 4, 3, 3, 4, 3, 4, 8, 4, 8, 4, 4, 3, 7, 0, 7, 4, 4, 3, 3, 3, 3, 0, 5, 5, 5, 5, 5, 5, 5, 5, 5, 5, 5, 5, 5, 5, 5, 5, 5, 5, 5, 5, 5, 5, 5, 5, 5, 5, 5, 5, 5, 5, 5, 5, 5, 5, 0, 5, 5, 5, 5, 5, 5, 5, 5, 4, 4, 4, 4, 4, 4, 4, 4, 4, 4, 4, 4, 4, 4, 4, 4, 4, 4, 4, 4, 4, 4, 4, 4, 4, 4, 4, 4, 4, 4, 4, 4, 4, 4, 4, 4, 4, 4, 4, 4, 4, 4, 4, 4, 4, 4, 4, 4, 4, 4, 4, 4, 4, 4, 4, 4, 4, 4, 4, 4, 4, 4, 4, 4, 9, 9, 9, 0, 9, 0, 9, 9, 9, 9, 9, 9, 9, 0, 9, 7, 9, 9, 9, 9, 9, 3, 7, 0, 9, 9, 0, 2, 0, 2, 0, 9, 7, 9, 0, 0, 9, 9, 0, 9, 9, 9, 0, 9, 9, 9, 9, 0, 9, 9, 9, 3, 7, 5, 9, 9, 1, 7, 1, 4, 7, 9, 5, 4, 7, 4, 4, 1, 9, 9, 9, 9, 9, 9, 4, 4, 4, 4, 9, 9, 9, 9, 1, 7, 8, 4, 8, 8, 8, 8, 1, 8, 8, 8, 8, 8, 1, 8, 8, 8, 8, 8, 4, 8, 4, 8, 8, 8, 8, 8, 8, 8, 3, 2, 8, 2, 4, 4, 4, 4, 4, 4, 4, 7, 4, 4, 7, 4, 4, 4, 4, 4, 4, 4, 4, 4, 4, 4, 4, 4, 4, 7, 7, 4, 4, 4, 4, 7, 7, 4, 4, 4, 4, 4, 4, 4, 4, 4, 4, 4, 4, 7, 7, 4, 4, 4, 4, 4, 4, 4, 4, 4, 4, 9, 9, 9, 9, 5, 9, 4, 4, 4, 4, 4, 9, 9, 9, 9, 4, 9, 9, 9, 9, 9, 9, 9, 9, 3, 3, 3, 3, 3, 3, 6, 6, 3, 3, 3, 3, 3, 3, 3, 3, 0, 0, 0, 0, 0, 0, 3, 2, 0, 3, 2, 0, 8, 8, 4, 8, 9, 8, 2, 9, 2, 2, 9, 8, 9, 3, 4, 9, 7, 9, 9, 3, 9, 9, 9, 5, 9, 3, 3, 2, 8, 8, 3, 3, 2, 9, 2, 9, 2, 2, 2, 2, 2, 2, 2, 2, 2, 9, 2, 2, 0, 9, 9, 9, 2, 2, 2, 2, 2, 2, 2, 2, 2, 9, 3, 2, 1, 8, 3, 2, 2, 2, 2, 2, 3, 8, 3, 8, 2, 2, 2, 2, 3, 3, 2, 2, 2, 3, 3, 2, 2, 2, 3, 3, 3, 2, 3, 3, 3, 3, 4, 2, 0, 0, 0, 0, 0, 3, 0, 3, 0, 2, 2, 8, 9, 3, 4, 2, 2, 2, 2, 2, 9, 2, 2, 2, 2, 2, 8, 2, 2, 2, 0, 9, 9, 9, 7, 9, 7, 9, 9, 9, 2, 2, 8, 4, 9, 9, 9, 6, 8, 3, 6, 3, 6, 3, 9, 4, 3, 3, 2, 3, 3, 3, 3, 4, 3, 9, 3, 3, 8, 8, 8, 0, 8, 3, 3, 2, 2, 0, 0, 0, 0, 0, 9, 0, 9, 9, 0, 9, 0, 0, 9, 0, 9, 9, 0, 9, 0, 0, 9, 0, 9, 9, 0, 0, 0, 9, 0, 2, 0, 0, 9, 2, 2, 2, 2, 2, 2, 2, 2, 2, 2, 8, 2, 2, 2, 2, 2, 2, 2, 2, 2, 2, 2, 2, 2, 2, 2, 2, 2, 2, 2, 2, 2, 5, 0, 0, 0, 0, 0, 3, 0, 0, 0, 5, 0, 0, 0, 0, 0, 5, 5, 5, 5, 5, 5, 5, 9, 2, 2, 2, 2, 3, 2, 2, 2, 3, 2, 2, 2, 9, 2, 2, 2, 2, 3, 2, 2, 2, 2, 2, 2, 2, 2, 2, 3, 2, 3, 2, 2, 9, 9, 9, 9, 9, 9, 9, 9, 9, 9, 9, 9, 9, 9, 9, 9, 9, 9, 9, 9, 8, 8, 0, 8, 0, 0, 0, 0, 0, 0, 0, 0, 0, 0, 0, 0, 0, 0, 0, 0, 0, 0, 0, 0, 0, 0, 0, 0, 0, 0, 0, 0, 0, 0, 0, 0, 0, 8, 8, 0, 0, 0, 0, 0, 0, 0, 0, 0, 0, 0, 0, 0, 0, 0, 0, 0, 0, 0, 0, 0, 0, 0, 0, 0, 0, 0, 0, 0, 0, 0, 0, 0, 0, 0, 0, 0, 0, 0, 0, 0, 0, 0, 0, 0, 0, 0, 0, 0, 0, 0, 0, 0, 2, 3, 2, 2, 2, 4, 4, 4, 4, 4, 4, 4, 3, 3, 3, 3, 3, 3, 3, 2, 3, 3, 0, 0, 0, 0, 4, 9, 5, 2, 9, 0, 2, 9, 9, 2, 2, 2, 2, 2, 2, 2, 9, 4, 2, 2, 2, 2, 9, 9, 9, 2, 2, 2, 9, 2, 2, 9, 9, 2, 2, 3, 9, 0, 3, 0, 3, 4, 4, 4, 4, 4, 9, 4, 9, 9, 4, 9, 4, 4, 4, 5, 5, 5, 5, 5, 5, 5, 5, 5, 5, 5, 5, 5, 5, 5, 5, 7, 9, 9, 0, 7, 9, 5, 0, 9, 0, 7, 9, 5, 3, 9, 9, 9, 9, 9, 9, 9, 9, 9, 9, 4, 9, 9, 5, 9, 7, 4, 7, 9, 9, 4, 7, 9, 9, 5, 5, 9, 4, 4, 9, 6, 4, 9, 9, 9, 9, 9, 6, 9, 9, 4, 4, 9, 4, 9, 9, 7, 9, 7, 9, 9, 9, 9, 9, 7, 4, 9, 4, 9, 9, 9, 5, 5, 6, 9, 4, 4, 9, 5, 4, 9, 9, 9, 4, 9, 4, 9, 9, 9, 9, 9, 9, 9, 9, 4, 7, 9, 7, 7, 9, 9, 9, 4, 9, 4, 9, 9, 9, 9, 9, 4, 9, 9, 9, 5, 5, 5, 9, 5, 0, 0, 0, 9, 9, 5, 5, 9, 9, 9, 9, 7, 7, 0, 7, 5, 9, 7, 0, 7, 7, 7, 7, 9, 7, 7, 7, 7, 7, 7, 7, 7, 8, 2, 2, 2, 2, 2, 8, 8, 8, 8, 2, 2, 2, 2, 8, 8, 8, 8, 2, 8, 2, 8, 8, 8, 8, 8, 8, 8, 8, 8, 9, 8, 9, 8, 8, 8, 8, 8, 3, 8, 3, 8, 8, 5, 8, 5, 8, 8, 8, 8, 2, 8, 8, 8, 8, 8, 8, 8, 8, 8, 8, 8, 8, 8, 8, 8, 8, 8, 8, 8, 8, 8, 8, 8, 8, 2, 8, 2, 3, 2, 3, 2, 3, 8, 3, 8, 2, 8, 2, 8, 3, 8, 2, 8, 2, 2, 3, 8, 8, 2, 8, 2, 8, 8, 8, 8, 2, 8, 3, 8, 8, 8, 8, 8, 8, 8, 3, 8, 8, 8, 8, 8, 2, 5, 2, 5, 3, 2, 3, 2, 2, 8, 2, 8, 8, 8, 2, 2, 8, 8, 8, 8, 8, 5, 8, 5, 5, 8, 5, 8, 8, 2, 8, 2, 8, 8, 8, 8, 8, 2, 8, 2, 9, 8, 9, 8, 9, 2, 9, 2, 9, 5, 9, 5, 8, 8, 8, 8, 8, 9, 8, 8, 2, 2, 8, 9, 4, 8, 4, 8, 8, 9, 8, 9, 4, 2, 4, 2, 8, 8, 8, 8, 8, 8, 8, 8, 8, 8, 8, 8, 8, 8, 8, 8, 8, 8, 8, 8, 8, 8, 8, 8, 8, 8, 2, 2, 2, 8, 8, 8, 8, 8, 8, 8, 8, 8, 8, 8, 8, 8, 8, 8, 8, 8, 8, 8, 8, 8, 8, 8, 8, 8, 8, 8, 8, 8, 8, 8, 8, 8, 8, 8, 8, 8, 8, 8, 8, 8, 2, 8, 2, 2, 8, 8, 8, 8, 8, 8, 8, 8, 8, 8, 8, 8, 8, 8, 8, 8, 8, 8, 8, 8, 8, 8, 8, 8, 8, 8, 2, 3, 2, 3, 8, 8, 8, 8, 8, 8, 8, 8, 8, 8, 8, 2, 2, 8, 8, 8, 3, 8, 3, 8, 8, 8, 8, 8, 8, 3, 8, 3, 3, 8, 3, 8, 8, 8, 8, 8, 3, 8, 3, 8, 8, 8, 8, 8, 8, 8, 8, 8, 8, 8, 8, 8, 8, 8, 2, 8, 8, 8, 8, 8, 8, 8, 8, 8, 8, 8, 8, 8, 8, 8, 8, 8, 2, 3, 2, 3, 2, 8, 2, 8, 2, 8, 8, 8, 2, 2, 8, 2, 2, 8, 2, 8, 8, 2, 8, 2, 2, 2, 3, 3, 3, 2, 4, 4, 4, 4, 4, 4, 4, 4, 4, 4, 4, 4, 2, 2, 2, 2, 2, 2, 2, 2, 2, 2, 2, 2, 2, 2, 2, 2, 2, 2, 2, 2, 2, 2, 2, 2, 2, 2, 2, 2, 3, 3, 3, 3, 3, 3, 3, 3, 2, 2, 2, 2, 9, 2, 9, 2, 2, 9, 9, 9, 9, 2, 9, 2, 2, 2, 2, 9, 9, 9, 2, 9, 2, 2, 9, 2, 3, 3, 6, 3, 3, 3, 3, 2, 9, 9, 9, 9, 9, 9, 9, 2, 9, 9, 9, 9, 9, 9, 2, 9, 9, 9, 2, 9, 9, 2, 2, 9, 9, 3, 3, 3, 2, 3, 2, 3, 2, 3, 2, 0, 6, 3, 3, 3, 3, 3, 3, 6, 9, 9, 9, 9, 9, 9, 9, 9, 9, 9, 9, 9, 9, 9, 9, 9, 2, 2, 0, 2, 3, 2, 2, 2, 3, 3, 3, 3, 3, 3, 3, 3, 3, 4, 6, 2, 9, 9, 4, 4, 9, 9, 1, 1, 9, 9, 9, 2, 9, 1, 9, 3, 1, 3, 9, 9, 2, 4, 4, 4, 4, 4, 4, 3, 4, 4, 4, 4, 4, 4, 4, 4, 4, 4, 4, 4, 4, 4, 4, 4, 4, 4, 4, 4, 4, 3, 3, 6, 5, 5, 5, 5, 5, 5, 5, 5, 5, 5, 5, 5, 5, 5, 5, 5, 5, 5, 5, 5, 5, 5, 5, 5, 3, 3, 8, 2, 2, 2, 3, 8, 8, 2, 2, 3, 2, 2, 2, 9, 2, 5, 8, 8, 0, 5, 5, 0, 2, 0, 0, 5, 2, 0, 0, 0, 0, 0, 0, 0, 0, 9, 9, 9, 9, 9, 7, 4, 9, 0, 7, 7, 7, 7, 7, 7, 7, 9, 7, 9, 4, 0, 9, 7, 9, 7, 9, 7, 7, 0, 4, 7, 9, 9, 9, 0, 0, 0, 0, 0, 0, 5, 9, 0, 0, 0, 0, 9, 9, 5, 5, 9, 0, 0, 0, 0, 0, 0, 0, 0, 9, 0, 5, 9, 9, 9, 5, 5, 0, 9, 0, 9, 0, 0, 0, 0, 0, 0, 0, 0, 0, 9, 9, 9, 9, 0, 0, 0, 0, 0, 9, 9, 9, 0, 0, 0, 0, 2, 9, 9, 0, 0, 0, 0, 5, 5, 5, 5, 0, 0, 5, 0, 0, 0, 0, 0, 0, 0, 0, 0, 0, 0, 0, 0, 9, 3, 9, 2, 9, 9, 9, 9, 9, 9, 9, 9, 9, 9, 9, 9, 4, 4, 9, 9, 7, 3, 3, 9, 2, 3, 2, 8, 2, 8, 8, 8, 8, 8, 3, 8, 3, 8, 8, 8, 8, 8, 8, 2, 8, 2, 2, 8, 9, 9, 9, 9, 9, 9, 9, 9, 8, 9, 9, 9, 9, 9, 9, 9, 9, 9, 2, 9, 2, 9, 9, 9, 3, 9, 3, 3, 9, 9, 9, 9, 9, 9, 9, 9, 8, 9, 9, 9, 9, 3, 9, 9, 9, 9, 9, 9, 0, 0, 9, 9, 9, 9, 2, 2, 2, 2, 9, 9, 9, 9, 2, 9, 3, 3, 3, 3, 3, 3, 3, 3, 3, 3, 3, 3, 3, 3, 2, 3, 4, 9, 7, 7, 7, 7, 7, 6, 3, 3, 4, 3, 3, 3, 3, 3, 3, 3, 3, 3, 3, 3, 3, 3, 3, 3, 3, 3, 3, 3, 3, 3, 3, 3, 3, 3, 4, 9, 9, 7, 9, 7, 7, 9, 7, 9, 9, 7, 9, 7, 7, 7, 7, 7, 4, 4, 4, 4, 9, 9, 9, 9, 9, 9, 9, 9, 9, 9, 7, 4, 4, 1, 1, 1, 1, 1, 1, 1, 1, 1, 1, 1, 1, 1, 1, 1, 1, 9, 9, 9, 9, 9, 9, 9, 9, 9, 9, 9, 9, 9, 9, 1, 1, 1, 1, 1, 1, 1, 1, 9, 1, 9, 0, 0, 0, 0, 0, 9, 0, 9, 9, 1, 9, 1, 9, 1, 1, 1, 1, 1, 1, 1, 1, 9, 9, 9, 9, 1, 1, 1, 1, 4, 9, 9, 0, 0, 0, 0, 0, 5, 9, 5, 9, 9, 9, 9, 9, 9, 9, 9, 9, 9, 0, 9, 0, 0, 9, 0, 9, 9, 9, 9, 9, 9, 9, 3, 3, 3, 3, 3, 3, 3, 3, 3, 3, 3, 3, 4, 4, 4, 9, 4, 9, 3, 3, 3, 3, 3, 3, 3, 3, 3, 3, 3, 3, 3, 3, 9, 5, 9, 0, 0, 0, 0, 0, 0, 0, 0, 0, 0, 0, 5, 5, 5, 5, 5, 9, 0, 0, 0, 5, 9, 5, 9, 9, 9, 5, 2, 9, 9, 9, 2, 2, 9, 2, 9, 9, 9, 9, 0, 2, 4, 9, 5, 5, 0, 5, 5, 5, 5, 5, 5, 0, 5, 0, 0, 0, 0, 0, 0, 0, 0, 0, 0, 0, 0, 0, 0, 0, 5, 5, 0, 0, 5, 0, 3, 3, 3, 3, 3, 3, 3, 3, 3, 3, 8, 8, 8, 8, 2, 8, 8, 8, 8, 8, 8, 8, 3, 3, 2, 2, 2, 2, 2, 2, 2, 9, 3, 2, 3, 2, 9, 9, 9, 9, 7, 9, 9, 9, 9, 9, 9, 0, 0, 0, 9, 9, 9, 9, 2, 2, 2, 2, 2, 2, 2, 2, 2, 2, 2, 2, 2, 2, 2, 2, 2, 2, 2, 2, 2, 2, 2, 2, 2, 2, 2, 2, 2, 2, 2, 2, 4, 9, 9, 7, 9, 7, 9, 9, 9, 5, 5, 5, 5, 5, 9, 5, 9, 5, 9, 5, 9, 5, 9, 9, 9, 9, 9, 5, 9, 5, 5, 5, 5, 5, 5, 9, 5, 9, 5, 9, 5, 9, 9, 9, 9, 9, 2, 5, 9, 9, 9, 2, 2, 5, 5, 9, 5, 9, 5, 5, 5, 5, 5, 9, 5, 9, 9, 9, 9, 9, 9, 5, 9, 5, 9, 9, 9, 9, 9, 9, 9, 9, 9, 9, 9, 9, 9, 9, 9, 9, 9, 5, 9, 2, 9, 5, 9, 5, 9, 5, 9, 5, 9, 9, 9, 9, 5, 9, 5, 9, 9, 9, 9, 9, 4, 9, 4, 9, 9, 9, 9, 9, 9, 5, 8, 3, 3, 3, 3, 3, 3, 3, 3, 3, 3, 3, 4, 4, 4, 4, 4, 4, 4, 4, 4, 4, 4, 2, 4, 2, 4, 4, 4, 4, 4, 4, 4, 4, 4, 4, 4, 4, 4, 4, 4, 2, 2, 8, 7, 7, 7, 7, 7, 7, 7, 7, 7, 7, 7, 7, 7, 7, 7, 7, 7, 7, 7, 7, 7, 7, 7, 7, 7, 7, 7, 7, 7, 7, 7, 7, 7, 7, 7, 7, 3, 7, 7, 7, 7, 7, 7, 7, 7, 7, 7, 7, 7, 7, 7, 7, 7, 7, 7, 7, 7, 4, 7, 4, 7, 4, 7, 7, 4, 7, 7, 4, 7, 7, 7, 7, 7, 7, 7, 7, 7, 7, 7, 7, 7, 7, 7, 7, 7, 7, 7, 7, 7, 7, 7, 7, 7, 4, 7, 7, 7, 7, 7, 7, 7, 7, 4, 4, 4, 7, 7, 4, 7, 7, 7, 7, 7, 7, 7, 7, 7, 7, 7, 7, 7, 7, 7, 7, 7, 7, 7, 7, 7, 7, 7, 7, 7, 7, 7, 7, 4, 7, 7, 7, 7, 7, 7, 7, 7, 7, 7, 7, 7, 7, 7, 7, 7, 7, 7, 7, 7, 7, 7, 7, 7, 7, 7, 7, 7, 7, 7, 7, 7, 7, 7, 7, 7, 7, 7, 7, 7, 7, 7, 7, 7, 7, 7, 7, 7, 7, 7, 7, 7, 7, 7, 7, 7, 7, 7, 7, 4, 4, 4, 4, 4, 4, 4, 7, 4, 7, 7, 4, 4, 7, 7, 7, 7, 7, 7, 7, 7, 7, 7, 7, 7, 7, 7, 4, 7, 7, 7, 7, 7, 7, 7, 7, 7, 7, 7, 7, 3, 3, 9, 9, 3, 4, 4, 4, 6, 9, 4, 0, 4, 0, 4, 0, 4, 0, 0, 9, 9, 9, 4, 4, 5, 5, 5, 5, 5, 5, 5, 5, 5, 5, 5, 5, 9, 9, 9, 9, 9, 9, 9, 9, 9, 9, 9, 9, 9, 9, 9, 9, 9, 9, 9, 9, 9, 9, 2, 9, 3, 3, 3, 9, 3, 3, 3, 3, 3, 9, 9, 3, 9, 2, 9, 3, 3, 3, 3, 3, 3, 3, 3, 2, 3, 3, 2, 2, 2, 2, 2, 2, 4, 8, 8, 3, 8, 3, 8, 8, 8, 8, 8, 8, 8, 8, 8, 3, 8, 3, 4, 8, 4, 8, 4, 8, 4, 8, 8, 8, 8, 8, 8, 8, 8, 8, 8, 3, 8, 3, 3, 8, 3, 8, 4, 8, 4, 8, 4, 4, 8, 8, 4, 8, 4, 4, 8, 8, 8, 8, 8, 8, 8, 8, 8, 3, 4, 8, 3, 8, 3, 8, 8, 8, 8, 8, 8, 8, 8, 8, 3, 4, 3, 4, 4, 4, 4, 4, 8, 8, 8, 8, 8, 8, 9, 9, 9, 9, 9, 9, 9, 9, 9, 9, 9, 9, 9, 9, 9, 9, 9, 9, 9, 9, 9, 9, 9, 9, 3, 0, 9, 0, 9, 0, 2, 9, 2, 9, 9, 9, 9, 9, 9, 9, 9, 9, 9, 9, 9, 9, 9, 3, 3, 9, 0, 9, 9, 9, 9, 9, 9, 9, 9, 9, 9, 9, 9, 9, 9, 9, 9, 9, 9, 9, 9, 9, 9, 9, 9, 9, 9, 9, 9, 9, 9, 9, 9, 9, 9, 9, 9, 9, 9, 9, 9, 9, 9, 9, 9, 9, 0, 9, 0, 9, 0, 9, 0, 0, 9, 9, 9, 9, 9, 9, 9, 9, 9, 5, 7, 5, 5, 5, 5, 5, 5, 5, 5, 5, 5, 8, 7, 8, 8, 9, 9, 9, 9, 9, 9, 5, 9, 5, 5, 9, 9, 5, 5, 9, 9, 9, 9, 9, 5, 9, 9, 9, 9, 2, 2, 9, 9, 9, 4, 0, 9, 9, 9, 9, 9, 9, 9, 9, 9, 9, 9, 9, 9, 9, 9, 9, 3, 9, 9, 9, 9, 9, 9, 9, 9, 9, 9, 9, 9, 2, 2, 8, 2, 8, 2, 2, 6, 6, 6, 6, 6, 6, 6, 6, 6, 6, 0, 5, 9, 0, 2, 9, 1, 4, 9, 5, 9, 1, 9, 5, 2, 5, 9, 9, 0, 0, 0, 0, 0, 9, 2, 2, 9, 2, 9, 2, 2, 9, 2, 2, 2, 9, 2, 9, 2, 2, 2, 2, 2, 2, 2, 9, 9, 5, 5, 5, 5, 5, 5, 5, 5, 5, 5, 5, 9, 9, 9, 9, 9, 5, 9, 5, 5, 5, 5, 5, 5, 2, 5, 2, 2, 2, 9, 5, 5, 5, 9, 9, 9, 9, 9, 9, 9, 9, 9, 9, 9, 9, 9, 9, 9, 9, 9, 9, 9, 9, 9, 9, 2, 9, 2, 9, 2, 2, 2, 2, 2, 2, 2, 2, 2, 2, 3, 8, 8, 8, 8, 8, 8, 8, 1, 1, 9, 9, 9, 4, 4, 4, 8, 8, 8, 3, 8, 3, 3, 3, 3, 3, 4, 3, 8, 3, 8, 9, 8, 9, 1, 1, 1, 1, 3, 3, 3, 3, 9, 4, 9, 4, 1, 1, 8, 8, 8, 8, 2, 2, 2, 2, 2, 2, 2, 2, 2, 2, 0, 8, 9, 2, 2, 0, 2, 2, 2, 2, 5, 0, 2, 5, 2, 5, 0, 9, 6, 6, 2, 6, 6, 6, 2, 6, 2, 6, 2, 6, 3, 8, 8, 4, 8, 3, 9, 8, 2, 2, 2, 2, 3, 2, 9, 0, 2, 3, 2, 2, 2, 3, 8, 3, 8, 3, 8, 2, 2, 2, 3, 8, 3, 8, 2, 2, 2, 2, 2, 2, 9, 2, 9, 9, 0, 9, 9, 9, 0, 0, 9, 9, 0, 9, 9, 9, 9, 9, 0, 9, 0, 9, 9, 9, 9, 9, 9, 0, 9, 0, 9, 9, 3, 6, 6, 6, 6, 6, 6, 6, 6, 6, 6, 2, 9, 2, 9, 2, 9, 9, 9, 2, 9, 9, 9, 9, 9, 9, 9, 9, 9, 9, 9, 9, 0, 3, 9, 8, 8, 8, 2, 8, 2, 8, 8, 8, 8, 8, 8, 8, 8, 8, 8, 8, 8, 8, 8, 8, 8, 8, 8, 8, 8, 8, 8, 8, 8, 8, 8, 9, 2, 9, 9, 9, 2, 9, 4, 9, 0, 9, 9, 9, 9, 9, 9, 9, 9, 9, 9, 9, 9, 9, 9, 9, 9, 9, 9, 9, 9, 9, 9, 9, 9, 0, 9, 9, 9, 9, 9, 9, 0, 2, 2, 2, 2, 2, 2, 2, 2, 2, 9, 0, 0, 9, 9, 0, 2, 2, 2, 3, 2, 2, 2, 3, 3, 3, 3, 3, 8, 3, 8, 3, 4, 5, 5, 5, 5, 5, 5, 5, 5, 5, 5, 5, 5, 5, 5, 5, 5, 5, 5, 5, 5, 5, 5, 5, 5, 5, 5, 5, 5, 5, 5, 5, 5, 5, 5, 5, 5, 5, 5, 5, 5, 5, 5, 5, 5, 5, 5, 5, 5, 5, 5, 5, 5, 5, 5, 5, 5, 5, 5, 5, 5, 5, 5, 5, 5, 5, 5, 5, 5, 5, 5, 5, 5, 5, 5, 5, 5, 5, 5, 5, 5, 5, 5, 5, 5, 5, 5, 5, 5, 5, 5, 5, 5, 5, 5, 5, 5, 5, 5, 5, 5, 5, 5, 5, 5, 5, 5, 5, 5, 5, 5, 5, 5, 5, 5, 5, 5, 5, 5, 5, 5, 5, 5, 5, 5, 5, 5, 5, 5, 4, 4, 4, 4, 4, 4, 4, 4, 4, 4, 4, 4, 4, 4, 4, 4, 4, 4, 4, 4, 4, 4, 4, 4, 7, 7, 7, 7, 7, 7, 7, 7, 7, 7, 7, 7, 7, 7, 7, 7, 7, 7, 7, 7, 7, 7, 5, 7, 5, 7, 7, 7, 7, 7, 7, 7, 7, 7, 7, 7, 7, 7, 5, 7, 5, 7, 7, 7, 7, 7, 7, 7, 0, 7, 7, 7, 7, 7, 7, 7, 7, 7, 7, 7, 7, 7, 7, 7, 7, 7, 7, 7, 7, 7, 7, 7, 7, 7, 0, 7, 0, 7, 7, 7, 7, 7, 7, 4, 7, 4, 0, 7, 0, 7, 7, 7, 7, 7, 7, 5, 7, 5, 7, 5, 7, 5, 0, 5, 0, 5, 5, 7, 5, 7, 7, 7, 5, 7, 7, 7, 7, 7, 7, 7, 7, 7, 5, 0, 0, 7, 3, 3, 3, 3, 3, 3, 3, 3, 3, 3, 3, 2, 3, 3, 3, 3, 2, 8, 2, 2, 2, 8, 2, 2, 2, 2, 8, 8, 8, 8, 8, 8, 8, 8, 2, 8, 2, 8, 9, 2, 9, 2, 8, 8, 8, 8, 2, 8, 2, 8, 2, 2, 2, 2, 2, 2, 2, 2, 2, 2, 2, 2, 2, 2, 2, 2, 2, 2, 8, 8, 8, 8, 8, 8, 2, 2, 2, 2, 2, 2, 8, 2, 8, 8, 8, 8, 8, 8, 8, 8, 8, 2, 8, 2, 2, 2, 2, 2, 8, 8, 8, 8, 8, 8, 8, 8, 8, 8, 2, 2, 2, 2, 2, 2, 2, 2, 2, 2, 2, 2, 8, 2, 2, 2, 2, 2, 2, 2, 3, 2, 2, 2, 2, 2, 2, 2, 2, 2, 2, 2, 2, 2, 2, 3, 2, 3, 2, 2, 2, 2, 2, 9, 2, 2, 2, 2, 2, 2, 8, 2, 2, 2, 2, 2, 2, 2, 2, 2, 2, 5, 2, 2, 2, 2, 9, 1, 2, 2, 2, 9, 5, 2, 2, 2, 2, 2, 2, 2, 1, 2, 2, 2, 2, 2, 2, 9, 3, 3, 3, 3, 3, 3, 3, 3, 3, 3, 3, 3, 3, 3, 9, 3, 2, 4, 4, 4, 4, 4, 4, 3, 4, 4, 4, 4, 4, 4, 4, 4, 4, 4, 4, 4, 4, 4, 4, 4, 4, 4, 4, 4, 4, 4, 4, 6, 4, 6, 3, 2, 3, 9, 4, 4, 2, 4, 3, 9, 4, 4, 4, 4, 4, 4, 4, 4, 4, 4, 4, 4, 4, 4, 4, 4, 9, 9, 9, 9, 9, 9, 9, 9, 4, 4, 4, 4, 4, 5, 9, 9, 0, 5, 5, 9, 5, 9, 5, 9, 4, 8, 5, 4, 4, 5, 9, 5, 5, 4, 9, 4, 7, 7, 5, 5, 0, 0, 5, 5, 9, 9, 4, 4, 7, 9, 9, 7, 4, 5, 4, 9, 4, 9, 5, 5, 5, 5, 5, 4, 4, 4, 4, 4, 9, 4, 3, 4, 3, 4, 4, 4, 4, 4, 7, 4, 7, 4, 4, 7, 4, 5, 5, 4, 3, 3, 9, 3, 3, 3, 2, 3, 9, 3, 9, 2, 0, 9, 5, 9, 9, 5, 9, 9, 5, 8, 8, 8, 9, 9, 9, 7, 9, 7, 9, 7, 9, 7, 9, 7, 9, 7, 7, 9, 3, 3, 3, 3, 6, 6, 6, 3, 2, 2, 2, 2, 2, 2, 2, 3, 2, 3, 2, 2, 3, 2, 3, 2, 2, 2, 2, 2, 9, 2, 2, 2, 2, 2, 2, 2, 2, 2, 2, 2, 3, 3, 3, 3, 3, 3, 3, 3, 3, 3, 3, 2, 3, 2, 3, 3, 2, 9, 9, 9, 9, 2, 2, 2, 9, 2, 9, 2, 2, 9, 9, 9, 9, 9, 2, 2, 2, 3, 9, 9, 9, 9, 4, 2, 2, 3, 3, 9, 2, 2, 2, 2, 2, 2, 2, 2, 2, 2, 2, 2, 2, 2, 2, 2, 2, 2, 2, 0, 2, 2, 2, 0, 5, 5, 0, 3, 0, 9, 2, 0, 0, 0, 5, 3, 3, 3, 3, 6, 3, 3, 3, 3, 3, 3, 3, 3, 9, 9, 9, 2, 9, 9, 2, 9, 9, 9, 9, 9, 9, 9, 9, 9, 9, 9, 0, 0, 2, 2, 9, 2, 8, 8, 8, 8, 8, 8, 8, 8, 8, 8, 8, 9, 8, 9, 9, 4, 9, 4, 8, 8, 8, 8, 8, 1, 8, 1, 1, 8, 1, 8, 8, 8, 8, 8, 8, 8, 8, 8, 8, 8, 8, 8, 8, 8, 8, 8, 0, 9, 0, 9, 8, 8, 9, 9, 9, 4, 9, 4, 8, 7, 8, 7, 9, 9, 9, 9, 4, 8, 4, 8, 7, 9, 7, 9, 9, 9, 4, 4, 4, 4, 4, 4, 4, 4, 5, 5, 8, 8, 5, 8, 8, 8, 8, 8, 8, 5, 8, 8, 5, 8, 2, 8, 2, 2, 8, 8, 8, 8, 8, 8, 2, 8, 8, 8, 2, 8, 7, 4, 7, 4, 7, 4, 4, 4, 4, 4, 7, 4, 9, 6, 4, 2, 8, 2, 8, 2, 8, 8, 3, 2, 2, 2, 2, 2, 2, 2, 2, 2, 2, 2, 2, 2, 2, 2, 2, 8, 3, 8, 2, 8, 2, 4, 3, 4, 3, 2, 2, 2, 2, 2, 2, 2, 2, 2, 2, 2, 2, 2, 2, 2, 2, 2, 2, 2, 2, 2, 2, 2, 2, 2, 9, 2, 9, 9, 4, 9, 4, 3, 3, 9, 9, 5, 5, 5, 0, 5, 5, 5, 5, 5, 5, 5, 5, 5, 5, 5, 5, 5, 5, 5, 5, 5, 2, 2, 2, 2, 9, 2, 2, 2, 2, 0, 2, 2, 1, 2, 9, 9, 0, 2, 9, 9, 9, 9, 1, 4, 9, 4, 4, 4, 4, 4, 4, 4, 4, 4, 4, 4, 4, 4, 4, 4, 4, 3, 4, 3, 2, 2, 4, 4, 4, 4, 4, 3, 4, 3, 3, 3, 3, 3, 3, 3, 3, 3, 3, 3, 3, 3, 3, 3, 3, 3, 3, 3, 3, 3, 3, 3, 3, 3, 3, 3, 3, 9, 9, 9, 9, 9, 9, 9, 9, 9, 9, 9, 9, 0, 9, 0, 9, 0, 9, 0, 0, 9, 9, 9, 0, 3, 3, 3, 3, 4, 6, 3, 3, 9, 9, 0, 9, 7, 9, 2, 9, 2, 2, 2, 2, 2, 2, 2, 9, 2, 9, 2, 2, 2, 9, 2, 2, 2, 9, 2, 2, 2, 2, 2, 2, 2, 4, 4, 4, 4, 4, 4, 4, 4, 4, 4, 4, 4, 4, 4, 4, 4, 3, 3, 3, 2, 3, 2, 3, 3, 3, 3, 3, 3, 3, 3, 3, 3, 3, 3, 2, 3, 5, 2, 2, 0, 2, 0, 0, 2, 0, 2, 0, 2, 0, 2, 0, 0, 5, 5, 5, 5, 5, 5, 5, 5, 5, 5, 5, 5, 5, 5, 5, 5, 5, 5, 5, 5, 5, 5, 5, 5, 5, 5, 5, 5, 5, 5, 5, 5, 5, 5, 5, 5, 5, 5, 5, 5, 5, 5, 9, 9, 0, 9, 0, 9, 9, 5, 9, 5, 9, 9, 9, 9, 9, 9, 9, 9, 9, 0, 9, 9, 9, 9, 3, 3, 6, 3, 3, 6, 3, 3, 3, 3, 3, 3, 7, 7, 3, 4, 4, 4, 4, 4, 7, 2, 4, 4, 4, 4, 4, 4, 4, 4, 4, 4, 4, 4, 4, 4, 8, 4, 8, 8, 3, 9, 9, 3, 3, 3, 3, 9, 3, 9, 3, 9, 3, 9, 3, 9, 3, 9, 3, 3, 9, 3, 9, 9, 9, 2, 9, 3, 3, 3, 3, 3, 3, 8, 8, 3, 3, 3, 3, 8, 3, 8, 3, 3, 3, 3, 3, 4, 9, 9, 2, 2, 2, 2, 2, 2, 2, 2, 2, 2, 0, 2, 2, 9, 2, 2, 9, 9, 2, 4, 9, 4, 4, 7, 7, 4, 4, 3, 9, 3, 2, 9, 2, 9, 9, 9, 9, 9, 9, 7, 9, 7, 4, 4, 4, 4, 9, 9, 9, 9, 9, 9, 9, 9, 9, 4, 4, 4, 4, 9, 9, 9, 4, 9, 4, 4, 0, 9, 1, 9, 9, 9, 9, 9, 4, 9, 4, 4, 4, 4, 4, 7, 7, 7, 7, 4, 7, 4, 0, 0, 9, 0, 9, 9, 7, 9, 7, 7, 7, 7, 7, 7, 7, 7, 7, 7, 7, 7, 7, 7, 7, 7, 7, 7, 9, 7, 9, 9, 1, 4, 4, 1, 1, 9, 9, 9, 9, 9, 9, 9, 9, 9, 9, 9, 9, 9, 8, 9, 8, 8, 8, 8, 8, 1, 1, 8, 1, 1, 1, 1, 1, 1, 1, 9, 9, 9, 9, 9, 9, 9, 9, 9, 9, 9, 9, 9, 9, 1, 1, 1, 1, 4, 4, 4, 4, 4, 1, 4, 1, 1, 4, 1, 4, 4, 4, 4, 4, 9, 4, 9, 4, 1, 4, 1, 4, 4, 4, 4, 4, 4, 1, 9, 9, 9, 9, 4, 1, 1, 1, 1, 1, 1, 1, 1, 1, 1, 4, 9, 9, 4, 4, 4, 4, 4, 4, 4, 4, 9, 4, 9, 4, 9, 0, 9, 0, 0, 9, 0, 9, 9, 9, 9, 9, 9, 9, 1, 1, 1, 8, 1, 1, 4, 1, 4, 4, 9, 9, 4, 4, 4, 4, 4, 4, 4, 4, 4, 4, 4, 4, 4, 4, 4, 4, 4, 4, 4, 4, 4, 4, 4, 4, 4, 4, 1, 4, 1, 4, 4, 4, 9, 9, 9, 9, 9, 1, 1, 1, 1, 1, 4, 1, 4, 9, 9, 9, 9, 1, 1, 1, 1, 9, 9, 9, 9, 9, 9, 9, 9, 9, 4, 2, 2, 2, 2, 2, 2, 2, 2, 2, 2, 2, 2, 0, 2, 8, 8, 2, 2, 2, 2, 3, 3, 3, 3, 3, 3, 3, 3, 3, 3, 3, 3, 4, 4, 4, 4, 4, 4, 4, 4, 4, 4, 4, 4, 4, 4, 4, 4, 4, 4, 4, 4, 4, 4, 4, 4, 0, 0, 0, 0, 0, 0, 0, 0, 7, 3, 7, 7, 0, 0, 0, 7, 0, 7, 0, 0, 0, 0, 7, 9, 7, 9, 0, 0, 0, 9, 0, 9, 9, 9, 9, 4, 9, 9, 9, 9, 9, 9, 8, 9, 8, 9, 3, 4, 4, 4, 4, 9, 9, 8, 9, 9, 6, 4, 4, 4, 4, 4, 7, 4, 4, 7, 2, 2, 2, 5, 2, 5, 2, 8, 2, 8, 2, 2, 2, 2, 2, 5, 2, 5, 5, 5, 5, 5, 5, 5, 5, 5, 2, 2, 2, 2, 2, 2, 2, 2, 2, 2, 2, 2, 2, 2, 3, 3, 3, 2, 3, 2, 2, 3, 9, 9, 9, 9, 9, 9, 9, 8, 9, 8, 8, 9, 8, 9, 8, 9, 8, 9, 9, 9, 9, 9, 9, 8, 9, 9, 7, 0, 7, 0, 9, 9, 9, 9, 0, 9, 0, 9, 5, 7, 5, 7, 9, 9, 9, 9, 9, 9, 9, 9, 0, 7, 0, 7, 0, 0, 4, 9, 7, 7, 7, 7, 9, 9, 9, 9, 7, 9, 7, 9, 9, 9, 9, 9, 9, 9, 9, 9, 0, 0, 0, 0, 0, 0, 0, 0, 0, 0, 0, 0, 0, 0, 0, 0, 0, 0, 3]\n",
            "[3, 3, 3, 9, 9, 9, 9, 9, 9, 9, 9, 9, 9, 9, 9, 9, 9, 9, 9, 9, 9, 9, 9, 9, 9, 9, 9, 3, 3, 3, 3, 3, 3, 3, 3, 3, 3, 7, 7, 7, 7, 7, 7, 7, 7, 7, 7, 7, 7, 7, 7, 7, 7, 9, 9, 9, 9, 9, 9, 9, 9, 9, 9, 9, 9, 9, 9, 9, 9, 9, 9, 9, 9, 9, 9, 9, 9, 3, 3, 3, 3, 3, 3, 3, 3, 3, 3, 3, 3, 3, 3, 3, 3, 3, 5, 5, 5, 5, 5, 5, 5, 5, 5, 5, 5, 5, 5, 5, 5, 5, 5, 5, 5, 5, 5, 5, 5, 5, 5, 5, 5, 5, 5, 5, 5, 5, 5, 5, 5, 5, 5, 5, 5, 5, 5, 5, 5, 5, 5, 5, 5, 5, 5, 5, 5, 5, 5, 5, 5, 5, 5, 5, 5, 5, 5, 5, 5, 5, 4, 4, 4, 4, 4, 4, 4, 4, 4, 4, 4, 4, 4, 4, 4, 4, 4, 4, 4, 4, 4, 4, 4, 4, 4, 4, 4, 4, 4, 4, 4, 4, 4, 4, 4, 4, 9, 9, 9, 9, 9, 9, 9, 9, 9, 9, 9, 9, 9, 9, 9, 9, 9, 9, 9, 9, 9, 9, 9, 9, 7, 7, 7, 7, 7, 7, 7, 7, 7, 7, 7, 7, 7, 7, 7, 7, 7, 7, 7, 7, 7, 7, 7, 7, 7, 7, 7, 7, 7, 7, 7, 7, 7, 7, 7, 7, 9, 9, 9, 9, 9, 9, 9, 9, 9, 9, 9, 9, 9, 9, 9, 9, 9, 9, 9, 9, 9, 9, 9, 9, 6, 6, 6, 6, 6, 6, 6, 6, 6, 6, 6, 6, 6, 6, 6, 6, 6, 6, 6, 6, 6, 6, 6, 6, 6, 6, 6, 6, 6, 6, 6, 6, 6, 6, 2, 2, 2, 2, 2, 2, 2, 2, 2, 2, 2, 2, 2, 2, 2, 2, 2, 2, 2, 2, 2, 2, 2, 2, 2, 2, 2, 2, 4, 4, 4, 4, 4, 4, 4, 4, 4, 4, 4, 4, 4, 5, 5, 5, 5, 5, 5, 5, 5, 5, 5, 5, 5, 5, 5, 5, 5, 5, 5, 5, 5, 5, 5, 5, 5, 5, 5, 5, 5, 5, 5, 5, 5, 5, 5, 5, 5, 5, 5, 5, 5, 5, 5, 5, 5, 5, 5, 5, 5, 5, 5, 5, 5, 5, 5, 5, 5, 5, 5, 5, 5, 5, 5, 5, 5, 5, 5, 5, 5, 5, 5, 5, 5, 5, 5, 5, 5, 5, 5, 5, 5, 5, 5, 5, 5, 5, 5, 5, 5, 5, 5, 5, 5, 5, 5, 5, 5, 5, 5, 5, 5, 5, 5, 5, 5, 5, 5, 5, 5, 5, 5, 5, 5, 5, 5, 5, 5, 5, 5, 5, 5, 5, 5, 5, 5, 5, 5, 5, 5, 5, 5, 5, 5, 5, 5, 5, 5, 4, 4, 4, 4, 4, 4, 4, 4, 4, 4, 4, 4, 4, 4, 4, 4, 4, 4, 4, 4, 4, 4, 4, 4, 4, 4, 4, 4, 4, 4, 4, 4, 4, 4, 4, 4, 4, 4, 4, 4, 4, 4, 4, 4, 4, 4, 4, 4, 4, 4, 4, 4, 4, 4, 4, 4, 4, 4, 4, 4, 4, 4, 4, 4, 4, 4, 4, 4, 4, 4, 4, 4, 4, 4, 4, 4, 4, 4, 4, 4, 0, 0, 0, 0, 0, 0, 0, 0, 0, 0, 0, 0, 0, 0, 0, 0, 0, 0, 0, 0, 0, 0, 0, 0, 0, 0, 0, 0, 0, 0, 0, 0, 0, 0, 0, 0, 0, 0, 0, 0, 0, 0, 0, 0, 0, 0, 0, 0, 0, 0, 0, 0, 0, 0, 0, 0, 0, 0, 0, 0, 0, 0, 0, 0, 0, 0, 0, 0, 0, 0, 0, 0, 0, 0, 0, 0, 0, 0, 0, 0, 0, 0, 0, 0, 0, 0, 0, 0, 0, 0, 0, 0, 0, 0, 0, 0, 7, 7, 7, 7, 7, 7, 7, 7, 7, 7, 7, 7, 7, 7, 7, 7, 7, 7, 7, 7, 7, 7, 7, 7, 7, 7, 7, 7, 7, 7, 7, 7, 7, 7, 7, 7, 7, 7, 7, 7, 7, 7, 7, 7, 7, 7, 7, 7, 7, 7, 7, 7, 7, 7, 7, 7, 6, 6, 6, 4, 4, 4, 4, 4, 4, 4, 4, 4, 4, 4, 4, 4, 4, 4, 4, 4, 4, 4, 4, 4, 4, 4, 4, 4, 4, 4, 4, 4, 4, 4, 4, 4, 4, 4, 4, 4, 4, 4, 4, 4, 4, 4, 4, 4, 4, 4, 4, 5, 5, 5, 5, 5, 5, 5, 5, 5, 5, 5, 5, 5, 5, 5, 5, 5, 5, 5, 5, 5, 5, 5, 5, 5, 5, 5, 5, 5, 5, 5, 5, 5, 5, 5, 5, 5, 5, 5, 5, 5, 5, 5, 5, 5, 5, 5, 5, 5, 5, 5, 5, 5, 5, 5, 5, 5, 5, 5, 5, 5, 5, 5, 5, 5, 5, 5, 5, 5, 5, 5, 5, 5, 5, 5, 5, 5, 5, 5, 5, 5, 5, 5, 5, 5, 5, 5, 5, 5, 5, 5, 5, 5, 3, 4, 4, 4, 4, 4, 4, 4, 4, 4, 4, 4, 4, 4, 4, 4, 4, 4, 4, 4, 4, 4, 4, 4, 4, 4, 4, 4, 4, 4, 4, 4, 4, 4, 4, 4, 4, 4, 4, 4, 4, 4, 4, 4, 4, 4, 4, 4, 4, 4, 4, 4, 4, 4, 4, 4, 4, 4, 4, 4, 4, 4, 6, 6, 6, 3, 3, 3, 3, 3, 3, 3, 3, 3, 3, 3, 3, 3, 3, 3, 3, 6, 6, 8, 8, 8, 8, 8, 8, 8, 8, 8, 8, 8, 8, 8, 8, 8, 8, 8, 8, 8, 8, 8, 8, 8, 8, 8, 8, 8, 8, 8, 8, 8, 8, 8, 8, 8, 8, 8, 8, 8, 8, 8, 8, 8, 8, 6, 3, 8, 8, 8, 8, 8, 8, 8, 8, 8, 8, 8, 8, 8, 8, 8, 8, 8, 8, 8, 8, 8, 8, 8, 8, 8, 8, 8, 8, 8, 8, 8, 8, 8, 8, 8, 8, 8, 8, 8, 8, 8, 8, 8, 8, 8, 8, 8, 8, 8, 8, 8, 8, 8, 8, 8, 8, 8, 8, 8, 8, 8, 8, 8, 8, 8, 8, 8, 8, 8, 8, 8, 8, 8, 8, 8, 8, 8, 8, 8, 8, 8, 8, 8, 8, 8, 8, 8, 8, 8, 8, 8, 8, 8, 8, 8, 8, 8, 8, 8, 8, 8, 8, 8, 8, 8, 8, 8, 8, 8, 8, 8, 8, 8, 8, 8, 8, 8, 8, 8, 8, 8, 8, 8, 8, 8, 8, 8, 8, 8, 8, 8, 8, 8, 8, 8, 8, 8, 8, 8, 8, 8, 8, 8, 8, 8, 8, 8, 8, 8, 8, 8, 8, 8, 8, 8, 8, 8, 8, 8, 8, 8, 8, 8, 8, 8, 8, 8, 8, 8, 8, 8, 8, 8, 8, 8, 8, 8, 8, 8, 8, 8, 8, 8, 8, 1, 1, 1, 1, 4, 4, 4, 4, 4, 5, 5, 5, 5, 5, 5, 5, 5, 5, 5, 5, 5, 5, 5, 5, 5, 5, 5, 5, 5, 5, 5, 5, 5, 5, 5, 5, 5, 5, 5, 5, 5, 5, 5, 5, 5, 5, 5, 5, 5, 5, 5, 5, 5, 0, 0, 0, 0, 0, 0, 0, 0, 0, 0, 0, 0, 0, 0, 0, 0, 0, 0, 0, 0, 0, 0, 0, 0, 0, 0, 0, 0, 0, 0, 0, 0, 0, 0, 0, 0, 0, 0, 0, 0, 0, 0, 0, 0, 0, 0, 0, 0, 0, 0, 0, 0, 0, 0, 0, 0, 0, 0, 0, 0, 0, 0, 0, 0, 4, 4, 4, 4, 4, 4, 4, 4, 4, 4, 4, 4, 4, 4, 4, 4, 4, 4, 4, 4, 4, 4, 4, 4, 4, 4, 4, 4, 4, 4, 4, 4, 4, 4, 4, 4, 4, 4, 4, 4, 4, 4, 4, 4, 4, 4, 4, 4, 4, 4, 4, 4, 4, 4, 4, 4, 4, 4, 4, 4, 4, 4, 4, 4, 4, 4, 4, 4, 4, 4, 4, 4, 4, 4, 4, 4, 4, 4, 4, 4, 4, 4, 4, 4, 2, 2, 2, 2, 2, 2, 2, 2, 2, 2, 2, 2, 2, 2, 2, 2, 2, 2, 2, 2, 2, 2, 2, 2, 2, 2, 2, 2, 2, 2, 2, 2, 7, 7, 7, 7, 7, 7, 7, 7, 7, 7, 7, 7, 7, 7, 7, 7, 7, 7, 7, 7, 7, 7, 7, 7, 7, 7, 7, 7, 7, 7, 7, 7, 7, 7, 7, 7, 7, 7, 7, 7, 7, 7, 7, 7, 7, 7, 7, 7, 7, 7, 7, 7, 7, 7, 7, 7, 7, 9, 9, 9, 9, 9, 9, 9, 9, 9, 9, 9, 9, 9, 9, 9, 9, 9, 9, 9, 9, 9, 9, 9, 9, 3, 3, 3, 3, 3, 3, 3, 3, 3, 3, 3, 3, 3, 3, 3, 3, 3, 3, 3, 3, 3, 3, 3, 3, 3, 3, 3, 3, 3, 3, 3, 3, 2, 2, 2, 2, 2, 2, 2, 2, 2, 2, 2, 2, 2, 2, 2, 2, 2, 2, 2, 2, 2, 2, 2, 2, 2, 2, 2, 2, 2, 2, 2, 2, 2, 2, 2, 2, 2, 2, 2, 2, 2, 2, 2, 2, 2, 2, 2, 2, 2, 2, 2, 2, 2, 2, 2, 2, 2, 2, 2, 2, 1, 1, 2, 2, 2, 2, 2, 2, 2, 2, 2, 2, 2, 2, 2, 2, 2, 2, 2, 2, 2, 2, 2, 2, 2, 2, 2, 2, 2, 2, 2, 2, 2, 2, 1, 5, 5, 5, 5, 5, 5, 5, 5, 5, 5, 5, 5, 2, 2, 2, 2, 2, 2, 2, 2, 2, 2, 2, 2, 2, 2, 2, 2, 2, 2, 2, 2, 2, 2, 2, 2, 2, 2, 2, 2, 2, 2, 2, 2, 4, 4, 4, 4, 3, 3, 3, 3, 3, 3, 3, 3, 3, 3, 3, 3, 3, 3, 3, 3, 3, 3, 3, 3, 3, 3, 3, 3, 3, 3, 3, 3, 0, 0, 0, 0, 0, 0, 0, 0, 0, 0, 0, 0, 0, 0, 0, 0, 0, 0, 0, 0, 0, 0, 0, 0, 0, 0, 0, 0, 0, 0, 0, 0, 0, 0, 0, 0, 2, 2, 2, 2, 2, 2, 2, 2, 2, 2, 2, 2, 2, 2, 2, 2, 2, 2, 2, 2, 2, 2, 2, 2, 2, 2, 2, 2, 2, 2, 2, 2, 5, 1, 1, 1, 1, 1, 1, 1, 1, 1, 1, 1, 1, 1, 1, 1, 4, 4, 4, 4, 4, 4, 4, 4, 2, 2, 2, 2, 2, 2, 2, 2, 2, 2, 2, 2, 2, 2, 2, 2, 2, 2, 2, 2, 2, 2, 2, 2, 2, 2, 2, 2, 2, 2, 2, 2, 9, 9, 9, 9, 9, 9, 9, 9, 9, 9, 9, 9, 9, 9, 9, 9, 9, 9, 9, 9, 0, 0, 0, 0, 0, 0, 0, 0, 0, 0, 0, 0, 0, 0, 0, 0, 0, 0, 0, 0, 0, 0, 0, 0, 0, 0, 0, 0, 0, 0, 0, 0, 0, 0, 0, 0, 0, 0, 0, 0, 0, 0, 0, 0, 0, 0, 0, 0, 0, 0, 0, 0, 0, 0, 0, 0, 0, 0, 0, 0, 0, 0, 0, 0, 0, 0, 0, 0, 0, 0, 0, 0, 0, 0, 0, 0, 0, 0, 0, 0, 0, 0, 0, 0, 0, 0, 0, 0, 0, 0, 0, 0, 2, 2, 2, 2, 2, 4, 4, 4, 4, 4, 4, 4, 3, 3, 3, 3, 3, 3, 3, 3, 3, 3, 0, 0, 0, 0, 1, 1, 1, 2, 2, 2, 2, 2, 2, 2, 2, 2, 2, 2, 2, 2, 2, 2, 2, 2, 2, 2, 2, 2, 2, 2, 2, 2, 2, 2, 2, 2, 2, 2, 2, 2, 2, 2, 2, 2, 2, 2, 2, 2, 2, 2, 2, 2, 2, 2, 2, 2, 2, 2, 2, 5, 5, 5, 5, 5, 5, 5, 5, 5, 5, 5, 5, 5, 5, 5, 5, 7, 7, 7, 7, 7, 7, 7, 7, 7, 7, 7, 7, 7, 7, 7, 7, 7, 7, 7, 7, 7, 7, 7, 7, 7, 7, 7, 7, 7, 7, 7, 7, 7, 7, 7, 7, 7, 7, 7, 7, 7, 7, 7, 7, 7, 7, 7, 7, 7, 7, 7, 7, 7, 7, 7, 7, 7, 7, 7, 7, 7, 7, 7, 7, 7, 7, 7, 7, 7, 7, 7, 7, 7, 7, 7, 7, 7, 7, 7, 7, 7, 7, 7, 7, 7, 7, 7, 7, 7, 7, 7, 7, 7, 7, 7, 7, 7, 7, 7, 7, 7, 7, 7, 7, 7, 7, 7, 7, 7, 7, 7, 7, 7, 7, 7, 7, 7, 7, 7, 7, 7, 7, 7, 7, 7, 7, 7, 7, 7, 7, 7, 7, 7, 7, 7, 7, 7, 7, 7, 7, 7, 7, 7, 7, 7, 7, 7, 7, 7, 7, 7, 7, 7, 7, 7, 8, 8, 8, 8, 8, 8, 8, 8, 8, 8, 8, 8, 8, 8, 8, 8, 8, 8, 8, 8, 8, 8, 8, 8, 8, 8, 8, 8, 8, 8, 8, 8, 8, 8, 8, 8, 8, 8, 8, 8, 8, 8, 8, 8, 8, 8, 8, 8, 8, 8, 8, 8, 8, 8, 8, 8, 8, 8, 8, 8, 8, 8, 8, 8, 8, 8, 8, 8, 8, 8, 8, 8, 8, 8, 8, 8, 8, 8, 8, 8, 8, 8, 8, 8, 8, 8, 8, 8, 8, 8, 8, 8, 8, 8, 8, 8, 8, 8, 8, 8, 8, 8, 8, 8, 8, 8, 8, 8, 8, 8, 8, 8, 8, 8, 8, 8, 8, 8, 8, 8, 8, 8, 8, 8, 8, 8, 8, 8, 8, 8, 8, 8, 8, 8, 8, 8, 8, 8, 8, 8, 8, 8, 8, 8, 8, 8, 8, 8, 8, 8, 8, 8, 8, 8, 8, 8, 8, 8, 8, 8, 8, 8, 8, 8, 8, 8, 8, 8, 8, 8, 8, 8, 8, 8, 8, 8, 8, 8, 8, 8, 8, 8, 8, 8, 8, 8, 8, 8, 8, 8, 8, 8, 8, 8, 8, 8, 8, 8, 8, 8, 8, 8, 8, 8, 8, 8, 8, 8, 8, 8, 8, 8, 8, 8, 8, 8, 8, 8, 8, 8, 8, 8, 8, 8, 8, 8, 8, 8, 8, 8, 8, 8, 8, 8, 8, 8, 8, 8, 8, 8, 8, 8, 8, 8, 8, 8, 8, 8, 8, 8, 8, 8, 8, 8, 8, 8, 8, 8, 8, 8, 8, 8, 8, 8, 8, 8, 8, 8, 8, 8, 8, 8, 8, 8, 8, 8, 8, 8, 8, 8, 8, 8, 8, 8, 8, 8, 8, 8, 8, 8, 8, 8, 8, 8, 8, 8, 8, 8, 8, 8, 8, 8, 8, 8, 8, 8, 8, 8, 8, 8, 8, 8, 8, 8, 8, 8, 8, 8, 8, 8, 8, 8, 8, 8, 8, 8, 8, 8, 8, 8, 8, 8, 8, 8, 8, 8, 8, 8, 8, 8, 8, 8, 8, 8, 8, 8, 8, 8, 8, 8, 8, 8, 8, 8, 8, 8, 8, 8, 8, 8, 8, 8, 8, 8, 8, 8, 8, 8, 8, 8, 8, 8, 8, 8, 8, 8, 8, 8, 8, 8, 8, 8, 8, 8, 8, 8, 8, 8, 8, 8, 8, 8, 8, 8, 8, 8, 8, 8, 8, 8, 3, 3, 3, 3, 3, 3, 3, 3, 3, 3, 3, 3, 3, 3, 3, 3, 4, 4, 4, 4, 4, 4, 4, 4, 4, 4, 4, 4, 4, 4, 4, 4, 4, 4, 4, 4, 4, 4, 4, 4, 4, 4, 4, 4, 3, 3, 3, 3, 3, 3, 3, 3, 2, 2, 2, 2, 2, 2, 2, 2, 2, 2, 2, 2, 2, 2, 2, 2, 2, 2, 2, 2, 2, 2, 2, 2, 2, 2, 2, 2, 3, 3, 3, 3, 3, 3, 3, 3, 3, 9, 9, 9, 9, 9, 9, 9, 9, 9, 9, 9, 9, 9, 9, 9, 9, 9, 9, 9, 9, 9, 9, 9, 9, 3, 3, 3, 3, 3, 3, 3, 3, 3, 3, 3, 6, 3, 3, 3, 3, 3, 3, 3, 9, 9, 9, 9, 9, 9, 9, 9, 9, 9, 9, 9, 9, 9, 9, 9, 9, 9, 9, 9, 9, 9, 9, 9, 3, 3, 3, 3, 3, 3, 3, 3, 9, 9, 9, 9, 9, 9, 9, 9, 9, 9, 9, 9, 9, 9, 9, 9, 9, 9, 9, 9, 9, 9, 9, 9, 1, 2, 2, 2, 2, 2, 2, 2, 2, 2, 2, 2, 2, 2, 2, 2, 2, 2, 2, 2, 2, 2, 2, 2, 2, 2, 2, 2, 2, 3, 3, 6, 5, 5, 5, 5, 5, 5, 5, 5, 5, 5, 5, 5, 5, 5, 5, 5, 5, 5, 5, 5, 5, 5, 5, 5, 3, 3, 3, 3, 3, 3, 3, 3, 3, 3, 3, 3, 3, 3, 3, 3, 9, 9, 9, 9, 9, 9, 9, 9, 9, 9, 9, 9, 9, 9, 9, 9, 9, 9, 9, 9, 2, 2, 2, 2, 2, 2, 2, 2, 2, 2, 2, 2, 2, 2, 2, 2, 2, 2, 2, 2, 2, 2, 2, 2, 2, 2, 2, 2, 2, 2, 2, 2, 0, 0, 0, 0, 0, 0, 0, 0, 0, 0, 0, 0, 0, 0, 0, 0, 0, 0, 0, 0, 0, 0, 0, 0, 0, 0, 0, 0, 0, 0, 0, 0, 0, 0, 0, 0, 0, 0, 0, 0, 0, 0, 0, 0, 0, 0, 0, 0, 0, 0, 0, 0, 0, 0, 0, 0, 0, 0, 0, 0, 0, 0, 0, 0, 0, 0, 0, 0, 0, 0, 0, 0, 0, 0, 0, 0, 0, 0, 0, 0, 0, 0, 0, 0, 0, 0, 0, 0, 0, 0, 0, 0, 9, 9, 9, 9, 9, 9, 9, 9, 9, 9, 9, 9, 9, 9, 9, 9, 9, 9, 9, 9, 9, 9, 9, 9, 9, 9, 9, 9, 9, 9, 9, 9, 9, 9, 9, 9, 9, 9, 9, 9, 9, 9, 9, 9, 9, 9, 9, 9, 9, 9, 9, 9, 9, 9, 9, 9, 9, 9, 9, 9, 9, 9, 9, 9, 9, 9, 9, 9, 9, 9, 9, 9, 9, 9, 9, 9, 9, 9, 9, 9, 9, 9, 9, 9, 9, 9, 9, 9, 9, 9, 9, 9, 9, 9, 9, 9, 0, 0, 0, 0, 0, 0, 0, 0, 0, 0, 0, 0, 0, 0, 0, 0, 3, 3, 3, 3, 3, 3, 3, 3, 3, 3, 3, 3, 3, 3, 3, 3, 3, 3, 6, 6, 6, 6, 6, 6, 3, 3, 3, 3, 3, 3, 3, 3, 3, 3, 3, 3, 3, 3, 3, 3, 3, 3, 3, 3, 3, 3, 3, 3, 3, 3, 3, 3, 1, 1, 1, 1, 1, 1, 1, 1, 1, 1, 1, 1, 1, 1, 1, 1, 1, 1, 1, 1, 1, 1, 1, 1, 1, 1, 1, 1, 1, 1, 1, 1, 1, 1, 1, 1, 1, 1, 1, 1, 1, 1, 1, 1, 1, 1, 1, 1, 1, 1, 1, 1, 1, 1, 1, 1, 1, 1, 1, 1, 1, 1, 1, 1, 1, 1, 1, 1, 1, 1, 1, 1, 1, 1, 1, 1, 1, 1, 1, 1, 1, 1, 1, 1, 1, 1, 1, 1, 1, 1, 1, 1, 1, 1, 1, 1, 1, 1, 1, 1, 1, 1, 1, 1, 1, 1, 1, 1, 1, 1, 1, 1, 1, 1, 1, 1, 1, 1, 1, 1, 1, 1, 1, 1, 1, 1, 1, 1, 1, 1, 1, 1, 1, 1, 1, 1, 1, 1, 1, 3, 3, 3, 3, 3, 3, 3, 3, 3, 3, 3, 3, 3, 3, 3, 3, 3, 3, 3, 3, 3, 3, 3, 3, 3, 3, 3, 3, 3, 3, 3, 3, 9, 9, 9, 9, 9, 9, 9, 9, 9, 9, 9, 9, 9, 9, 9, 9, 9, 9, 9, 9, 9, 9, 9, 9, 9, 9, 9, 9, 9, 9, 9, 9, 9, 9, 9, 9, 9, 9, 9, 9, 9, 9, 9, 9, 9, 9, 9, 9, 5, 5, 5, 5, 5, 5, 5, 5, 5, 5, 5, 5, 5, 5, 5, 5, 5, 5, 5, 5, 5, 5, 5, 5, 5, 5, 5, 5, 5, 5, 3, 3, 3, 3, 3, 3, 3, 3, 8, 8, 8, 8, 8, 8, 3, 3, 3, 3, 3, 3, 3, 3, 3, 3, 3, 3, 3, 3, 3, 3, 9, 9, 9, 9, 9, 9, 9, 9, 9, 9, 9, 9, 9, 9, 9, 9, 9, 9, 9, 9, 9, 9, 9, 9, 2, 2, 2, 2, 2, 2, 2, 2, 2, 2, 2, 2, 2, 2, 2, 2, 2, 2, 2, 2, 2, 2, 2, 2, 2, 2, 2, 2, 2, 2, 2, 2, 0, 0, 0, 0, 0, 0, 0, 0, 0, 0, 0, 0, 0, 0, 0, 0, 0, 0, 0, 0, 0, 0, 0, 0, 0, 0, 0, 0, 0, 0, 0, 0, 0, 0, 0, 0, 0, 0, 0, 0, 0, 0, 0, 0, 0, 0, 0, 0, 0, 0, 0, 0, 0, 0, 0, 0, 0, 0, 0, 0, 0, 0, 0, 0, 0, 0, 0, 0, 0, 0, 0, 0, 0, 0, 0, 0, 0, 0, 0, 0, 0, 0, 0, 0, 0, 0, 0, 0, 0, 0, 0, 0, 0, 0, 0, 0, 0, 0, 0, 0, 0, 0, 0, 0, 0, 0, 0, 0, 0, 0, 0, 0, 0, 0, 0, 0, 0, 0, 0, 0, 0, 0, 0, 0, 3, 3, 3, 3, 3, 3, 3, 3, 3, 3, 3, 3, 2, 2, 2, 2, 2, 2, 2, 2, 2, 2, 2, 2, 2, 2, 2, 2, 2, 2, 2, 2, 2, 2, 2, 2, 2, 2, 2, 2, 2, 2, 2, 2, 7, 7, 7, 7, 7, 7, 7, 7, 7, 7, 7, 7, 7, 7, 7, 7, 7, 7, 7, 7, 7, 7, 7, 7, 7, 7, 7, 7, 7, 7, 7, 7, 7, 7, 7, 7, 7, 7, 7, 7, 7, 7, 7, 7, 7, 7, 7, 7, 7, 7, 7, 7, 7, 7, 7, 7, 7, 7, 7, 7, 7, 7, 7, 7, 7, 7, 7, 7, 7, 7, 7, 7, 7, 7, 7, 7, 7, 7, 7, 7, 7, 7, 7, 7, 7, 7, 7, 7, 7, 7, 7, 7, 7, 7, 7, 7, 7, 7, 7, 7, 7, 7, 7, 7, 7, 7, 7, 7, 7, 7, 7, 7, 7, 7, 7, 7, 7, 7, 7, 7, 7, 7, 7, 7, 7, 7, 7, 7, 7, 7, 7, 7, 7, 7, 7, 7, 7, 7, 7, 7, 7, 7, 7, 7, 7, 7, 7, 7, 7, 7, 7, 7, 7, 7, 7, 7, 7, 7, 7, 7, 7, 7, 7, 7, 7, 7, 7, 7, 7, 7, 7, 7, 7, 7, 7, 7, 7, 7, 7, 7, 7, 7, 7, 7, 7, 7, 7, 7, 7, 7, 7, 7, 7, 7, 7, 7, 7, 7, 7, 7, 7, 7, 7, 7, 7, 7, 7, 7, 7, 7, 7, 7, 7, 7, 7, 7, 7, 7, 7, 7, 7, 7, 7, 7, 7, 7, 7, 7, 7, 7, 7, 7, 7, 7, 7, 7, 9, 9, 9, 9, 9, 9, 9, 9, 9, 9, 9, 9, 9, 9, 9, 9, 9, 9, 9, 9, 9, 9, 9, 9, 5, 5, 5, 5, 5, 5, 5, 5, 5, 5, 5, 5, 9, 9, 9, 9, 9, 9, 9, 9, 9, 9, 9, 9, 9, 9, 9, 9, 9, 9, 9, 9, 9, 9, 9, 9, 9, 9, 9, 9, 9, 9, 9, 9, 9, 9, 9, 9, 9, 9, 9, 9, 9, 9, 9, 9, 3, 3, 3, 3, 3, 3, 3, 3, 3, 3, 3, 3, 8, 8, 8, 8, 8, 8, 8, 8, 8, 8, 8, 8, 8, 8, 8, 8, 8, 8, 8, 8, 8, 8, 8, 8, 8, 8, 8, 8, 8, 8, 8, 8, 8, 8, 8, 8, 8, 8, 8, 8, 8, 8, 8, 8, 8, 8, 8, 8, 8, 8, 8, 8, 8, 8, 8, 8, 8, 8, 8, 8, 8, 8, 8, 8, 8, 8, 8, 8, 8, 8, 8, 8, 8, 8, 8, 8, 8, 8, 8, 8, 8, 8, 8, 8, 8, 8, 8, 8, 8, 8, 8, 8, 9, 9, 9, 9, 9, 9, 9, 9, 9, 9, 9, 9, 9, 9, 9, 9, 9, 9, 9, 9, 9, 9, 9, 9, 9, 9, 9, 9, 9, 9, 9, 9, 9, 9, 9, 9, 9, 9, 9, 9, 9, 9, 9, 9, 9, 9, 9, 9, 3, 0, 0, 0, 0, 0, 0, 0, 0, 0, 0, 0, 0, 0, 0, 0, 0, 0, 0, 0, 0, 0, 0, 0, 0, 0, 0, 0, 0, 0, 0, 0, 0, 0, 0, 0, 0, 0, 0, 0, 0, 0, 0, 0, 0, 0, 0, 0, 0, 0, 0, 0, 0, 0, 0, 0, 0, 0, 0, 0, 0, 0, 0, 0, 0, 3, 3, 3, 3, 3, 3, 3, 3, 3, 3, 3, 3, 3, 3, 3, 3, 9, 9, 9, 9, 9, 9, 9, 9, 9, 9, 9, 9, 9, 9, 9, 9, 9, 9, 9, 9, 9, 9, 9, 9, 3, 3, 3, 3, 3, 3, 3, 3, 3, 3, 3, 3, 9, 9, 9, 9, 9, 9, 9, 9, 9, 9, 9, 9, 9, 9, 9, 9, 9, 9, 9, 9, 9, 9, 9, 9, 3, 3, 3, 3, 3, 3, 3, 6, 6, 6, 6, 6, 6, 6, 6, 6, 6, 9, 9, 9, 9, 9, 9, 9, 9, 9, 9, 9, 9, 9, 9, 9, 9, 9, 9, 9, 9, 9, 9, 9, 9, 5, 5, 5, 5, 5, 5, 5, 5, 5, 5, 5, 5, 5, 5, 5, 5, 5, 5, 5, 5, 5, 5, 5, 5, 5, 5, 5, 5, 5, 5, 5, 5, 5, 5, 5, 5, 5, 5, 5, 5, 5, 5, 5, 5, 5, 5, 5, 5, 5, 5, 5, 5, 5, 5, 5, 5, 5, 5, 5, 5, 5, 5, 5, 5, 5, 5, 5, 5, 5, 5, 5, 5, 5, 5, 5, 5, 5, 5, 5, 5, 5, 5, 5, 5, 5, 5, 5, 5, 5, 5, 5, 5, 8, 8, 8, 8, 8, 8, 8, 8, 8, 8, 8, 8, 8, 8, 8, 8, 8, 8, 8, 8, 8, 8, 8, 8, 8, 8, 8, 8, 8, 8, 8, 8, 8, 8, 8, 8, 8, 8, 8, 8, 8, 8, 8, 8, 8, 8, 8, 8, 8, 8, 8, 8, 2, 2, 2, 2, 2, 2, 2, 2, 2, 2, 2, 2, 2, 2, 2, 2, 2, 2, 2, 2, 2, 2, 2, 2, 2, 2, 2, 2, 6, 6, 6, 6, 6, 6, 6, 6, 6, 6, 6, 6, 8, 8, 8, 8, 8, 8, 8, 8, 2, 2, 2, 2, 2, 2, 2, 2, 2, 2, 2, 2, 2, 2, 2, 2, 2, 2, 2, 2, 2, 2, 2, 2, 2, 2, 2, 2, 2, 2, 2, 2, 2, 2, 2, 2, 2, 2, 2, 2, 2, 2, 2, 2, 2, 2, 2, 2, 2, 2, 2, 2, 2, 2, 2, 2, 2, 2, 2, 2, 2, 2, 2, 2, 6, 6, 6, 6, 6, 6, 6, 6, 6, 6, 6, 9, 9, 9, 9, 9, 9, 9, 9, 9, 9, 9, 9, 9, 9, 9, 9, 9, 9, 9, 9, 9, 9, 9, 9, 8, 8, 8, 8, 8, 8, 8, 8, 8, 8, 8, 8, 8, 8, 8, 8, 8, 8, 8, 8, 8, 8, 8, 8, 8, 8, 8, 8, 8, 8, 8, 8, 7, 7, 7, 7, 7, 7, 7, 7, 0, 0, 9, 9, 9, 9, 9, 9, 9, 9, 9, 9, 9, 9, 9, 9, 9, 9, 9, 9, 9, 9, 9, 9, 9, 9, 9, 9, 9, 9, 9, 9, 9, 9, 9, 9, 9, 9, 9, 9, 9, 9, 9, 9, 9, 9, 9, 9, 9, 9, 3, 3, 3, 3, 3, 3, 3, 3, 3, 3, 3, 3, 3, 3, 3, 3, 5, 5, 5, 5, 5, 5, 5, 5, 5, 5, 5, 5, 5, 5, 5, 5, 5, 5, 5, 5, 5, 5, 5, 5, 5, 5, 5, 5, 5, 5, 5, 5, 5, 5, 5, 5, 5, 5, 5, 5, 5, 5, 5, 5, 5, 5, 5, 5, 5, 5, 5, 5, 5, 5, 5, 5, 5, 5, 5, 5, 5, 5, 5, 5, 5, 5, 5, 5, 5, 5, 5, 5, 5, 5, 5, 5, 5, 5, 5, 5, 5, 5, 5, 5, 5, 5, 5, 5, 5, 5, 5, 5, 5, 5, 5, 5, 5, 5, 5, 5, 5, 5, 5, 5, 5, 5, 5, 5, 5, 5, 5, 5, 5, 5, 5, 5, 5, 5, 5, 5, 5, 5, 5, 5, 5, 5, 5, 5, 9, 9, 9, 9, 9, 9, 9, 9, 9, 9, 9, 9, 9, 9, 9, 9, 9, 9, 9, 9, 9, 9, 9, 9, 7, 7, 7, 7, 7, 7, 7, 7, 7, 7, 7, 7, 7, 7, 7, 7, 7, 7, 7, 7, 7, 7, 7, 7, 7, 7, 7, 7, 7, 7, 7, 7, 7, 7, 7, 7, 7, 7, 7, 7, 7, 7, 7, 7, 7, 7, 7, 7, 7, 7, 7, 7, 7, 7, 7, 7, 7, 7, 7, 7, 7, 7, 7, 7, 7, 7, 7, 7, 7, 7, 7, 7, 7, 7, 7, 7, 7, 7, 7, 7, 7, 7, 7, 7, 7, 7, 7, 7, 7, 7, 7, 7, 7, 7, 7, 7, 7, 7, 7, 7, 7, 7, 7, 7, 7, 7, 7, 7, 7, 7, 7, 7, 7, 7, 7, 7, 7, 7, 7, 7, 7, 7, 7, 7, 7, 7, 3, 3, 3, 3, 3, 3, 3, 3, 3, 3, 3, 3, 3, 3, 3, 3, 0, 0, 0, 0, 0, 0, 0, 0, 0, 0, 0, 0, 0, 0, 0, 0, 0, 0, 0, 0, 0, 0, 0, 0, 0, 0, 0, 0, 0, 0, 0, 0, 0, 0, 0, 0, 0, 0, 0, 0, 0, 0, 0, 0, 0, 0, 0, 0, 0, 0, 0, 0, 0, 0, 0, 0, 0, 0, 0, 0, 0, 0, 0, 0, 0, 0, 0, 0, 0, 0, 0, 0, 0, 0, 0, 0, 0, 0, 0, 0, 0, 0, 0, 0, 0, 0, 0, 0, 0, 0, 0, 0, 0, 0, 0, 0, 0, 0, 0, 0, 0, 0, 0, 0, 0, 0, 0, 0, 0, 0, 0, 0, 0, 0, 0, 0, 0, 0, 0, 0, 0, 0, 0, 0, 0, 0, 0, 0, 0, 0, 0, 0, 0, 0, 0, 0, 0, 0, 0, 0, 0, 0, 0, 0, 0, 0, 0, 0, 0, 0, 0, 0, 2, 2, 2, 2, 2, 2, 2, 2, 2, 2, 2, 2, 2, 2, 2, 2, 2, 2, 2, 2, 2, 2, 2, 2, 2, 2, 2, 2, 3, 3, 3, 3, 3, 3, 3, 3, 3, 3, 3, 3, 3, 3, 3, 3, 4, 4, 4, 4, 4, 4, 4, 4, 4, 4, 4, 4, 4, 4, 4, 4, 4, 4, 4, 4, 4, 4, 4, 4, 4, 4, 4, 4, 4, 4, 4, 4, 4, 4, 4, 4, 4, 4, 4, 4, 4, 4, 4, 4, 4, 4, 4, 4, 4, 4, 4, 4, 4, 4, 4, 4, 4, 4, 4, 4, 4, 4, 4, 4, 4, 4, 4, 4, 4, 4, 4, 4, 4, 4, 4, 4, 4, 4, 4, 4, 4, 4, 4, 4, 4, 4, 4, 4, 4, 4, 4, 4, 4, 4, 4, 4, 4, 4, 4, 4, 4, 4, 4, 4, 4, 4, 4, 4, 4, 4, 4, 4, 4, 4, 4, 4, 4, 4, 4, 4, 4, 4, 4, 4, 4, 4, 4, 4, 4, 4, 4, 4, 4, 4, 4, 4, 4, 4, 4, 4, 4, 4, 4, 4, 4, 4, 4, 4, 3, 3, 3, 3, 3, 3, 3, 3, 3, 3, 3, 3, 1, 1, 1, 1, 1, 1, 1, 1, 1, 1, 1, 1, 7, 7, 7, 7, 7, 7, 7, 7, 7, 7, 7, 7, 7, 7, 7, 7, 3, 3, 3, 3, 4, 4, 4, 4, 2, 2, 2, 2, 2, 2, 2, 2, 2, 2, 2, 2, 2, 2, 2, 2, 2, 2, 2, 2, 2, 2, 2, 2, 2, 2, 2, 2, 2, 2, 2, 2, 3, 3, 3, 3, 3, 3, 3, 3, 3, 3, 3, 3, 3, 3, 3, 3, 6, 9, 9, 9, 9, 9, 9, 9, 9, 9, 9, 9, 9, 9, 9, 9, 9, 9, 9, 9, 9, 3, 3, 3, 3, 3, 2, 2, 2, 2, 2, 2, 2, 2, 2, 2, 2, 2, 2, 2, 2, 2, 2, 2, 2, 2, 2, 2, 2, 2, 2, 3, 3, 3, 3, 3, 3, 3, 3, 3, 3, 3, 3, 3, 3, 3, 3, 3, 3, 3, 3, 3, 3, 3, 3, 3, 3, 3, 3, 3, 9, 9, 9, 9, 9, 9, 9, 9, 9, 9, 9, 9, 9, 9, 9, 9, 9, 9, 9, 9, 9, 9, 9, 9, 8, 8, 8, 8, 8, 8, 8, 8, 8, 8, 8, 8, 8, 8, 8, 8, 8, 8, 8, 8, 8, 8, 8, 8, 8, 8, 8, 8, 8, 8, 8, 8, 8, 8, 8, 8, 8, 8, 8, 8, 8, 8, 8, 8, 8, 8, 8, 8, 8, 8, 8, 8, 8, 8, 8, 8, 8, 8, 8, 8, 8, 8, 8, 8, 8, 8, 8, 8, 8, 8, 8, 8, 8, 8, 8, 8, 5, 5, 5, 5, 5, 5, 5, 5, 2, 2, 2, 2, 2, 2, 2, 2, 2, 2, 2, 2, 2, 2, 2, 2, 2, 2, 2, 2, 2, 2, 2, 2, 2, 2, 2, 2, 2, 2, 2, 2, 4, 4, 4, 4, 4, 4, 4, 4, 4, 4, 4, 4, 4, 4, 5, 5, 5, 5, 5, 5, 5, 5, 5, 5, 5, 5, 5, 5, 5, 5, 5, 5, 5, 5, 5, 5, 5, 5, 5, 5, 5, 5, 5, 5, 5, 5, 5, 5, 5, 5, 5, 5, 5, 5, 5, 5, 5, 5, 5, 5, 5, 5, 5, 5, 5, 5, 5, 5, 5, 5, 5, 5, 5, 5, 5, 5, 5, 5, 5, 5, 5, 5, 5, 1, 1, 5, 5, 5, 5, 5, 5, 5, 5, 5, 5, 5, 5, 5, 5, 5, 5, 5, 5, 5, 5, 5, 8, 8, 8, 8, 8, 8, 8, 8, 8, 3, 3, 3, 3, 3, 3, 3, 3, 3, 3, 3, 3, 3, 3, 3, 3, 2, 2, 2, 2, 2, 2, 2, 2, 2, 2, 2, 2, 2, 2, 2, 2, 2, 2, 2, 2, 2, 2, 2, 2, 2, 2, 2, 2, 3, 3, 3, 3, 3, 3, 3, 3, 3, 3, 3, 3, 3, 3, 3, 3, 3, 3, 3, 3, 3, 3, 3, 3, 3, 3, 3, 3, 9, 9, 9, 9, 9, 9, 9, 9, 9, 9, 9, 9, 9, 9, 9, 9, 9, 9, 9, 9, 9, 9, 9, 9, 3, 3, 3, 3, 4, 3, 3, 3, 1, 1, 1, 1, 1, 2, 2, 2, 2, 2, 2, 2, 2, 2, 2, 2, 2, 2, 2, 2, 2, 2, 2, 2, 2, 2, 2, 2, 2, 2, 2, 2, 2, 4, 4, 4, 4, 4, 4, 4, 4, 4, 4, 4, 4, 4, 4, 4, 4, 3, 3, 3, 3, 3, 3, 3, 3, 3, 3, 3, 3, 3, 3, 3, 3, 3, 3, 3, 3, 0, 0, 0, 0, 0, 0, 0, 0, 0, 0, 0, 0, 0, 0, 0, 0, 5, 5, 5, 5, 5, 5, 5, 5, 5, 5, 5, 5, 5, 5, 5, 5, 5, 5, 5, 5, 5, 5, 5, 5, 5, 5, 5, 5, 5, 5, 5, 5, 5, 5, 5, 5, 5, 5, 5, 5, 5, 5, 9, 9, 9, 9, 9, 9, 9, 9, 9, 9, 9, 9, 9, 9, 9, 9, 9, 9, 9, 9, 9, 9, 9, 9, 3, 3, 3, 3, 3, 3, 3, 3, 3, 3, 3, 3, 6, 6, 6, 4, 4, 4, 4, 4, 4, 4, 4, 4, 4, 4, 4, 4, 4, 4, 4, 4, 4, 4, 4, 4, 4, 4, 4, 4, 4, 4, 4, 4, 4, 4, 4, 4, 4, 4, 4, 4, 4, 4, 4, 4, 4, 4, 4, 4, 4, 4, 4, 4, 4, 4, 4, 4, 4, 4, 4, 4, 4, 4, 4, 4, 4, 4, 4, 4, 4, 4, 4, 4, 4, 4, 4, 4, 4, 2, 2, 2, 2, 2, 2, 2, 2, 2, 2, 2, 2, 2, 2, 2, 2, 2, 2, 2, 2, 2, 2, 2, 2, 2, 2, 2, 2, 2, 2, 2, 2, 1, 1, 1, 1, 1, 1, 1, 1, 1, 1, 1, 1, 1, 1, 1, 1, 1, 1, 1, 1, 1, 1, 1, 1, 1, 1, 1, 1, 1, 1, 1, 1, 1, 1, 1, 1, 1, 1, 1, 1, 1, 1, 1, 1, 1, 1, 1, 1, 1, 1, 1, 1, 1, 1, 1, 1, 1, 1, 1, 1, 1, 1, 1, 1, 1, 1, 1, 1, 1, 1, 1, 1, 1, 1, 1, 1, 1, 1, 1, 1, 1, 1, 1, 1, 1, 1, 1, 1, 1, 1, 1, 1, 1, 1, 1, 1, 1, 1, 1, 1, 1, 1, 1, 1, 1, 1, 1, 1, 1, 1, 1, 1, 1, 1, 1, 1, 1, 1, 1, 1, 1, 1, 1, 1, 1, 1, 1, 1, 1, 1, 1, 1, 1, 1, 1, 1, 1, 1, 1, 1, 1, 1, 1, 1, 1, 1, 1, 1, 1, 1, 1, 1, 1, 1, 1, 1, 1, 1, 1, 1, 1, 1, 1, 1, 1, 1, 1, 1, 1, 1, 1, 1, 1, 1, 1, 1, 1, 1, 1, 1, 1, 1, 1, 1, 1, 1, 1, 1, 1, 1, 1, 1, 1, 1, 1, 1, 1, 1, 1, 1, 1, 1, 1, 1, 1, 1, 1, 1, 1, 1, 1, 1, 1, 1, 1, 1, 1, 1, 1, 1, 1, 1, 1, 1, 1, 1, 1, 1, 1, 1, 1, 1, 1, 1, 1, 1, 1, 1, 1, 1, 1, 1, 1, 1, 1, 1, 1, 1, 1, 1, 1, 1, 1, 1, 1, 1, 1, 1, 1, 1, 1, 1, 1, 1, 1, 1, 1, 1, 1, 1, 1, 1, 1, 1, 1, 1, 1, 1, 1, 1, 1, 1, 1, 1, 1, 1, 1, 1, 1, 3, 3, 3, 3, 3, 3, 3, 3, 3, 3, 3, 3, 3, 3, 3, 3, 3, 3, 3, 3, 3, 3, 3, 3, 3, 3, 3, 3, 3, 3, 3, 3, 4, 4, 4, 4, 4, 4, 4, 4, 4, 4, 4, 4, 4, 4, 4, 4, 4, 4, 4, 4, 4, 4, 4, 4, 2, 2, 2, 2, 2, 2, 2, 2, 2, 2, 2, 2, 2, 2, 2, 2, 2, 2, 2, 2, 2, 2, 2, 2, 2, 2, 2, 2, 2, 2, 2, 2, 9, 9, 9, 9, 9, 9, 9, 9, 9, 9, 9, 9, 9, 9, 9, 9, 9, 9, 9, 9, 9, 9, 9, 9, 6, 4, 4, 4, 4, 4, 4, 4, 4, 4, 0, 0, 0, 0, 0, 0, 0, 0, 0, 0, 0, 0, 0, 0, 0, 0, 0, 0, 0, 0, 0, 0, 0, 0, 0, 0, 0, 0, 0, 0, 0, 0, 0, 0, 0, 0, 0, 0, 0, 0, 3, 3, 3, 3, 3, 3, 3, 3, 5, 5, 5, 5, 5, 5, 5, 5, 5, 5, 5, 5, 5, 5, 5, 5, 5, 5, 5, 5, 5, 5, 5, 5, 7, 7, 7, 7, 7, 7, 7, 7, 7, 7, 7, 7, 7, 7, 7, 7, 7, 7, 7, 7, 7, 7, 7, 7, 7, 7, 7, 7, 7, 7, 7, 7, 7, 7, 7, 7, 7, 7, 7, 7, 7, 7, 7, 7, 7, 7, 7, 7, 7, 7, 7, 7, 7, 7, 7, 7, 5, 5, 5, 5, 5, 5, 5, 5, 5, 5, 5, 5, 5, 5, 5, 5, 6]\n"
          ],
          "name": "stdout"
        }
      ]
    },
    {
      "cell_type": "markdown",
      "metadata": {
        "id": "zPVNPUak32m_"
      },
      "source": [
        "classID:\n",
        "0 = air_conditioner\n",
        "1 = car_horn\n",
        "2 = children_playing\n",
        "3 = dog_bark\n",
        "4 = drilling\n",
        "5 = engine_idling\n",
        "6 = gun_shot\n",
        "7 = jackhammer\n",
        "8 = siren\n",
        "9 = street_music"
      ]
    }
  ]
}
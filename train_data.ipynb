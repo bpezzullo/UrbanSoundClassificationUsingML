{
  "nbformat": 4,
  "nbformat_minor": 0,
  "metadata": {
    "colab": {
      "name": "train_data.ipynb",
      "provenance": [],
      "collapsed_sections": [],
      "include_colab_link": true
    },
    "kernelspec": {
      "name": "python3",
      "display_name": "Python 3"
    }
  },
  "cells": [
    {
      "cell_type": "markdown",
      "metadata": {
        "id": "view-in-github",
        "colab_type": "text"
      },
      "source": [
        "<a href=\"https://colab.research.google.com/github/bpezzullo/UrbanSoundClassificationUsingML/blob/main/train_data.ipynb\" target=\"_parent\"><img src=\"https://colab.research.google.com/assets/colab-badge.svg\" alt=\"Open In Colab\"/></a>"
      ]
    },
    {
      "cell_type": "code",
      "metadata": {
        "id": "A0r3bsTCLKcX",
        "outputId": "4a5b014a-3cbb-4e60-cd70-02645fa01810",
        "colab": {
          "base_uri": "https://localhost:8080/"
        }
      },
      "source": [
        "import os\n",
        "# Find the latest version of spark 3.0  from http://www-us.apache.org/dist/spark/ and enter as the spark version\n",
        "# For example:\n",
        "spark_version = 'spark-3.0.1'\n",
        "#spark_version = 'spark-3.<enter version>'\n",
        "os.environ['SPARK_VERSION']=spark_version\n",
        "\n",
        "# Install Spark and Java\n",
        "!apt-get update\n",
        "!apt-get install openjdk-11-jdk-headless -qq > /dev/null\n",
        "!wget -q http://www-us.apache.org/dist/spark/$SPARK_VERSION/$SPARK_VERSION-bin-hadoop2.7.tgz\n",
        "!tar xf $SPARK_VERSION-bin-hadoop2.7.tgz\n",
        "!pip install -q findspark\n",
        "\n",
        "# Set Environment Variables\n",
        "os.environ[\"JAVA_HOME\"] = \"/usr/lib/jvm/java-11-openjdk-amd64\"\n",
        "os.environ[\"SPARK_HOME\"] = f\"/content/{spark_version}-bin-hadoop2.7\"\n",
        "\n",
        "# Start a SparkSession\n",
        "import findspark\n",
        "findspark.init()"
      ],
      "execution_count": 1,
      "outputs": [
        {
          "output_type": "stream",
          "text": [
            "Ign:1 https://developer.download.nvidia.com/compute/cuda/repos/ubuntu1804/x86_64  InRelease\n",
            "Get:2 https://cloud.r-project.org/bin/linux/ubuntu bionic-cran40/ InRelease [3,626 B]\n",
            "Get:3 http://security.ubuntu.com/ubuntu bionic-security InRelease [88.7 kB]\n",
            "Get:4 http://ppa.launchpad.net/c2d4u.team/c2d4u4.0+/ubuntu bionic InRelease [15.9 kB]\n",
            "Hit:5 http://archive.ubuntu.com/ubuntu bionic InRelease\n",
            "Ign:6 https://developer.download.nvidia.com/compute/machine-learning/repos/ubuntu1804/x86_64  InRelease\n",
            "Get:7 https://developer.download.nvidia.com/compute/cuda/repos/ubuntu1804/x86_64  Release [697 B]\n",
            "Hit:8 https://developer.download.nvidia.com/compute/machine-learning/repos/ubuntu1804/x86_64  Release\n",
            "Get:9 https://developer.download.nvidia.com/compute/cuda/repos/ubuntu1804/x86_64  Release.gpg [836 B]\n",
            "Get:10 http://archive.ubuntu.com/ubuntu bionic-updates InRelease [88.7 kB]\n",
            "Get:11 http://ppa.launchpad.net/graphics-drivers/ppa/ubuntu bionic InRelease [21.3 kB]\n",
            "Get:12 http://archive.ubuntu.com/ubuntu bionic-backports InRelease [74.6 kB]\n",
            "Ign:14 https://developer.download.nvidia.com/compute/cuda/repos/ubuntu1804/x86_64  Packages\n",
            "Get:14 https://developer.download.nvidia.com/compute/cuda/repos/ubuntu1804/x86_64  Packages [407 kB]\n",
            "Get:15 http://ppa.launchpad.net/c2d4u.team/c2d4u4.0+/ubuntu bionic/main Sources [1,688 kB]\n",
            "Get:16 http://security.ubuntu.com/ubuntu bionic-security/main amd64 Packages [1,750 kB]\n",
            "Get:17 http://archive.ubuntu.com/ubuntu bionic-updates/main amd64 Packages [2,167 kB]\n",
            "Get:18 http://security.ubuntu.com/ubuntu bionic-security/universe amd64 Packages [1,354 kB]\n",
            "Get:19 http://ppa.launchpad.net/c2d4u.team/c2d4u4.0+/ubuntu bionic/main amd64 Packages [864 kB]\n",
            "Get:20 http://archive.ubuntu.com/ubuntu bionic-updates/universe amd64 Packages [2,119 kB]\n",
            "Get:21 http://ppa.launchpad.net/graphics-drivers/ppa/ubuntu bionic/main amd64 Packages [46.6 kB]\n",
            "Fetched 10.7 MB in 3s (3,270 kB/s)\n",
            "Reading package lists... Done\n"
          ],
          "name": "stdout"
        }
      ]
    },
    {
      "cell_type": "code",
      "metadata": {
        "id": "YUbGjJQra_Gm",
        "outputId": "515b86c6-5823-4fd9-bdc6-c9812b38901a",
        "colab": {
          "base_uri": "https://localhost:8080/"
        }
      },
      "source": [
        "!wget https://jdbc.postgresql.org/download/postgresql-42.2.9.jar"
      ],
      "execution_count": 2,
      "outputs": [
        {
          "output_type": "stream",
          "text": [
            "--2020-11-10 16:46:07--  https://jdbc.postgresql.org/download/postgresql-42.2.9.jar\n",
            "Resolving jdbc.postgresql.org (jdbc.postgresql.org)... 72.32.157.228, 2001:4800:3e1:1::228\n",
            "Connecting to jdbc.postgresql.org (jdbc.postgresql.org)|72.32.157.228|:443... connected.\n",
            "HTTP request sent, awaiting response... 200 OK\n",
            "Length: 914037 (893K) [application/java-archive]\n",
            "Saving to: ‘postgresql-42.2.9.jar’\n",
            "\n",
            "postgresql-42.2.9.j 100%[===================>] 892.61K  5.03MB/s    in 0.2s    \n",
            "\n",
            "2020-11-10 16:46:07 (5.03 MB/s) - ‘postgresql-42.2.9.jar’ saved [914037/914037]\n",
            "\n"
          ],
          "name": "stdout"
        }
      ]
    },
    {
      "cell_type": "code",
      "metadata": {
        "id": "4DIeICb3bFyO"
      },
      "source": [
        "from pyspark.sql import SparkSession\n",
        "spark = SparkSession.builder.appName(\"CloudETL\").config(\"spark.driver.extraClassPath\",\"/content/postgresql-42.2.9.jar\").getOrCreate()"
      ],
      "execution_count": 3,
      "outputs": []
    },
    {
      "cell_type": "code",
      "metadata": {
        "id": "W-0uJbG7ps-J"
      },
      "source": [
        "# Function to pull the files from my S3 drive.  I also stored the files under Github\n",
        "import numpy as np\n",
        "from google.colab import files\n",
        "import json\n",
        "# Read in data from S3 Buckets\n",
        "from pyspark import SparkFiles\n",
        "\n",
        "def pulljsonFiles(filename):\n",
        "  json_url=\"https://billdatavizclass.s3.amazonaws.com/\" + filename\n",
        "  spark.sparkContext.addFile(json_url)\n",
        "  data= spark.read.option('multiline','true').json(SparkFiles.get(filename))\n",
        "\n",
        "  # return the data from the file\n",
        "  inputsTmp = data.select(\"mfcc\").collect()\n",
        "  inputs = inputsTmp[0][0] #  \n",
        "  targetsTmp = data.select(\"classID\").collect()\n",
        "  targets = targetsTmp[0][0]\n",
        "\n",
        "  return inputs,targets\n",
        "\n"
      ],
      "execution_count": 4,
      "outputs": []
    },
    {
      "cell_type": "code",
      "metadata": {
        "id": "4LGQIqzkQDF1"
      },
      "source": [
        "def createSet(inputs,targets,currentSet=[], currentTarget=[]):\n",
        "\n",
        "  for i in range(len(inputs)):\n",
        "      currentSet.append(inputs[i])\n",
        "      currentTarget.append(targets[i])\n",
        "  return currentSet, currentTarget"
      ],
      "execution_count": 5,
      "outputs": []
    },
    {
      "cell_type": "code",
      "metadata": {
        "id": "XbyPR2FxM3Fq",
        "outputId": "33c1460c-67b4-40db-adfc-2b80a37f91b3",
        "colab": {
          "base_uri": "https://localhost:8080/"
        }
      },
      "source": [
        "# This cell creates the input to the model and splits the data to Test, Validation, and Training.  In each model ran\n",
        "# there will be 7 data sets (ds) of training data, 2 ds of test and 1 ds of validation giving the 70-10-20 split.  TO control this \n",
        "# modify the testList and valList with the approporiate datasets.  \n",
        "from sklearn.model_selection import train_test_split\n",
        "import tensorflow.keras as keras\n",
        "from tensorflow.keras.models import Sequential\n",
        "from tensorflow.keras.layers import Dense\n",
        "\n",
        "fileList = [\"data1.json\",\"data2.json\",\"data3.json\",\"data4.json\",\"data5.json\",\"data6.json\",\"data7.json\",\"data8.json\",\"data9.json\",\"data10.json\"]\n",
        "testList = [\"data10.json\",\"data2.json\"]\n",
        "valList = [\"data1.json\"]\n",
        "X_test = []\n",
        "X_train = []\n",
        "X_val = []\n",
        "y_test = []\n",
        "y_train = []\n",
        "y_val = []\n",
        "\n",
        "# loop through and create the input for the mode to run\n",
        "for file in fileList:\n",
        "  inputs, targets = pulljsonFiles(file)\n",
        "  print(np.shape(inputs))\n",
        "  if file in testList: X_test, y_test = createSet(inputs,targets,X_test, y_test)\n",
        "  elif file in valList: x_val, y_val = createSet(inputs,targets,X_val, y_val)\n",
        "  else: X_train, y_train = createSet(inputs,targets,X_train, y_train)\n",
        "  print(f\"done with file: {file}\")\n",
        "print(\"shape\",np.shape(X_train))\n",
        "print(\"shape\",np.shape(X_test))\n",
        "X_test = np.array(X_test)\n",
        "X_train = np.array(X_train)\n",
        "y_test = np.array(y_test)\n",
        "y_train = np.array(y_train)\n",
        "X_val = np.array(X_val)\n",
        "y_val = np.array(y_val)"
      ],
      "execution_count": 22,
      "outputs": [
        {
          "output_type": "stream",
          "text": [
            "(3106, 44, 13)\n",
            "done with file: data1.json\n",
            "(3076, 44, 13)\n",
            "done with file: data2.json\n",
            "(3337, 44, 13)\n",
            "done with file: data3.json\n",
            "(3454, 44, 13)\n",
            "done with file: data4.json\n",
            "(3248, 44, 13)\n",
            "done with file: data5.json\n",
            "(2901, 44, 13)\n",
            "done with file: data6.json\n",
            "(3010, 44, 13)\n",
            "done with file: data7.json\n",
            "(2809, 44, 13)\n",
            "done with file: data8.json\n",
            "(2910, 44, 13)\n",
            "done with file: data9.json\n",
            "(2974, 44, 13)\n",
            "done with file: data10.json\n",
            "shape (21669, 44, 13)\n",
            "shape (6050, 44, 13)\n"
          ],
          "name": "stdout"
        }
      ]
    },
    {
      "cell_type": "code",
      "metadata": {
        "id": "gDSZu6mlZnbK",
        "outputId": "55403d4e-04c1-4639-da3d-18bb63fed149",
        "colab": {
          "base_uri": "https://localhost:8080/"
        }
      },
      "source": [
        "# A visual of the shape and size of the data\n",
        "print(X_train.shape[0],X_train.shape[1], X_train.shape[2])\n",
        "print(y_train.shape[0], y_train.shape[1])\n",
        "print(X_test.shape[0],X_test.shape[1], X_test.shape[2])\n",
        "print(y_test.shape[0], y_test.shape[1])\n"
      ],
      "execution_count": 23,
      "outputs": [
        {
          "output_type": "stream",
          "text": [
            "21669 44 13\n",
            "21669 1\n",
            "6050 44 13\n",
            "6050 1\n"
          ],
          "name": "stdout"
        }
      ]
    },
    {
      "cell_type": "code",
      "metadata": {
        "id": "rr6eTuJ0_3Et",
        "outputId": "f08a4310-3e8b-467e-ac52-e4e8bc220df1",
        "colab": {
          "base_uri": "https://localhost:8080/"
        }
      },
      "source": [
        "# mount google drive to save the results\n",
        "from google.colab import drive\n",
        "drive.mount(\"/content/gdrive\")"
      ],
      "execution_count": 12,
      "outputs": [
        {
          "output_type": "stream",
          "text": [
            "Mounted at /content/gdrive\n"
          ],
          "name": "stdout"
        }
      ]
    },
    {
      "cell_type": "code",
      "metadata": {
        "id": "daRkA2M8rOdy",
        "outputId": "94a13f5f-b59d-4fe1-aa7e-92e3277c84cf",
        "colab": {
          "base_uri": "https://localhost:8080/",
          "height": 52
        }
      },
      "source": [
        "# This cell drives the creation and training of the models.  \n",
        "from sklearn.metrics import classification_report\n",
        "  \n",
        "class_names=[\"air_conditioner\",\n",
        "             \"car_horn\",\n",
        "             \"children_playing\",\n",
        "             \"dog_bark\",\n",
        "             \"drilling\",\n",
        "             \"engine_idling\",\n",
        "             \"gun_shot\",\n",
        "             \"jackhammer\",\n",
        "             \"siren\",\n",
        "             \"street_music\"]\n",
        "\n",
        "\n",
        "# Set the parameters for Sequential model\n",
        "neuronsHidden = [2**6, 2**7, 2**8, 2**9]\n",
        "dropouts = [0.2, 0.3, 0.4]\n",
        "epochs = [30, 40, 50]\n",
        "batchsizes = [16, 32]\n",
        "finalResults = []\n",
        "save_model = False\n",
        "# When narrowing down on the best model, created the below array and modified the for statement to below.\n",
        "# sets = [[128,0.4,200,16],[128,0.4,200,16]]\n",
        "# for (nn,dd,ee,bb) in sets:     # this replaces the 4 for statements below\n",
        "\n",
        "\n",
        "for nn in neuronsHidden:\n",
        "  for dd in dropouts:\n",
        "    for ee in epochs:\n",
        "      for bb in batchsizes:\n",
        "        data = run_model(nn,dd,ee,bb,rr,X_train,y_train,X_test,y_test,X_val,y_val,save_model)\n",
        "        finalResults.append(data)\n",
        "        # plot_history2(data)    # if you wanted to plot the training and validation lines uncomment\n",
        "        print(nn,dd,ee,bb)\n",
        "\n",
        "# file name is based on the dataset being used.\n",
        "# test one was ds 1, 3 for test and 2 for validate  resultsds123.json\n",
        "# test two was ds 4, 6 for test and 5 for validate  resultsds456.json\n",
        "# test one was ds 7, 9 for test and 8 for validate  resultsds789.json\n",
        "# test two was ds 10, 2 for test and 1 for validate resultsds1012.json\n",
        "\n",
        "with open(\"/content/gdrive/My Drive/FinalProject/resultsds123.json, \"w\") as f:\n",
        "  json.dump(finalResults, f)\n",
        "\n",
        "files.download(\"/content/gdrive/My Drive/FinalProject/resultsds123.json\")"
      ],
      "execution_count": 39,
      "outputs": [
        {
          "output_type": "stream",
          "text": [
            "128 0.4 200 16\n",
            "128 0.4 200 16\n"
          ],
          "name": "stdout"
        },
        {
          "output_type": "display_data",
          "data": {
            "application/javascript": [
              "\n",
              "    async function download(id, filename, size) {\n",
              "      if (!google.colab.kernel.accessAllowed) {\n",
              "        return;\n",
              "      }\n",
              "      const div = document.createElement('div');\n",
              "      const label = document.createElement('label');\n",
              "      label.textContent = `Downloading \"${filename}\": `;\n",
              "      div.appendChild(label);\n",
              "      const progress = document.createElement('progress');\n",
              "      progress.max = size;\n",
              "      div.appendChild(progress);\n",
              "      document.body.appendChild(div);\n",
              "\n",
              "      const buffers = [];\n",
              "      let downloaded = 0;\n",
              "\n",
              "      const channel = await google.colab.kernel.comms.open(id);\n",
              "      // Send a message to notify the kernel that we're ready.\n",
              "      channel.send({})\n",
              "\n",
              "      for await (const message of channel.messages) {\n",
              "        // Send a message to notify the kernel that we're ready.\n",
              "        channel.send({})\n",
              "        if (message.buffers) {\n",
              "          for (const buffer of message.buffers) {\n",
              "            buffers.push(buffer);\n",
              "            downloaded += buffer.byteLength;\n",
              "            progress.value = downloaded;\n",
              "          }\n",
              "        }\n",
              "      }\n",
              "      const blob = new Blob(buffers, {type: 'application/binary'});\n",
              "      const a = document.createElement('a');\n",
              "      a.href = window.URL.createObjectURL(blob);\n",
              "      a.download = filename;\n",
              "      div.appendChild(a);\n",
              "      a.click();\n",
              "      div.remove();\n",
              "    }\n",
              "  "
            ],
            "text/plain": [
              "<IPython.core.display.Javascript object>"
            ]
          },
          "metadata": {
            "tags": []
          }
        },
        {
          "output_type": "display_data",
          "data": {
            "application/javascript": [
              "download(\"download_c97a0290-58fd-4c68-a5f8-f0fbb63c45f5\", \"example2ds1012scaled.json\", 19423)"
            ],
            "text/plain": [
              "<IPython.core.display.Javascript object>"
            ]
          },
          "metadata": {
            "tags": []
          }
        }
      ]
    },
    {
      "cell_type": "code",
      "metadata": {
        "id": "cebATCuKtfa-"
      },
      "source": [
        "def run_model(nn,dd,ee,bb,rr,X_train,y_train,X_test,y_test,X_val,y_val,save_model):\n",
        "  param_results = {\"parameters\": [],\n",
        "                  \"report\" : [],\n",
        "                  \"finalAcc\": 0.0,\n",
        "                  \"finalVal\": 0.0,\n",
        "                  \"finalAccData\": [],\n",
        "                  \"finalValData\": []\n",
        "                  }\n",
        "  class_names=[\"air_conditioner\",\n",
        "             \"car_horn\",\n",
        "             \"children_playing\",\n",
        "             \"dog_bark\",\n",
        "             \"drilling\",\n",
        "             \"engine_idling\",\n",
        "             \"gun_shot\",\n",
        "             \"jackhammer\",\n",
        "             \"siren\",\n",
        "             \"street_music\"]\n",
        "\n",
        "  keras.backend.clear_session()\n",
        "\n",
        "\n",
        "  # build the network architecture\n",
        "  model = keras.Sequential([\n",
        "      # input layer\n",
        "      keras.layers.Flatten(input_shape=(X_train.shape[1], X_train.shape[2])),\n",
        "      \n",
        "      # lst hidden layer\n",
        "      keras.layers.Dense(nn, activation=\"relu\", kernel_regularizer=keras.regularizers.l2(0.001)),\n",
        "      keras.layers.Dropout(dd),\n",
        "      \n",
        "      # 2nd hidden layer\n",
        "      keras.layers.Dense(nn/2, activation=\"relu\", kernel_regularizer=keras.regularizers.l2(0.001)),\n",
        "      keras.layers.Dropout(dd),\n",
        "      \n",
        "      # # 3rd hidden layer\n",
        "      keras.layers.Dense(nn/4, activation=\"relu\", kernel_regularizer=keras.regularizers.l2(0.001)),\n",
        "      keras.layers.Dropout(dd),\n",
        "      \n",
        "      # output layer\n",
        "      keras.layers.Dense(10, activation=\"softmax\")\n",
        "  ])\n",
        "\n",
        "  # compile network : example\n",
        "  optimizer = keras.optimizers.Adam(learning_rate=0.0001)\n",
        "  model.compile(optimizer=optimizer,   # 'adam',\n",
        "              loss = \"sparse_categorical_crossentropy\",\n",
        "              metrics=[\"accuracy\"])\n",
        "\n",
        "  model_history = model.fit(X_train, y_train, validation_data=(X_val, y_val), epochs=ee, batch_size=bb, verbose=0 )\n",
        "              \n",
        "  # store the result which will be later saved to a file            \n",
        "  predictions = np.argmax(model.predict(X_test), axis=1)\n",
        "  report = classification_report(y_test, predictions,\n",
        "                                  target_names=class_names,\n",
        "                                  output_dict=True)\n",
        "  param_results[\"parameters\"]= [nn,dd,ee,bb],\n",
        "  param_results[\"report\"] = report\n",
        "  param_results[\"finalAcc\"]= model_history.history[\"accuracy\"][-1]\n",
        "  param_results[\"finalVal\"]= model_history.history[\"val_accuracy\"][-1]\n",
        "  param_results[\"finalAccData\"]= model_history.history[\"accuracy\"]\n",
        "  param_results[\"finalValData\"]= model_history.history[\"val_accuracy\"]\n",
        "  \n",
        "  if save_model: \n",
        "    # Save the model to be used later\n",
        "    model.save(\"/content/gdrive/My Drive/FinalProject/Experiment2_best_model.h5\")\n",
        "\n",
        "  return param_results"
      ],
      "execution_count": 25,
      "outputs": []
    },
    {
      "cell_type": "code",
      "metadata": {
        "id": "ZHRo58BwOfCu"
      },
      "source": [
        "import matplotlib.pyplot as plt\n",
        "\n",
        "def plot_history2(history):\n",
        "  fig, axs = plt.subplots(2,figsize=(20,10))\n",
        "\n",
        "  # create the accuracy subplot\n",
        "  axs[0].plot(history.[\"history\"][\"accuracy\"],label=\"train accuracy\")\n",
        "  axs[0].plot(history.[\"history\"][\"val_accuracy\"],label=\"test accuracy\")\n",
        "  axs[0].set_ylabel(\"Accuracy\")\n",
        "  axs[0].legend(loc=\"best\")\n",
        "  axs[0].set_title(\"accuracy eval\")\n",
        "  axs[0].set_ylim(0, 1)\n",
        "\n",
        "  plt.show()"
      ],
      "execution_count": null,
      "outputs": []
    },
    {
      "cell_type": "markdown",
      "metadata": {
        "id": "Q8PxNQuHQkmn"
      },
      "source": [
        "#Re-run model"
      ]
    },
    {
      "cell_type": "code",
      "metadata": {
        "id": "bYo8FxjeQENm"
      },
      "source": [
        "# Load the model\n",
        "from tensorflow.keras.models import load_model\n",
        "voice_model = load_model(\"/content/gdrive/My Drive/FinalProject/Experiment2_best_model.h5\")"
      ],
      "execution_count": null,
      "outputs": []
    },
    {
      "cell_type": "code",
      "metadata": {
        "id": "atWWQ1xAQWki"
      },
      "source": [
        "model_loss, model_accuracy = model.evaluate(\n",
        "    X_test, y_test, verbose=2)\n",
        "print(\n",
        "    f\"Normal Neural Network - Loss: {model_loss}, Accuracy: {model_accuracy}\")"
      ],
      "execution_count": null,
      "outputs": []
    },
    {
      "cell_type": "code",
      "metadata": {
        "id": "9pDqP33TQWk6"
      },
      "source": [
        "# Calculate classification report\n",
        "class_names=[\"air_conditioner\",\n",
        "              \"car_horn\",\n",
        "             \"children_playing\",\n",
        "             \"dog_bark\",\n",
        "             \"drilling\",\n",
        "             \"engine_idling\",\n",
        "             \"gun_shot\",\n",
        "             \"jackhammer\",\n",
        "             \"siren\",\n",
        "             \"street_music\"]\n",
        "# convert output to simple array\n",
        "y_temp = []\n",
        "for i in range(len(y_test)):\n",
        "  y_temp.append(y_test[i][0])\n",
        "\n",
        "             \n",
        "from sklearn.metrics import classification_report\n",
        "predictions = model.predict_classes(X_test)\n",
        "print(classification_report(y_temp, predictions,\n",
        "                            target_names=class_names))"
      ],
      "execution_count": null,
      "outputs": []
    },
    {
      "cell_type": "markdown",
      "metadata": {
        "id": "sVx6aAiQQ8LQ"
      },
      "source": [
        "# Single run cells\n"
      ]
    },
    {
      "cell_type": "code",
      "metadata": {
        "id": "KFhvZaJE9c5L"
      },
      "source": [
        "# After selecting the best model, I took scaled the input to see if that would improve the results.  In this case it made\n",
        "# it worse.\n",
        "from sklearn.preprocessing import LabelEncoder, MinMaxScaler, StandardScaler\n",
        "scalers = {}\n",
        "X_train_scaled = X_train\n",
        "X_test_scaled = X_test\n",
        "X_val_scaled = X_val\n",
        "\n",
        "for i in range(X_train.shape[1]):\n",
        "  scalers[i]= StandardScaler()\n",
        "  X_train_scaled[:,i,:] = scalers[i].fit_transform(X_train[:,i,:])\n",
        "\n",
        "for i in range(X_test.shape[1]):\n",
        "  X_test_scaled[:,i,:] = scalers[i].transform(X_test[:,i,:])\n",
        "\n",
        "for i in range(X_val.shape[1]):\n",
        "  X_val_scaled[:,i,:] = scalers[i].transform(X_val[:,i,:])\n",
        "# X_scaler = MinMaxScaler().fit(X_train)\n"
      ],
      "execution_count": 32,
      "outputs": []
    },
    {
      "cell_type": "code",
      "metadata": {
        "id": "d62Q_MZLZcPI",
        "outputId": "b8d3fcc9-8ec3-4ba1-d815-773a08dd42ca",
        "colab": {
          "base_uri": "https://localhost:8080/"
        }
      },
      "source": [
        "print(\"scaled\",X_test_scaled[0][0])\n",
        "print('reg',X_test[0][0])"
      ],
      "execution_count": 37,
      "outputs": [
        {
          "output_type": "stream",
          "text": [
            "scaled [-2.32965262 -0.91503091 -1.22064651 -2.46677326 -0.04863221 -1.85756005\n",
            " -1.3626175  -0.93088443  0.17465882  2.10449883  4.30238814  1.85625286\n",
            "  0.22116921]\n",
            "reg [-2.32965262 -0.91503091 -1.22064651 -2.46677326 -0.04863221 -1.85756005\n",
            " -1.3626175  -0.93088443  0.17465882  2.10449883  4.30238814  1.85625286\n",
            "  0.22116921]\n"
          ],
          "name": "stdout"
        }
      ]
    },
    {
      "cell_type": "code",
      "metadata": {
        "id": "313Nnvu64VdU"
      },
      "source": [
        "# Clear out the previous results so they don't taint the next run.\n",
        "keras.backend.clear_session()"
      ],
      "execution_count": null,
      "outputs": []
    },
    {
      "cell_type": "code",
      "metadata": {
        "id": "MDn6qvBW25kf"
      },
      "source": [
        "# Cells used to learn about the models and just run single runs.\n",
        "# build the network architecture\n",
        "model = keras.Sequential([\n",
        "    # input layer\n",
        "    keras.layers.Flatten(input_shape=(X_train.shape[1], X_train.shape[2])),\n",
        "    \n",
        "    # lst hidden layer\n",
        "    keras.layers.Dense(100, activation=\"relu\", kernel_regularizer=keras.regularizers.l2(0.001)),\n",
        "    keras.layers.Dropout(0.1),\n",
        "    \n",
        "    # 2nd hidden layer\n",
        "    keras.layers.Dense(25, activation=\"relu\", kernel_regularizer=keras.regularizers.l2(0.001)),\n",
        "    keras.layers.Dropout(0.1),\n",
        "    \n",
        "    # # 3rd hidden layer\n",
        "    # keras.layers.Dense(25, activation=\"relu\", kernel_regularizer=keras.regularizers.l2(0.001)),\n",
        "    keras.layers.Dropout(0.1),\n",
        "    \n",
        "    # output layer\n",
        "    keras.layers.Dense(10, activation=\"softmax\")\n",
        "])"
      ],
      "execution_count": null,
      "outputs": []
    },
    {
      "cell_type": "code",
      "metadata": {
        "id": "72xPIY_S253Q",
        "outputId": "57cfa75f-a9d8-4734-a2f9-21c6cec8100e",
        "colab": {
          "base_uri": "https://localhost:8080/"
        }
      },
      "source": [
        "# compile network : example\n",
        "optimizer = keras.optimizers.Adam(learning_rate=0.0001)\n",
        "model.compile(optimizer=optimizer,   # 'adam',\n",
        "             loss = \"sparse_categorical_crossentropy\",\n",
        "             metrics=[\"accuracy\"])\n",
        "model.summary()"
      ],
      "execution_count": null,
      "outputs": [
        {
          "output_type": "stream",
          "text": [
            "Model: \"sequential\"\n",
            "_________________________________________________________________\n",
            "Layer (type)                 Output Shape              Param #   \n",
            "=================================================================\n",
            "flatten (Flatten)            (None, 572)               0         \n",
            "_________________________________________________________________\n",
            "dense (Dense)                (None, 100)               57300     \n",
            "_________________________________________________________________\n",
            "dense_1 (Dense)              (None, 25)                2525      \n",
            "_________________________________________________________________\n",
            "dense_2 (Dense)              (None, 10)                260       \n",
            "=================================================================\n",
            "Total params: 60,085\n",
            "Trainable params: 60,085\n",
            "Non-trainable params: 0\n",
            "_________________________________________________________________\n"
          ],
          "name": "stdout"
        }
      ]
    },
    {
      "cell_type": "markdown",
      "metadata": {
        "id": "SDIPKCeEXRNE"
      },
      "source": [
        "# Train the model"
      ]
    },
    {
      "cell_type": "code",
      "metadata": {
        "id": "haDAhLiO63TT",
        "outputId": "80e830e4-17d7-41d8-f193-e781bcdc7e16",
        "colab": {
          "base_uri": "https://localhost:8080/"
        }
      },
      "source": [
        "# train network\n",
        "model_history = model.fit(X_train, y_train, validation_data=(X_val, y_val), epochs=150, batch_size=32)\n",
        "\n"
      ],
      "execution_count": null,
      "outputs": [
        {
          "output_type": "stream",
          "text": [
            "Epoch 1/150\n",
            "664/664 [==============================] - 1s 2ms/step - loss: 9.4249 - accuracy: 0.2363 - val_loss: 2.4396 - val_accuracy: 0.2103\n",
            "Epoch 2/150\n",
            "664/664 [==============================] - 1s 2ms/step - loss: 2.1228 - accuracy: 0.2565 - val_loss: 2.3801 - val_accuracy: 0.2310\n",
            "Epoch 3/150\n",
            "664/664 [==============================] - 1s 2ms/step - loss: 1.9739 - accuracy: 0.3017 - val_loss: 2.4150 - val_accuracy: 0.2275\n",
            "Epoch 4/150\n",
            "664/664 [==============================] - 1s 2ms/step - loss: 1.8736 - accuracy: 0.3427 - val_loss: 2.3856 - val_accuracy: 0.2392\n",
            "Epoch 5/150\n",
            "664/664 [==============================] - 1s 2ms/step - loss: 1.8046 - accuracy: 0.3581 - val_loss: 2.3417 - val_accuracy: 0.2789\n",
            "Epoch 6/150\n",
            "664/664 [==============================] - 1s 2ms/step - loss: 1.7507 - accuracy: 0.3716 - val_loss: 2.3398 - val_accuracy: 0.2699\n",
            "Epoch 7/150\n",
            "664/664 [==============================] - 1s 2ms/step - loss: 1.7015 - accuracy: 0.3815 - val_loss: 2.3857 - val_accuracy: 0.2975\n",
            "Epoch 8/150\n",
            "664/664 [==============================] - 1s 2ms/step - loss: 1.6596 - accuracy: 0.3960 - val_loss: 2.2788 - val_accuracy: 0.2992\n",
            "Epoch 9/150\n",
            "664/664 [==============================] - 1s 2ms/step - loss: 1.6166 - accuracy: 0.4085 - val_loss: 2.2453 - val_accuracy: 0.2906\n",
            "Epoch 10/150\n",
            "664/664 [==============================] - 1s 2ms/step - loss: 1.5641 - accuracy: 0.4274 - val_loss: 2.2307 - val_accuracy: 0.2820\n",
            "Epoch 11/150\n",
            "664/664 [==============================] - 1s 2ms/step - loss: 1.5325 - accuracy: 0.4354 - val_loss: 2.2903 - val_accuracy: 0.2930\n",
            "Epoch 12/150\n",
            "664/664 [==============================] - 1s 2ms/step - loss: 1.4963 - accuracy: 0.4458 - val_loss: 2.2186 - val_accuracy: 0.3061\n",
            "Epoch 13/150\n",
            "664/664 [==============================] - 1s 2ms/step - loss: 1.4472 - accuracy: 0.4568 - val_loss: 2.3789 - val_accuracy: 0.3292\n",
            "Epoch 14/150\n",
            "664/664 [==============================] - 1s 2ms/step - loss: 1.4185 - accuracy: 0.4618 - val_loss: 2.3052 - val_accuracy: 0.3409\n",
            "Epoch 15/150\n",
            "664/664 [==============================] - 1s 2ms/step - loss: 1.3839 - accuracy: 0.4931 - val_loss: 2.2773 - val_accuracy: 0.3140\n",
            "Epoch 16/150\n",
            "664/664 [==============================] - 1s 2ms/step - loss: 1.3411 - accuracy: 0.5164 - val_loss: 2.2667 - val_accuracy: 0.3206\n",
            "Epoch 17/150\n",
            "664/664 [==============================] - 1s 2ms/step - loss: 1.3167 - accuracy: 0.5249 - val_loss: 2.2773 - val_accuracy: 0.3216\n",
            "Epoch 18/150\n",
            "664/664 [==============================] - 1s 2ms/step - loss: 1.2737 - accuracy: 0.5444 - val_loss: 2.2614 - val_accuracy: 0.3254\n",
            "Epoch 19/150\n",
            "664/664 [==============================] - 1s 2ms/step - loss: 1.2384 - accuracy: 0.5609 - val_loss: 2.3200 - val_accuracy: 0.3650\n",
            "Epoch 20/150\n",
            "664/664 [==============================] - 1s 2ms/step - loss: 1.2043 - accuracy: 0.5769 - val_loss: 2.2635 - val_accuracy: 0.3475\n",
            "Epoch 21/150\n",
            "664/664 [==============================] - 1s 2ms/step - loss: 1.1736 - accuracy: 0.5863 - val_loss: 2.2940 - val_accuracy: 0.3495\n",
            "Epoch 22/150\n",
            "664/664 [==============================] - 1s 2ms/step - loss: 1.1458 - accuracy: 0.5947 - val_loss: 2.4373 - val_accuracy: 0.3654\n",
            "Epoch 23/150\n",
            "664/664 [==============================] - 1s 2ms/step - loss: 1.1146 - accuracy: 0.6016 - val_loss: 2.1271 - val_accuracy: 0.3616\n",
            "Epoch 24/150\n",
            "664/664 [==============================] - 1s 2ms/step - loss: 1.0851 - accuracy: 0.6143 - val_loss: 2.3027 - val_accuracy: 0.3695\n",
            "Epoch 25/150\n",
            "664/664 [==============================] - 1s 2ms/step - loss: 1.0480 - accuracy: 0.6246 - val_loss: 2.4414 - val_accuracy: 0.3599\n",
            "Epoch 26/150\n",
            "664/664 [==============================] - 1s 2ms/step - loss: 1.0114 - accuracy: 0.6371 - val_loss: 2.3851 - val_accuracy: 0.3557\n",
            "Epoch 27/150\n",
            "664/664 [==============================] - 1s 2ms/step - loss: 0.9874 - accuracy: 0.6443 - val_loss: 2.3232 - val_accuracy: 0.3382\n",
            "Epoch 28/150\n",
            "664/664 [==============================] - 1s 2ms/step - loss: 0.9662 - accuracy: 0.6498 - val_loss: 2.4986 - val_accuracy: 0.3378\n",
            "Epoch 29/150\n",
            "664/664 [==============================] - 1s 2ms/step - loss: 0.9456 - accuracy: 0.6569 - val_loss: 2.5416 - val_accuracy: 0.3440\n",
            "Epoch 30/150\n",
            "664/664 [==============================] - 1s 2ms/step - loss: 0.9326 - accuracy: 0.6609 - val_loss: 2.3502 - val_accuracy: 0.3695\n",
            "Epoch 31/150\n",
            "664/664 [==============================] - 1s 2ms/step - loss: 0.9065 - accuracy: 0.6753 - val_loss: 2.4950 - val_accuracy: 0.3647\n",
            "Epoch 32/150\n",
            "664/664 [==============================] - 1s 2ms/step - loss: 0.8772 - accuracy: 0.6851 - val_loss: 2.7129 - val_accuracy: 0.3530\n",
            "Epoch 33/150\n",
            "664/664 [==============================] - 1s 2ms/step - loss: 0.8576 - accuracy: 0.6899 - val_loss: 2.6660 - val_accuracy: 0.3457\n",
            "Epoch 34/150\n",
            "664/664 [==============================] - 1s 2ms/step - loss: 0.8351 - accuracy: 0.6982 - val_loss: 2.6551 - val_accuracy: 0.3544\n",
            "Epoch 35/150\n",
            "664/664 [==============================] - 1s 2ms/step - loss: 0.8312 - accuracy: 0.6957 - val_loss: 2.7145 - val_accuracy: 0.3602\n",
            "Epoch 36/150\n",
            "664/664 [==============================] - 1s 2ms/step - loss: 0.8061 - accuracy: 0.7072 - val_loss: 2.7185 - val_accuracy: 0.3385\n",
            "Epoch 37/150\n",
            "664/664 [==============================] - 1s 2ms/step - loss: 0.7958 - accuracy: 0.7119 - val_loss: 3.0342 - val_accuracy: 0.3537\n",
            "Epoch 38/150\n",
            "664/664 [==============================] - 1s 2ms/step - loss: 0.7808 - accuracy: 0.7177 - val_loss: 2.8090 - val_accuracy: 0.3723\n",
            "Epoch 39/150\n",
            "664/664 [==============================] - 1s 2ms/step - loss: 0.7677 - accuracy: 0.7224 - val_loss: 2.8565 - val_accuracy: 0.3464\n",
            "Epoch 40/150\n",
            "664/664 [==============================] - 1s 2ms/step - loss: 0.7569 - accuracy: 0.7258 - val_loss: 2.9940 - val_accuracy: 0.3713\n",
            "Epoch 41/150\n",
            "664/664 [==============================] - 1s 2ms/step - loss: 0.7511 - accuracy: 0.7285 - val_loss: 2.9350 - val_accuracy: 0.3606\n",
            "Epoch 42/150\n",
            "664/664 [==============================] - 1s 2ms/step - loss: 0.7351 - accuracy: 0.7325 - val_loss: 3.0879 - val_accuracy: 0.3282\n",
            "Epoch 43/150\n",
            "664/664 [==============================] - 1s 2ms/step - loss: 0.7315 - accuracy: 0.7347 - val_loss: 2.9486 - val_accuracy: 0.3533\n",
            "Epoch 44/150\n",
            "664/664 [==============================] - 1s 2ms/step - loss: 0.7136 - accuracy: 0.7405 - val_loss: 3.1408 - val_accuracy: 0.3550\n",
            "Epoch 45/150\n",
            "664/664 [==============================] - 1s 2ms/step - loss: 0.7023 - accuracy: 0.7438 - val_loss: 3.0799 - val_accuracy: 0.3544\n",
            "Epoch 46/150\n",
            "664/664 [==============================] - 1s 2ms/step - loss: 0.6945 - accuracy: 0.7471 - val_loss: 3.1403 - val_accuracy: 0.3426\n",
            "Epoch 47/150\n",
            "664/664 [==============================] - 1s 2ms/step - loss: 0.6865 - accuracy: 0.7498 - val_loss: 3.1898 - val_accuracy: 0.3492\n",
            "Epoch 48/150\n",
            "664/664 [==============================] - 1s 2ms/step - loss: 0.6721 - accuracy: 0.7552 - val_loss: 2.9082 - val_accuracy: 0.3716\n",
            "Epoch 49/150\n",
            "664/664 [==============================] - 1s 2ms/step - loss: 0.6667 - accuracy: 0.7568 - val_loss: 2.9462 - val_accuracy: 0.3451\n",
            "Epoch 50/150\n",
            "664/664 [==============================] - 1s 2ms/step - loss: 0.6523 - accuracy: 0.7626 - val_loss: 3.2451 - val_accuracy: 0.3447\n",
            "Epoch 51/150\n",
            "664/664 [==============================] - 1s 2ms/step - loss: 0.6454 - accuracy: 0.7627 - val_loss: 3.5630 - val_accuracy: 0.3368\n",
            "Epoch 52/150\n",
            "664/664 [==============================] - 1s 2ms/step - loss: 0.6353 - accuracy: 0.7656 - val_loss: 3.6359 - val_accuracy: 0.3492\n",
            "Epoch 53/150\n",
            "664/664 [==============================] - 1s 2ms/step - loss: 0.6291 - accuracy: 0.7689 - val_loss: 3.5661 - val_accuracy: 0.3502\n",
            "Epoch 54/150\n",
            "664/664 [==============================] - 1s 2ms/step - loss: 0.6250 - accuracy: 0.7709 - val_loss: 3.9765 - val_accuracy: 0.3388\n",
            "Epoch 55/150\n",
            "664/664 [==============================] - 1s 2ms/step - loss: 0.6228 - accuracy: 0.7718 - val_loss: 3.3039 - val_accuracy: 0.3278\n",
            "Epoch 56/150\n",
            "664/664 [==============================] - 1s 2ms/step - loss: 0.6147 - accuracy: 0.7740 - val_loss: 3.4076 - val_accuracy: 0.3630\n",
            "Epoch 57/150\n",
            "664/664 [==============================] - 1s 2ms/step - loss: 0.6067 - accuracy: 0.7775 - val_loss: 3.7988 - val_accuracy: 0.3420\n",
            "Epoch 58/150\n",
            "664/664 [==============================] - 1s 2ms/step - loss: 0.5954 - accuracy: 0.7818 - val_loss: 3.3828 - val_accuracy: 0.3671\n",
            "Epoch 59/150\n",
            "664/664 [==============================] - 1s 2ms/step - loss: 0.5958 - accuracy: 0.7812 - val_loss: 3.5235 - val_accuracy: 0.3485\n",
            "Epoch 60/150\n",
            "664/664 [==============================] - 1s 2ms/step - loss: 0.5943 - accuracy: 0.7819 - val_loss: 3.9833 - val_accuracy: 0.3781\n",
            "Epoch 61/150\n",
            "664/664 [==============================] - 1s 2ms/step - loss: 0.5839 - accuracy: 0.7854 - val_loss: 3.6674 - val_accuracy: 0.3526\n",
            "Epoch 62/150\n",
            "664/664 [==============================] - 1s 2ms/step - loss: 0.5755 - accuracy: 0.7891 - val_loss: 3.7843 - val_accuracy: 0.3485\n",
            "Epoch 63/150\n",
            "664/664 [==============================] - 1s 2ms/step - loss: 0.5712 - accuracy: 0.7907 - val_loss: 3.8975 - val_accuracy: 0.3606\n",
            "Epoch 64/150\n",
            "664/664 [==============================] - 1s 2ms/step - loss: 0.5618 - accuracy: 0.7931 - val_loss: 3.9875 - val_accuracy: 0.3361\n",
            "Epoch 65/150\n",
            "664/664 [==============================] - 1s 2ms/step - loss: 0.5536 - accuracy: 0.7979 - val_loss: 3.6691 - val_accuracy: 0.3399\n",
            "Epoch 66/150\n",
            "664/664 [==============================] - 1s 2ms/step - loss: 0.5480 - accuracy: 0.7976 - val_loss: 4.3248 - val_accuracy: 0.3468\n",
            "Epoch 67/150\n",
            "664/664 [==============================] - 1s 2ms/step - loss: 0.5487 - accuracy: 0.7990 - val_loss: 3.7459 - val_accuracy: 0.3457\n",
            "Epoch 68/150\n",
            "664/664 [==============================] - 1s 2ms/step - loss: 0.5366 - accuracy: 0.8022 - val_loss: 4.0130 - val_accuracy: 0.3571\n",
            "Epoch 69/150\n",
            "664/664 [==============================] - 1s 2ms/step - loss: 0.5291 - accuracy: 0.8073 - val_loss: 4.3101 - val_accuracy: 0.3475\n",
            "Epoch 70/150\n",
            "664/664 [==============================] - 1s 2ms/step - loss: 0.5295 - accuracy: 0.8070 - val_loss: 3.9314 - val_accuracy: 0.3537\n",
            "Epoch 71/150\n",
            "664/664 [==============================] - 1s 2ms/step - loss: 0.5218 - accuracy: 0.8060 - val_loss: 4.3847 - val_accuracy: 0.3588\n",
            "Epoch 72/150\n",
            "664/664 [==============================] - 1s 2ms/step - loss: 0.5174 - accuracy: 0.8099 - val_loss: 4.2322 - val_accuracy: 0.3544\n",
            "Epoch 73/150\n",
            "664/664 [==============================] - 1s 2ms/step - loss: 0.5170 - accuracy: 0.8101 - val_loss: 4.3539 - val_accuracy: 0.3599\n",
            "Epoch 74/150\n",
            "664/664 [==============================] - 1s 2ms/step - loss: 0.5089 - accuracy: 0.8154 - val_loss: 4.0347 - val_accuracy: 0.3406\n",
            "Epoch 75/150\n",
            "664/664 [==============================] - 1s 2ms/step - loss: 0.5045 - accuracy: 0.8177 - val_loss: 4.4200 - val_accuracy: 0.3519\n",
            "Epoch 76/150\n",
            "664/664 [==============================] - 1s 2ms/step - loss: 0.4961 - accuracy: 0.8179 - val_loss: 4.0542 - val_accuracy: 0.3647\n",
            "Epoch 77/150\n",
            "664/664 [==============================] - 1s 2ms/step - loss: 0.4892 - accuracy: 0.8205 - val_loss: 4.2954 - val_accuracy: 0.3540\n",
            "Epoch 78/150\n",
            "664/664 [==============================] - 1s 2ms/step - loss: 0.4852 - accuracy: 0.8238 - val_loss: 4.5462 - val_accuracy: 0.3509\n",
            "Epoch 79/150\n",
            "664/664 [==============================] - 1s 2ms/step - loss: 0.4911 - accuracy: 0.8215 - val_loss: 3.9205 - val_accuracy: 0.3602\n",
            "Epoch 80/150\n",
            "664/664 [==============================] - 1s 2ms/step - loss: 0.4814 - accuracy: 0.8230 - val_loss: 4.7057 - val_accuracy: 0.3647\n",
            "Epoch 81/150\n",
            "664/664 [==============================] - 1s 2ms/step - loss: 0.4784 - accuracy: 0.8258 - val_loss: 4.4303 - val_accuracy: 0.3447\n",
            "Epoch 82/150\n",
            "664/664 [==============================] - 1s 2ms/step - loss: 0.4715 - accuracy: 0.8294 - val_loss: 4.5085 - val_accuracy: 0.3713\n",
            "Epoch 83/150\n",
            "664/664 [==============================] - 1s 2ms/step - loss: 0.4696 - accuracy: 0.8299 - val_loss: 4.5498 - val_accuracy: 0.3713\n",
            "Epoch 84/150\n",
            "664/664 [==============================] - 1s 2ms/step - loss: 0.4651 - accuracy: 0.8306 - val_loss: 4.4293 - val_accuracy: 0.3750\n",
            "Epoch 85/150\n",
            "664/664 [==============================] - 1s 2ms/step - loss: 0.4608 - accuracy: 0.8326 - val_loss: 4.7136 - val_accuracy: 0.3575\n",
            "Epoch 86/150\n",
            "664/664 [==============================] - 1s 2ms/step - loss: 0.4598 - accuracy: 0.8331 - val_loss: 4.5637 - val_accuracy: 0.3706\n",
            "Epoch 87/150\n",
            "664/664 [==============================] - 1s 2ms/step - loss: 0.4530 - accuracy: 0.8371 - val_loss: 4.8029 - val_accuracy: 0.3650\n",
            "Epoch 88/150\n",
            "664/664 [==============================] - 1s 2ms/step - loss: 0.4448 - accuracy: 0.8409 - val_loss: 5.2221 - val_accuracy: 0.3671\n",
            "Epoch 89/150\n",
            "664/664 [==============================] - 1s 2ms/step - loss: 0.4446 - accuracy: 0.8404 - val_loss: 4.8769 - val_accuracy: 0.3812\n",
            "Epoch 90/150\n",
            "664/664 [==============================] - 1s 2ms/step - loss: 0.4367 - accuracy: 0.8430 - val_loss: 4.6429 - val_accuracy: 0.3747\n",
            "Epoch 91/150\n",
            "664/664 [==============================] - 1s 2ms/step - loss: 0.4452 - accuracy: 0.8427 - val_loss: 5.1492 - val_accuracy: 0.3823\n",
            "Epoch 92/150\n",
            "664/664 [==============================] - 1s 2ms/step - loss: 0.4360 - accuracy: 0.8459 - val_loss: 5.0621 - val_accuracy: 0.3881\n",
            "Epoch 93/150\n",
            "664/664 [==============================] - 1s 2ms/step - loss: 0.4317 - accuracy: 0.8467 - val_loss: 4.6900 - val_accuracy: 0.3937\n",
            "Epoch 94/150\n",
            "664/664 [==============================] - 1s 2ms/step - loss: 0.4211 - accuracy: 0.8521 - val_loss: 4.6577 - val_accuracy: 0.3816\n",
            "Epoch 95/150\n",
            "664/664 [==============================] - 1s 2ms/step - loss: 0.4243 - accuracy: 0.8488 - val_loss: 4.7699 - val_accuracy: 0.3947\n",
            "Epoch 96/150\n",
            "664/664 [==============================] - 1s 2ms/step - loss: 0.4227 - accuracy: 0.8511 - val_loss: 4.6476 - val_accuracy: 0.3868\n",
            "Epoch 97/150\n",
            "664/664 [==============================] - 1s 2ms/step - loss: 0.4126 - accuracy: 0.8547 - val_loss: 5.1454 - val_accuracy: 0.3733\n",
            "Epoch 98/150\n",
            "664/664 [==============================] - 1s 2ms/step - loss: 0.4112 - accuracy: 0.8567 - val_loss: 4.9631 - val_accuracy: 0.4202\n",
            "Epoch 99/150\n",
            "664/664 [==============================] - 1s 2ms/step - loss: 0.4028 - accuracy: 0.8599 - val_loss: 5.3761 - val_accuracy: 0.3812\n",
            "Epoch 100/150\n",
            "664/664 [==============================] - 1s 2ms/step - loss: 0.4072 - accuracy: 0.8590 - val_loss: 4.7738 - val_accuracy: 0.4012\n",
            "Epoch 101/150\n",
            "664/664 [==============================] - 1s 2ms/step - loss: 0.4006 - accuracy: 0.8592 - val_loss: 5.2037 - val_accuracy: 0.3788\n",
            "Epoch 102/150\n",
            "664/664 [==============================] - 1s 2ms/step - loss: 0.3904 - accuracy: 0.8651 - val_loss: 5.5121 - val_accuracy: 0.3730\n",
            "Epoch 103/150\n",
            "664/664 [==============================] - 1s 2ms/step - loss: 0.3883 - accuracy: 0.8640 - val_loss: 5.1748 - val_accuracy: 0.3988\n",
            "Epoch 104/150\n",
            "664/664 [==============================] - 1s 2ms/step - loss: 0.3887 - accuracy: 0.8659 - val_loss: 5.7655 - val_accuracy: 0.3799\n",
            "Epoch 105/150\n",
            "664/664 [==============================] - 1s 2ms/step - loss: 0.3874 - accuracy: 0.8671 - val_loss: 5.4153 - val_accuracy: 0.3937\n",
            "Epoch 106/150\n",
            "664/664 [==============================] - 1s 2ms/step - loss: 0.3738 - accuracy: 0.8714 - val_loss: 5.3596 - val_accuracy: 0.4033\n",
            "Epoch 107/150\n",
            "664/664 [==============================] - 1s 2ms/step - loss: 0.3736 - accuracy: 0.8705 - val_loss: 5.3487 - val_accuracy: 0.4006\n",
            "Epoch 108/150\n",
            "664/664 [==============================] - 1s 2ms/step - loss: 0.3652 - accuracy: 0.8732 - val_loss: 5.4743 - val_accuracy: 0.4099\n",
            "Epoch 109/150\n",
            "664/664 [==============================] - 1s 2ms/step - loss: 0.3646 - accuracy: 0.8755 - val_loss: 5.1946 - val_accuracy: 0.3999\n",
            "Epoch 110/150\n",
            "664/664 [==============================] - 1s 2ms/step - loss: 0.3691 - accuracy: 0.8705 - val_loss: 5.4780 - val_accuracy: 0.4085\n",
            "Epoch 111/150\n",
            "664/664 [==============================] - 1s 2ms/step - loss: 0.3581 - accuracy: 0.8764 - val_loss: 5.5134 - val_accuracy: 0.3943\n",
            "Epoch 112/150\n",
            "664/664 [==============================] - 1s 2ms/step - loss: 0.3556 - accuracy: 0.8761 - val_loss: 5.6583 - val_accuracy: 0.4016\n",
            "Epoch 113/150\n",
            "664/664 [==============================] - 1s 2ms/step - loss: 0.3521 - accuracy: 0.8789 - val_loss: 5.5544 - val_accuracy: 0.3961\n",
            "Epoch 114/150\n",
            "664/664 [==============================] - 1s 2ms/step - loss: 0.3539 - accuracy: 0.8762 - val_loss: 5.4375 - val_accuracy: 0.3923\n",
            "Epoch 115/150\n",
            "664/664 [==============================] - 1s 2ms/step - loss: 0.3455 - accuracy: 0.8814 - val_loss: 5.3895 - val_accuracy: 0.3844\n",
            "Epoch 116/150\n",
            "664/664 [==============================] - 1s 2ms/step - loss: 0.3384 - accuracy: 0.8808 - val_loss: 5.7508 - val_accuracy: 0.3937\n",
            "Epoch 117/150\n",
            "664/664 [==============================] - 1s 2ms/step - loss: 0.3422 - accuracy: 0.8806 - val_loss: 5.5558 - val_accuracy: 0.3885\n",
            "Epoch 118/150\n",
            "664/664 [==============================] - 1s 2ms/step - loss: 0.3344 - accuracy: 0.8832 - val_loss: 5.9434 - val_accuracy: 0.4050\n",
            "Epoch 119/150\n",
            "664/664 [==============================] - 1s 2ms/step - loss: 0.3378 - accuracy: 0.8833 - val_loss: 5.9275 - val_accuracy: 0.3902\n",
            "Epoch 120/150\n",
            "664/664 [==============================] - 1s 2ms/step - loss: 0.3342 - accuracy: 0.8827 - val_loss: 5.9910 - val_accuracy: 0.4002\n",
            "Epoch 121/150\n",
            "664/664 [==============================] - 1s 2ms/step - loss: 0.3226 - accuracy: 0.8880 - val_loss: 5.6754 - val_accuracy: 0.4037\n",
            "Epoch 122/150\n",
            "664/664 [==============================] - 1s 2ms/step - loss: 0.3218 - accuracy: 0.8883 - val_loss: 5.4193 - val_accuracy: 0.3899\n",
            "Epoch 123/150\n",
            "664/664 [==============================] - 1s 2ms/step - loss: 0.3201 - accuracy: 0.8879 - val_loss: 5.9720 - val_accuracy: 0.3926\n",
            "Epoch 124/150\n",
            "664/664 [==============================] - 1s 2ms/step - loss: 0.3222 - accuracy: 0.8895 - val_loss: 5.5313 - val_accuracy: 0.4102\n",
            "Epoch 125/150\n",
            "664/664 [==============================] - 1s 2ms/step - loss: 0.3125 - accuracy: 0.8919 - val_loss: 6.0203 - val_accuracy: 0.3961\n",
            "Epoch 126/150\n",
            "664/664 [==============================] - 1s 2ms/step - loss: 0.3029 - accuracy: 0.8957 - val_loss: 5.8257 - val_accuracy: 0.4064\n",
            "Epoch 127/150\n",
            "664/664 [==============================] - 1s 2ms/step - loss: 0.3073 - accuracy: 0.8929 - val_loss: 5.6439 - val_accuracy: 0.4016\n",
            "Epoch 128/150\n",
            "664/664 [==============================] - 1s 2ms/step - loss: 0.3071 - accuracy: 0.8945 - val_loss: 6.2003 - val_accuracy: 0.3726\n",
            "Epoch 129/150\n",
            "664/664 [==============================] - 1s 2ms/step - loss: 0.3027 - accuracy: 0.8946 - val_loss: 6.4593 - val_accuracy: 0.3995\n",
            "Epoch 130/150\n",
            "664/664 [==============================] - 1s 2ms/step - loss: 0.2984 - accuracy: 0.8972 - val_loss: 6.3833 - val_accuracy: 0.3937\n",
            "Epoch 131/150\n",
            "664/664 [==============================] - 1s 2ms/step - loss: 0.2993 - accuracy: 0.8969 - val_loss: 5.9473 - val_accuracy: 0.3837\n",
            "Epoch 132/150\n",
            "664/664 [==============================] - 1s 2ms/step - loss: 0.2913 - accuracy: 0.8992 - val_loss: 6.2230 - val_accuracy: 0.4040\n",
            "Epoch 133/150\n",
            "664/664 [==============================] - 1s 2ms/step - loss: 0.2831 - accuracy: 0.9017 - val_loss: 6.2934 - val_accuracy: 0.4054\n",
            "Epoch 134/150\n",
            "664/664 [==============================] - 1s 2ms/step - loss: 0.2858 - accuracy: 0.9014 - val_loss: 6.3816 - val_accuracy: 0.3930\n",
            "Epoch 135/150\n",
            "664/664 [==============================] - 1s 2ms/step - loss: 0.2826 - accuracy: 0.9023 - val_loss: 6.2293 - val_accuracy: 0.4043\n",
            "Epoch 136/150\n",
            "664/664 [==============================] - 1s 2ms/step - loss: 0.2802 - accuracy: 0.9038 - val_loss: 6.4831 - val_accuracy: 0.3968\n",
            "Epoch 137/150\n",
            "664/664 [==============================] - 1s 2ms/step - loss: 0.2731 - accuracy: 0.9063 - val_loss: 6.4418 - val_accuracy: 0.3740\n",
            "Epoch 138/150\n",
            "664/664 [==============================] - 1s 2ms/step - loss: 0.2773 - accuracy: 0.9050 - val_loss: 6.3292 - val_accuracy: 0.4037\n",
            "Epoch 139/150\n",
            "664/664 [==============================] - 1s 2ms/step - loss: 0.2745 - accuracy: 0.9070 - val_loss: 6.0690 - val_accuracy: 0.4112\n",
            "Epoch 140/150\n",
            "664/664 [==============================] - 1s 2ms/step - loss: 0.2747 - accuracy: 0.9059 - val_loss: 6.5441 - val_accuracy: 0.4009\n",
            "Epoch 141/150\n",
            "664/664 [==============================] - 1s 2ms/step - loss: 0.2630 - accuracy: 0.9122 - val_loss: 6.8645 - val_accuracy: 0.3850\n",
            "Epoch 142/150\n",
            "664/664 [==============================] - 1s 2ms/step - loss: 0.2660 - accuracy: 0.9104 - val_loss: 6.7402 - val_accuracy: 0.3933\n",
            "Epoch 143/150\n",
            "664/664 [==============================] - 1s 2ms/step - loss: 0.2649 - accuracy: 0.9127 - val_loss: 6.2915 - val_accuracy: 0.4012\n",
            "Epoch 144/150\n",
            "664/664 [==============================] - 1s 2ms/step - loss: 0.2574 - accuracy: 0.9130 - val_loss: 6.4945 - val_accuracy: 0.4033\n",
            "Epoch 145/150\n",
            "664/664 [==============================] - 1s 2ms/step - loss: 0.2510 - accuracy: 0.9160 - val_loss: 6.6555 - val_accuracy: 0.3888\n",
            "Epoch 146/150\n",
            "664/664 [==============================] - 1s 2ms/step - loss: 0.2530 - accuracy: 0.9133 - val_loss: 6.6832 - val_accuracy: 0.3878\n",
            "Epoch 147/150\n",
            "664/664 [==============================] - 1s 2ms/step - loss: 0.2455 - accuracy: 0.9183 - val_loss: 6.7831 - val_accuracy: 0.3985\n",
            "Epoch 148/150\n",
            "664/664 [==============================] - 1s 2ms/step - loss: 0.2515 - accuracy: 0.9153 - val_loss: 6.4096 - val_accuracy: 0.4023\n",
            "Epoch 149/150\n",
            "664/664 [==============================] - 1s 2ms/step - loss: 0.2456 - accuracy: 0.9178 - val_loss: 6.2741 - val_accuracy: 0.4012\n",
            "Epoch 150/150\n",
            "664/664 [==============================] - 1s 2ms/step - loss: 0.2477 - accuracy: 0.9168 - val_loss: 6.4852 - val_accuracy: 0.3764\n"
          ],
          "name": "stdout"
        }
      ]
    },
    {
      "cell_type": "code",
      "metadata": {
        "id": "tuuqublEs5lB"
      },
      "source": [
        "import matplotlib.pyplot as plt\n",
        "\n",
        "def plot_history(history,figname):\n",
        "  fig, axs = plt.subplots(2,figsize=(20,10))\n",
        "\n",
        "  # create the accuracy subplot\n",
        "  axs[0].plot(history.history[\"accuracy\"],label=\"train accuracy\")\n",
        "  axs[0].plot(history.history[\"val_accuracy\"],label=\"test accuracy\")\n",
        "  axs[0].set_ylabel(\"Accuracy\")\n",
        "  axs[0].legend(loc=\"best\")\n",
        "  axs[0].set_title(\"accuracy eval\")\n",
        "  axs[0].set_ylim(0, 1)\n",
        "\n",
        "  # create error subplot\n",
        "  axs[1].plot(history.history[\"loss\"],label=\"train error\")\n",
        "  axs[1].plot(history.history[\"val_loss\"],label=\"test error\")\n",
        "  axs[1].set_ylabel(\"Error\")\n",
        "  axs[1].set_xlabel(\"Epoch\")\n",
        "  axs[1].legend(loc=\"best\")\n",
        "  axs[1].set_title(\"Error eval\")\n",
        "  # axs[1].set_ylim(0, 1)\n",
        "\n",
        "  fig.savefig(figname)\n",
        "\n",
        "  # plt.show()"
      ],
      "execution_count": 13,
      "outputs": []
    },
    {
      "cell_type": "code",
      "metadata": {
        "id": "HddEsN1orJTF",
        "outputId": "c3ee9923-370f-4470-8dd8-607b261a978d",
        "colab": {
          "base_uri": "https://localhost:8080/",
          "height": 616
        }
      },
      "source": [
        "plot_history(model_history,'neuron128.png')"
      ],
      "execution_count": null,
      "outputs": [
        {
          "output_type": "display_data",
          "data": {
            "image/png": "[encoded data removed]",
            "text/plain": [
              "<Figure size 1440x720 with 2 Axes>"
            ]
          },
          "metadata": {
            "tags": [],
            "needs_background": "light"
          }
        }
      ]
    },
    {
      "cell_type": "code",
      "metadata": {
        "id": "75MlYukV5WaC",
        "outputId": "d2938619-a2df-414d-8289-aad71ee4e419",
        "colab": {
          "base_uri": "https://localhost:8080/",
          "height": 167
        }
      },
      "source": [
        "print(model_history.history[\"accuracy\"][-1])\n",
        "print(model_history.history[\"val_accuracy\"][-1])"
      ],
      "execution_count": null,
      "outputs": [
        {
          "output_type": "error",
          "ename": "NameError",
          "evalue": "ignored",
          "traceback": [
            "\u001b[0;31m---------------------------------------------------------------------------\u001b[0m",
            "\u001b[0;31mNameError\u001b[0m                                 Traceback (most recent call last)",
            "\u001b[0;32m<ipython-input-1-c58538d64aaa>\u001b[0m in \u001b[0;36m<module>\u001b[0;34m()\u001b[0m\n\u001b[0;32m----> 1\u001b[0;31m \u001b[0mprint\u001b[0m\u001b[0;34m(\u001b[0m\u001b[0mmodel_history\u001b[0m\u001b[0;34m.\u001b[0m\u001b[0mhistory\u001b[0m\u001b[0;34m[\u001b[0m\u001b[0;34m\"accuracy\"\u001b[0m\u001b[0;34m]\u001b[0m\u001b[0;34m[\u001b[0m\u001b[0;34m-\u001b[0m\u001b[0;36m1\u001b[0m\u001b[0;34m]\u001b[0m\u001b[0;34m)\u001b[0m\u001b[0;34m\u001b[0m\u001b[0;34m\u001b[0m\u001b[0m\n\u001b[0m",
            "\u001b[0;31mNameError\u001b[0m: name 'model_history' is not defined"
          ]
        }
      ]
    },
    {
      "cell_type": "code",
      "metadata": {
        "id": "FNYmcz6EphM5"
      },
      "source": [
        "# Save the model\n",
        "model.save(\"sound_model1.h5\")"
      ],
      "execution_count": null,
      "outputs": []
    },
    {
      "cell_type": "code",
      "metadata": {
        "id": "exjxihgqHCOO"
      },
      "source": [
        "# Load the model\n",
        "from tensorflow.keras.models import load_model\n",
        "voice_model = load_model(\"sound_model_trained.h5\")"
      ],
      "execution_count": null,
      "outputs": []
    },
    {
      "cell_type": "code",
      "metadata": {
        "id": "qRTTH3of7wjJ",
        "outputId": "5eb837dc-8cf5-4fc7-bda2-ca2e2e07c8f9",
        "colab": {
          "base_uri": "https://localhost:8080/"
        }
      },
      "source": [
        "model_loss, model_accuracy = model.evaluate(\n",
        "    X_test, y_test, verbose=2)\n",
        "print(\n",
        "    f\"Normal Neural Network - Loss: {model_loss}, Accuracy: {model_accuracy}\")"
      ],
      "execution_count": null,
      "outputs": [
        {
          "output_type": "stream",
          "text": [
            "210/210 - 0s - loss: 11.1195 - accuracy: 0.4115\n",
            "Normal Neural Network - Loss: 11.119521141052246, Accuracy: 0.41151896119117737\n"
          ],
          "name": "stdout"
        }
      ]
    },
    {
      "cell_type": "code",
      "metadata": {
        "id": "DAwhcxlHllFn",
        "outputId": "bf5dc325-fd7e-4582-8ce0-a8a5030c0e71",
        "colab": {
          "base_uri": "https://localhost:8080/"
        }
      },
      "source": [
        "# Calculate classification report\n",
        "class_names=[\"air_conditioner\",\n",
        "              \"car_horn\",\n",
        "             \"children_playing\",\n",
        "             \"dog_bark\",\n",
        "             \"drilling\",\n",
        "             \"engine_idling\",\n",
        "             \"gun_shot\",\n",
        "             \"jackhammer\",\n",
        "             \"siren\",\n",
        "             \"street_music\"]\n",
        "# convert output to simple array\n",
        "y_temp = []\n",
        "for i in range(len(y_test)):\n",
        "  y_temp.append(y_test[i][0])\n",
        "\n",
        "             \n",
        "from sklearn.metrics import classification_report\n",
        "predictions = model.predict_classes(X_test)\n",
        "print(classification_report(y_temp, predictions,\n",
        "                            target_names=class_names))"
      ],
      "execution_count": null,
      "outputs": [
        {
          "output_type": "stream",
          "text": [
            "                  precision    recall  f1-score   support\n",
            "\n",
            " air_conditioner       0.34      0.13      0.19       798\n",
            "        car_horn       0.34      0.25      0.29       473\n",
            "children_playing       0.28      0.40      0.33       786\n",
            "        dog_bark       0.42      0.61      0.49       594\n",
            "        drilling       0.30      0.28      0.29       664\n",
            "   engine_idling       0.62      0.34      0.44       832\n",
            "        gun_shot       0.80      0.71      0.75        90\n",
            "      jackhammer       0.60      0.43      0.50       762\n",
            "           siren       0.69      0.62      0.66       903\n",
            "    street_music       0.28      0.56      0.38       800\n",
            "\n",
            "        accuracy                           0.41      6702\n",
            "       macro avg       0.47      0.43      0.43      6702\n",
            "    weighted avg       0.45      0.41      0.41      6702\n",
            "\n"
          ],
          "name": "stdout"
        }
      ]
    },
    {
      "cell_type": "code",
      "metadata": {
        "id": "4kSCc74HRMWb"
      },
      "source": [
        "import pandas as pd\n",
        "\n",
        "df = pd.DataFrame({'Prediction':predictions.tolist(),\n",
        "              'Actual': y_temp}\n",
        "             )\n",
        "\n",
        "\n",
        "df.head()\n",
        "df.to_csv('neurons128.csv')"
      ],
      "execution_count": null,
      "outputs": []
    },
    {
      "cell_type": "code",
      "metadata": {
        "id": "VFRh8k8ML_58",
        "outputId": "0535e193-b26f-4208-f875-613a3816717f",
        "colab": {
          "base_uri": "https://localhost:8080/"
        }
      },
      "source": [
        "from sklearn.svm import SVC \n",
        "model = SVC(kernel='linear')\n",
        "model.fit(X_train, y_train)"
      ],
      "execution_count": null,
      "outputs": [
        {
          "output_type": "stream",
          "text": [
            "[2, 2, 2, 2, 4, 4, 4, 2, 2, 4, 2, 2, 2, 2, 2, 2, 2, 2, 2, 2, 2, 2, 2, 2, 2, 2, 2, 3, 3, 3, 3, 3, 3, 3, 3, 3, 3, 7, 5, 5, 5, 5, 5, 5, 5, 5, 5, 5, 5, 5, 5, 5, 5, 9, 9, 9, 9, 9, 9, 9, 9, 9, 9, 9, 9, 9, 9, 9, 9, 9, 9, 9, 9, 9, 9, 9, 9, 3, 3, 3, 3, 3, 3, 3, 3, 3, 3, 3, 3, 3, 3, 3, 3, 6, 0, 0, 8, 0, 8, 0, 0, 0, 0, 0, 0, 0, 0, 0, 8, 0, 8, 0, 8, 0, 8, 0, 8, 8, 8, 8, 8, 8, 8, 8, 8, 8, 0, 0, 0, 0, 0, 0, 0, 0, 0, 0, 0, 0, 0, 0, 0, 0, 0, 0, 8, 8, 8, 8, 8, 8, 8, 8, 0, 8, 0, 0, 0, 0, 4, 9, 9, 9, 9, 9, 9, 9, 9, 9, 9, 9, 9, 9, 9, 9, 9, 9, 9, 9, 4, 4, 4, 4, 4, 4, 4, 4, 4, 4, 4, 4, 4, 4, 4, 4, 9, 0, 4, 3, 9, 9, 0, 0, 2, 2, 9, 3, 9, 9, 8, 3, 3, 9, 9, 9, 9, 9, 9, 9, 9, 9, 9, 9, 9, 9, 9, 9, 9, 9, 9, 9, 9, 9, 9, 9, 9, 9, 9, 9, 9, 9, 9, 9, 9, 9, 9, 9, 9, 9, 9, 9, 9, 9, 9, 2, 9, 9, 9, 9, 9, 9, 9, 9, 9, 9, 9, 9, 9, 9, 9, 9, 9, 9, 9, 9, 9, 9, 9, 9, 6, 9, 6, 6, 6, 6, 6, 6, 9, 6, 6, 9, 6, 6, 6, 6, 6, 9, 6, 9, 6, 6, 6, 6, 6, 6, 6, 6, 6, 6, 6, 6, 6, 6, 3, 3, 3, 3, 3, 9, 3, 3, 3, 3, 2, 3, 2, 3, 4, 3, 4, 3, 3, 3, 3, 3, 4, 4, 7, 3, 4, 3, 4, 4, 4, 4, 4, 4, 4, 1, 1, 1, 1, 1, 4, 9, 9, 9, 7, 9, 7, 9, 9, 7, 9, 0, 0, 0, 0, 7, 7, 7, 7, 7, 5, 7, 5, 9, 5, 9, 5, 5, 9, 5, 9, 7, 7, 7, 7, 5, 8, 5, 8, 7, 5, 7, 5, 7, 9, 7, 9, 9, 0, 9, 9, 7, 9, 9, 0, 7, 9, 7, 9, 7, 7, 7, 9, 7, 9, 9, 9, 9, 7, 9, 7, 7, 9, 7, 9, 5, 7, 5, 7, 9, 9, 9, 9, 5, 7, 5, 7, 7, 9, 5, 5, 5, 5, 5, 5, 9, 5, 5, 9, 8, 5, 8, 5, 5, 5, 5, 5, 2, 5, 5, 5, 5, 5, 5, 5, 5, 5, 5, 5, 5, 5, 5, 5, 5, 5, 5, 5, 5, 5, 5, 5, 9, 5, 5, 5, 5, 9, 4, 4, 8, 4, 8, 4, 4, 4, 4, 4, 4, 4, 4, 4, 4, 4, 4, 8, 8, 7, 7, 4, 7, 7, 7, 4, 8, 7, 8, 7, 7, 8, 7, 8, 4, 7, 4, 4, 7, 7, 7, 4, 4, 7, 4, 7, 9, 7, 9, 7, 7, 7, 7, 7, 4, 4, 4, 4, 4, 4, 7, 7, 7, 7, 7, 7, 7, 7, 7, 7, 7, 7, 7, 7, 7, 7, 4, 7, 7, 4, 4, 0, 0, 0, 4, 0, 0, 0, 0, 0, 0, 0, 4, 4, 4, 4, 4, 4, 4, 4, 4, 4, 4, 4, 4, 4, 7, 0, 0, 0, 0, 0, 4, 4, 4, 4, 4, 4, 4, 4, 0, 0, 0, 4, 4, 4, 9, 0, 0, 0, 0, 0, 0, 0, 0, 0, 4, 4, 4, 4, 0, 0, 0, 0, 4, 4, 4, 4, 0, 0, 0, 0, 4, 4, 4, 4, 0, 0, 0, 0, 9, 9, 0, 4, 0, 4, 4, 7, 4, 4, 4, 4, 4, 4, 4, 4, 9, 9, 9, 9, 9, 9, 9, 9, 9, 9, 9, 9, 9, 9, 9, 9, 9, 9, 9, 9, 9, 9, 9, 9, 9, 9, 0, 9, 0, 9, 9, 9, 9, 9, 9, 9, 9, 9, 9, 9, 9, 9, 9, 9, 9, 9, 9, 9, 9, 9, 9, 9, 9, 9, 9, 9, 6, 6, 6, 4, 8, 4, 4, 4, 4, 4, 9, 4, 9, 4, 4, 4, 4, 4, 4, 4, 7, 7, 4, 7, 4, 4, 4, 4, 4, 4, 4, 4, 7, 4, 4, 4, 4, 4, 4, 4, 9, 9, 4, 9, 4, 4, 4, 4, 4, 4, 4, 5, 5, 5, 5, 5, 8, 8, 8, 8, 8, 8, 2, 8, 2, 2, 2, 2, 2, 2, 2, 2, 2, 2, 2, 9, 2, 9, 2, 8, 2, 8, 8, 9, 8, 9, 2, 2, 2, 2, 2, 2, 2, 2, 8, 8, 8, 8, 8, 8, 8, 8, 8, 8, 2, 8, 9, 8, 8, 8, 8, 8, 8, 8, 8, 2, 9, 8, 9, 2, 9, 2, 9, 2, 9, 2, 2, 2, 2, 2, 2, 2, 2, 2, 2, 2, 2, 2, 2, 2, 2, 2, 2, 2, 3, 4, 7, 4, 4, 4, 4, 4, 4, 4, 4, 4, 4, 4, 4, 4, 4, 4, 4, 4, 4, 4, 4, 4, 4, 4, 2, 2, 5, 2, 5, 2, 9, 5, 9, 5, 5, 2, 5, 2, 5, 3, 5, 3, 3, 4, 3, 4, 4, 4, 4, 4, 4, 4, 4, 4, 7, 4, 7, 4, 4, 4, 9, 2, 6, 3, 3, 3, 3, 4, 3, 3, 3, 3, 3, 3, 3, 3, 3, 3, 3, 6, 2, 5, 5, 5, 5, 5, 5, 5, 5, 8, 3, 3, 5, 5, 5, 8, 5, 8, 5, 5, 0, 5, 0, 5, 5, 5, 5, 7, 8, 7, 8, 3, 3, 3, 3, 3, 3, 3, 3, 8, 8, 8, 8, 8, 3, 6, 3, 2, 8, 9, 9, 9, 9, 8, 9, 8, 2, 8, 8, 8, 8, 8, 8, 8, 8, 8, 8, 8, 8, 9, 9, 9, 9, 8, 8, 8, 8, 8, 8, 8, 8, 8, 8, 8, 8, 8, 8, 8, 8, 8, 8, 8, 8, 8, 9, 8, 9, 8, 8, 8, 9, 8, 8, 8, 8, 2, 8, 8, 8, 8, 8, 8, 8, 8, 8, 8, 8, 8, 8, 8, 8, 8, 8, 8, 8, 8, 8, 8, 8, 8, 8, 8, 8, 8, 2, 8, 8, 8, 8, 8, 8, 8, 8, 8, 8, 8, 9, 8, 9, 8, 8, 8, 8, 8, 8, 8, 8, 8, 8, 8, 8, 8, 8, 8, 8, 9, 8, 8, 8, 8, 8, 8, 8, 8, 8, 8, 8, 8, 8, 8, 8, 8, 8, 8, 8, 8, 8, 9, 8, 9, 9, 8, 9, 8, 8, 8, 8, 9, 8, 9, 8, 8, 8, 8, 3, 9, 4, 8, 4, 3, 3, 3, 3, 8, 8, 8, 8, 4, 3, 4, 3, 3, 4, 3, 4, 8, 4, 8, 4, 4, 3, 7, 0, 7, 4, 4, 3, 3, 3, 3, 0, 5, 5, 5, 5, 5, 5, 5, 5, 5, 5, 5, 5, 5, 5, 5, 5, 5, 5, 5, 5, 5, 5, 5, 5, 5, 5, 5, 5, 5, 5, 5, 5, 5, 5, 0, 5, 5, 5, 5, 5, 5, 5, 5, 4, 4, 4, 4, 4, 4, 4, 4, 4, 4, 4, 4, 4, 4, 4, 4, 4, 4, 4, 4, 4, 4, 4, 4, 4, 4, 4, 4, 4, 4, 4, 4, 4, 4, 4, 4, 4, 4, 4, 4, 4, 4, 4, 4, 4, 4, 4, 4, 4, 4, 4, 4, 4, 4, 4, 4, 4, 4, 4, 4, 4, 4, 4, 4, 9, 9, 9, 0, 9, 0, 9, 9, 9, 9, 9, 9, 9, 0, 9, 7, 9, 9, 9, 9, 9, 3, 7, 0, 9, 9, 0, 2, 0, 2, 0, 9, 7, 9, 0, 0, 9, 9, 0, 9, 9, 9, 0, 9, 9, 9, 9, 0, 9, 9, 9, 3, 7, 5, 9, 9, 1, 7, 1, 4, 7, 9, 5, 4, 7, 4, 4, 1, 9, 9, 9, 9, 9, 9, 4, 4, 4, 4, 9, 9, 9, 9, 1, 7, 8, 4, 8, 8, 8, 8, 1, 8, 8, 8, 8, 8, 1, 8, 8, 8, 8, 8, 4, 8, 4, 8, 8, 8, 8, 8, 8, 8, 3, 2, 8, 2, 4, 4, 4, 4, 4, 4, 4, 7, 4, 4, 7, 4, 4, 4, 4, 4, 4, 4, 4, 4, 4, 4, 4, 4, 4, 7, 7, 4, 4, 4, 4, 7, 7, 4, 4, 4, 4, 4, 4, 4, 4, 4, 4, 4, 4, 7, 7, 4, 4, 4, 4, 4, 4, 4, 4, 4, 4, 9, 9, 9, 9, 5, 9, 4, 4, 4, 4, 4, 9, 9, 9, 9, 4, 9, 9, 9, 9, 9, 9, 9, 9, 3, 3, 3, 3, 3, 3, 6, 6, 3, 3, 3, 3, 3, 3, 3, 3, 0, 0, 0, 0, 0, 0, 3, 2, 0, 3, 2, 0, 8, 8, 4, 8, 9, 8, 2, 9, 2, 2, 9, 8, 9, 3, 4, 9, 7, 9, 9, 3, 9, 9, 9, 5, 9, 3, 3, 2, 8, 8, 3, 3, 2, 9, 2, 9, 2, 2, 2, 2, 2, 2, 2, 2, 2, 9, 2, 2, 0, 9, 9, 9, 2, 2, 2, 2, 2, 2, 2, 2, 2, 9, 3, 2, 1, 8, 3, 2, 2, 2, 2, 2, 3, 8, 3, 8, 2, 2, 2, 2, 3, 3, 2, 2, 2, 3, 3, 2, 2, 2, 3, 3, 3, 2, 3, 3, 3, 3, 4, 2, 0, 0, 0, 0, 0, 3, 0, 3, 0, 2, 2, 8, 9, 3, 4, 2, 2, 2, 2, 2, 9, 2, 2, 2, 2, 2, 8, 2, 2, 2, 0, 9, 9, 9, 7, 9, 7, 9, 9, 9, 2, 2, 8, 4, 9, 9, 9, 6, 8, 3, 6, 3, 6, 3, 9, 4, 3, 3, 2, 3, 3, 3, 3, 4, 3, 9, 3, 3, 8, 8, 8, 0, 8, 3, 3, 2, 2, 0, 0, 0, 0, 0, 9, 0, 9, 9, 0, 9, 0, 0, 9, 0, 9, 9, 0, 9, 0, 0, 9, 0, 9, 9, 0, 0, 0, 9, 0, 2, 0, 0, 9, 2, 2, 2, 2, 2, 2, 2, 2, 2, 2, 8, 2, 2, 2, 2, 2, 2, 2, 2, 2, 2, 2, 2, 2, 2, 2, 2, 2, 2, 2, 2, 2, 5, 0, 0, 0, 0, 0, 3, 0, 0, 0, 5, 0, 0, 0, 0, 0, 5, 5, 5, 5, 5, 5, 5, 9, 2, 2, 2, 2, 3, 2, 2, 2, 3, 2, 2, 2, 9, 2, 2, 2, 2, 3, 2, 2, 2, 2, 2, 2, 2, 2, 2, 3, 2, 3, 2, 2, 9, 9, 9, 9, 9, 9, 9, 9, 9, 9, 9, 9, 9, 9, 9, 9, 9, 9, 9, 9, 8, 8, 0, 8, 0, 0, 0, 0, 0, 0, 0, 0, 0, 0, 0, 0, 0, 0, 0, 0, 0, 0, 0, 0, 0, 0, 0, 0, 0, 0, 0, 0, 0, 0, 0, 0, 0, 8, 8, 0, 0, 0, 0, 0, 0, 0, 0, 0, 0, 0, 0, 0, 0, 0, 0, 0, 0, 0, 0, 0, 0, 0, 0, 0, 0, 0, 0, 0, 0, 0, 0, 0, 0, 0, 0, 0, 0, 0, 0, 0, 0, 0, 0, 0, 0, 0, 0, 0, 0, 0, 0, 0, 2, 3, 2, 2, 2, 4, 4, 4, 4, 4, 4, 4, 3, 3, 3, 3, 3, 3, 3, 2, 3, 3, 0, 0, 0, 0, 4, 9, 5, 2, 9, 0, 2, 9, 9, 2, 2, 2, 2, 2, 2, 2, 9, 4, 2, 2, 2, 2, 9, 9, 9, 2, 2, 2, 9, 2, 2, 9, 9, 2, 2, 3, 9, 0, 3, 0, 3, 4, 4, 4, 4, 4, 9, 4, 9, 9, 4, 9, 4, 4, 4, 5, 5, 5, 5, 5, 5, 5, 5, 5, 5, 5, 5, 5, 5, 5, 5, 7, 9, 9, 0, 7, 9, 5, 0, 9, 0, 7, 9, 5, 3, 9, 9, 9, 9, 9, 9, 9, 9, 9, 9, 4, 9, 9, 5, 9, 7, 4, 7, 9, 9, 4, 7, 9, 9, 5, 5, 9, 4, 4, 9, 6, 4, 9, 9, 9, 9, 9, 6, 9, 9, 4, 4, 9, 4, 9, 9, 7, 9, 7, 9, 9, 9, 9, 9, 7, 4, 9, 4, 9, 9, 9, 5, 5, 6, 9, 4, 4, 9, 5, 4, 9, 9, 9, 4, 9, 4, 9, 9, 9, 9, 9, 9, 9, 9, 4, 7, 9, 7, 7, 9, 9, 9, 4, 9, 4, 9, 9, 9, 9, 9, 4, 9, 9, 9, 5, 5, 5, 9, 5, 0, 0, 0, 9, 9, 5, 5, 9, 9, 9, 9, 7, 7, 0, 7, 5, 9, 7, 0, 7, 7, 7, 7, 9, 7, 7, 7, 7, 7, 7, 7, 7, 8, 2, 2, 2, 2, 2, 8, 8, 8, 8, 2, 2, 2, 2, 8, 8, 8, 8, 2, 8, 2, 8, 8, 8, 8, 8, 8, 8, 8, 8, 9, 8, 9, 8, 8, 8, 8, 8, 3, 8, 3, 8, 8, 5, 8, 5, 8, 8, 8, 8, 2, 8, 8, 8, 8, 8, 8, 8, 8, 8, 8, 8, 8, 8, 8, 8, 8, 8, 8, 8, 8, 8, 8, 8, 8, 2, 8, 2, 3, 2, 3, 2, 3, 8, 3, 8, 2, 8, 2, 8, 3, 8, 2, 8, 2, 2, 3, 8, 8, 2, 8, 2, 8, 8, 8, 8, 2, 8, 3, 8, 8, 8, 8, 8, 8, 8, 3, 8, 8, 8, 8, 8, 2, 5, 2, 5, 3, 2, 3, 2, 2, 8, 2, 8, 8, 8, 2, 2, 8, 8, 8, 8, 8, 5, 8, 5, 5, 8, 5, 8, 8, 2, 8, 2, 8, 8, 8, 8, 8, 2, 8, 2, 9, 8, 9, 8, 9, 2, 9, 2, 9, 5, 9, 5, 8, 8, 8, 8, 8, 9, 8, 8, 2, 2, 8, 9, 4, 8, 4, 8, 8, 9, 8, 9, 4, 2, 4, 2, 8, 8, 8, 8, 8, 8, 8, 8, 8, 8, 8, 8, 8, 8, 8, 8, 8, 8, 8, 8, 8, 8, 8, 8, 8, 8, 2, 2, 2, 8, 8, 8, 8, 8, 8, 8, 8, 8, 8, 8, 8, 8, 8, 8, 8, 8, 8, 8, 8, 8, 8, 8, 8, 8, 8, 8, 8, 8, 8, 8, 8, 8, 8, 8, 8, 8, 8, 8, 8, 8, 2, 8, 2, 2, 8, 8, 8, 8, 8, 8, 8, 8, 8, 8, 8, 8, 8, 8, 8, 8, 8, 8, 8, 8, 8, 8, 8, 8, 8, 8, 2, 3, 2, 3, 8, 8, 8, 8, 8, 8, 8, 8, 8, 8, 8, 2, 2, 8, 8, 8, 3, 8, 3, 8, 8, 8, 8, 8, 8, 3, 8, 3, 3, 8, 3, 8, 8, 8, 8, 8, 3, 8, 3, 8, 8, 8, 8, 8, 8, 8, 8, 8, 8, 8, 8, 8, 8, 8, 2, 8, 8, 8, 8, 8, 8, 8, 8, 8, 8, 8, 8, 8, 8, 8, 8, 8, 2, 3, 2, 3, 2, 8, 2, 8, 2, 8, 8, 8, 2, 2, 8, 2, 2, 8, 2, 8, 8, 2, 8, 2, 2, 2, 3, 3, 3, 2, 4, 4, 4, 4, 4, 4, 4, 4, 4, 4, 4, 4, 2, 2, 2, 2, 2, 2, 2, 2, 2, 2, 2, 2, 2, 2, 2, 2, 2, 2, 2, 2, 2, 2, 2, 2, 2, 2, 2, 2, 3, 3, 3, 3, 3, 3, 3, 3, 2, 2, 2, 2, 9, 2, 9, 2, 2, 9, 9, 9, 9, 2, 9, 2, 2, 2, 2, 9, 9, 9, 2, 9, 2, 2, 9, 2, 3, 3, 6, 3, 3, 3, 3, 2, 9, 9, 9, 9, 9, 9, 9, 2, 9, 9, 9, 9, 9, 9, 2, 9, 9, 9, 2, 9, 9, 2, 2, 9, 9, 3, 3, 3, 2, 3, 2, 3, 2, 3, 2, 0, 6, 3, 3, 3, 3, 3, 3, 6, 9, 9, 9, 9, 9, 9, 9, 9, 9, 9, 9, 9, 9, 9, 9, 9, 2, 2, 0, 2, 3, 2, 2, 2, 3, 3, 3, 3, 3, 3, 3, 3, 3, 4, 6, 2, 9, 9, 4, 4, 9, 9, 1, 1, 9, 9, 9, 2, 9, 1, 9, 3, 1, 3, 9, 9, 2, 4, 4, 4, 4, 4, 4, 3, 4, 4, 4, 4, 4, 4, 4, 4, 4, 4, 4, 4, 4, 4, 4, 4, 4, 4, 4, 4, 4, 3, 3, 6, 5, 5, 5, 5, 5, 5, 5, 5, 5, 5, 5, 5, 5, 5, 5, 5, 5, 5, 5, 5, 5, 5, 5, 5, 3, 3, 8, 2, 2, 2, 3, 8, 8, 2, 2, 3, 2, 2, 2, 9, 2, 5, 8, 8, 0, 5, 5, 0, 2, 0, 0, 5, 2, 0, 0, 0, 0, 0, 0, 0, 0, 9, 9, 9, 9, 9, 7, 4, 9, 0, 7, 7, 7, 7, 7, 7, 7, 9, 7, 9, 4, 0, 9, 7, 9, 7, 9, 7, 7, 0, 4, 7, 9, 9, 9, 0, 0, 0, 0, 0, 0, 5, 9, 0, 0, 0, 0, 9, 9, 5, 5, 9, 0, 0, 0, 0, 0, 0, 0, 0, 9, 0, 5, 9, 9, 9, 5, 5, 0, 9, 0, 9, 0, 0, 0, 0, 0, 0, 0, 0, 0, 9, 9, 9, 9, 0, 0, 0, 0, 0, 9, 9, 9, 0, 0, 0, 0, 2, 9, 9, 0, 0, 0, 0, 5, 5, 5, 5, 0, 0, 5, 0, 0, 0, 0, 0, 0, 0, 0, 0, 0, 0, 0, 0, 9, 3, 9, 2, 9, 9, 9, 9, 9, 9, 9, 9, 9, 9, 9, 9, 4, 4, 9, 9, 7, 3, 3, 9, 2, 3, 2, 8, 2, 8, 8, 8, 8, 8, 3, 8, 3, 8, 8, 8, 8, 8, 8, 2, 8, 2, 2, 8, 9, 9, 9, 9, 9, 9, 9, 9, 8, 9, 9, 9, 9, 9, 9, 9, 9, 9, 2, 9, 2, 9, 9, 9, 3, 9, 3, 3, 9, 9, 9, 9, 9, 9, 9, 9, 8, 9, 9, 9, 9, 3, 9, 9, 9, 9, 9, 9, 0, 0, 9, 9, 9, 9, 2, 2, 2, 2, 9, 9, 9, 9, 2, 9, 3, 3, 3, 3, 3, 3, 3, 3, 3, 3, 3, 3, 3, 3, 2, 3, 4, 9, 7, 7, 7, 7, 7, 6, 3, 3, 4, 3, 3, 3, 3, 3, 3, 3, 3, 3, 3, 3, 3, 3, 3, 3, 3, 3, 3, 3, 3, 3, 3, 3, 3, 3, 4, 9, 9, 7, 9, 7, 7, 9, 7, 9, 9, 7, 9, 7, 7, 7, 7, 7, 4, 4, 4, 4, 9, 9, 9, 9, 9, 9, 9, 9, 9, 9, 7, 4, 4, 1, 1, 1, 1, 1, 1, 1, 1, 1, 1, 1, 1, 1, 1, 1, 1, 9, 9, 9, 9, 9, 9, 9, 9, 9, 9, 9, 9, 9, 9, 1, 1, 1, 1, 1, 1, 1, 1, 9, 1, 9, 0, 0, 0, 0, 0, 9, 0, 9, 9, 1, 9, 1, 9, 1, 1, 1, 1, 1, 1, 1, 1, 9, 9, 9, 9, 1, 1, 1, 1, 4, 9, 9, 0, 0, 0, 0, 0, 5, 9, 5, 9, 9, 9, 9, 9, 9, 9, 9, 9, 9, 0, 9, 0, 0, 9, 0, 9, 9, 9, 9, 9, 9, 9, 3, 3, 3, 3, 3, 3, 3, 3, 3, 3, 3, 3, 4, 4, 4, 9, 4, 9, 3, 3, 3, 3, 3, 3, 3, 3, 3, 3, 3, 3, 3, 3, 9, 5, 9, 0, 0, 0, 0, 0, 0, 0, 0, 0, 0, 0, 5, 5, 5, 5, 5, 9, 0, 0, 0, 5, 9, 5, 9, 9, 9, 5, 2, 9, 9, 9, 2, 2, 9, 2, 9, 9, 9, 9, 0, 2, 4, 9, 5, 5, 0, 5, 5, 5, 5, 5, 5, 0, 5, 0, 0, 0, 0, 0, 0, 0, 0, 0, 0, 0, 0, 0, 0, 0, 5, 5, 0, 0, 5, 0, 3, 3, 3, 3, 3, 3, 3, 3, 3, 3, 8, 8, 8, 8, 2, 8, 8, 8, 8, 8, 8, 8, 3, 3, 2, 2, 2, 2, 2, 2, 2, 9, 3, 2, 3, 2, 9, 9, 9, 9, 7, 9, 9, 9, 9, 9, 9, 0, 0, 0, 9, 9, 9, 9, 2, 2, 2, 2, 2, 2, 2, 2, 2, 2, 2, 2, 2, 2, 2, 2, 2, 2, 2, 2, 2, 2, 2, 2, 2, 2, 2, 2, 2, 2, 2, 2, 4, 9, 9, 7, 9, 7, 9, 9, 9, 5, 5, 5, 5, 5, 9, 5, 9, 5, 9, 5, 9, 5, 9, 9, 9, 9, 9, 5, 9, 5, 5, 5, 5, 5, 5, 9, 5, 9, 5, 9, 5, 9, 9, 9, 9, 9, 2, 5, 9, 9, 9, 2, 2, 5, 5, 9, 5, 9, 5, 5, 5, 5, 5, 9, 5, 9, 9, 9, 9, 9, 9, 5, 9, 5, 9, 9, 9, 9, 9, 9, 9, 9, 9, 9, 9, 9, 9, 9, 9, 9, 9, 5, 9, 2, 9, 5, 9, 5, 9, 5, 9, 5, 9, 9, 9, 9, 5, 9, 5, 9, 9, 9, 9, 9, 4, 9, 4, 9, 9, 9, 9, 9, 9, 5, 8, 3, 3, 3, 3, 3, 3, 3, 3, 3, 3, 3, 4, 4, 4, 4, 4, 4, 4, 4, 4, 4, 4, 2, 4, 2, 4, 4, 4, 4, 4, 4, 4, 4, 4, 4, 4, 4, 4, 4, 4, 2, 2, 8, 7, 7, 7, 7, 7, 7, 7, 7, 7, 7, 7, 7, 7, 7, 7, 7, 7, 7, 7, 7, 7, 7, 7, 7, 7, 7, 7, 7, 7, 7, 7, 7, 7, 7, 7, 7, 3, 7, 7, 7, 7, 7, 7, 7, 7, 7, 7, 7, 7, 7, 7, 7, 7, 7, 7, 7, 7, 4, 7, 4, 7, 4, 7, 7, 4, 7, 7, 4, 7, 7, 7, 7, 7, 7, 7, 7, 7, 7, 7, 7, 7, 7, 7, 7, 7, 7, 7, 7, 7, 7, 7, 7, 7, 4, 7, 7, 7, 7, 7, 7, 7, 7, 4, 4, 4, 7, 7, 4, 7, 7, 7, 7, 7, 7, 7, 7, 7, 7, 7, 7, 7, 7, 7, 7, 7, 7, 7, 7, 7, 7, 7, 7, 7, 7, 7, 7, 4, 7, 7, 7, 7, 7, 7, 7, 7, 7, 7, 7, 7, 7, 7, 7, 7, 7, 7, 7, 7, 7, 7, 7, 7, 7, 7, 7, 7, 7, 7, 7, 7, 7, 7, 7, 7, 7, 7, 7, 7, 7, 7, 7, 7, 7, 7, 7, 7, 7, 7, 7, 7, 7, 7, 7, 7, 7, 7, 7, 4, 4, 4, 4, 4, 4, 4, 7, 4, 7, 7, 4, 4, 7, 7, 7, 7, 7, 7, 7, 7, 7, 7, 7, 7, 7, 7, 4, 7, 7, 7, 7, 7, 7, 7, 7, 7, 7, 7, 7, 3, 3, 9, 9, 3, 4, 4, 4, 6, 9, 4, 0, 4, 0, 4, 0, 4, 0, 0, 9, 9, 9, 4, 4, 5, 5, 5, 5, 5, 5, 5, 5, 5, 5, 5, 5, 9, 9, 9, 9, 9, 9, 9, 9, 9, 9, 9, 9, 9, 9, 9, 9, 9, 9, 9, 9, 9, 9, 2, 9, 3, 3, 3, 9, 3, 3, 3, 3, 3, 9, 9, 3, 9, 2, 9, 3, 3, 3, 3, 3, 3, 3, 3, 2, 3, 3, 2, 2, 2, 2, 2, 2, 4, 8, 8, 3, 8, 3, 8, 8, 8, 8, 8, 8, 8, 8, 8, 3, 8, 3, 4, 8, 4, 8, 4, 8, 4, 8, 8, 8, 8, 8, 8, 8, 8, 8, 8, 3, 8, 3, 3, 8, 3, 8, 4, 8, 4, 8, 4, 4, 8, 8, 4, 8, 4, 4, 8, 8, 8, 8, 8, 8, 8, 8, 8, 3, 4, 8, 3, 8, 3, 8, 8, 8, 8, 8, 8, 8, 8, 8, 3, 4, 3, 4, 4, 4, 4, 4, 8, 8, 8, 8, 8, 8, 9, 9, 9, 9, 9, 9, 9, 9, 9, 9, 9, 9, 9, 9, 9, 9, 9, 9, 9, 9, 9, 9, 9, 9, 3, 0, 9, 0, 9, 0, 2, 9, 2, 9, 9, 9, 9, 9, 9, 9, 9, 9, 9, 9, 9, 9, 9, 3, 3, 9, 0, 9, 9, 9, 9, 9, 9, 9, 9, 9, 9, 9, 9, 9, 9, 9, 9, 9, 9, 9, 9, 9, 9, 9, 9, 9, 9, 9, 9, 9, 9, 9, 9, 9, 9, 9, 9, 9, 9, 9, 9, 9, 9, 9, 9, 9, 0, 9, 0, 9, 0, 9, 0, 0, 9, 9, 9, 9, 9, 9, 9, 9, 9, 5, 7, 5, 5, 5, 5, 5, 5, 5, 5, 5, 5, 8, 7, 8, 8, 9, 9, 9, 9, 9, 9, 5, 9, 5, 5, 9, 9, 5, 5, 9, 9, 9, 9, 9, 5, 9, 9, 9, 9, 2, 2, 9, 9, 9, 4, 0, 9, 9, 9, 9, 9, 9, 9, 9, 9, 9, 9, 9, 9, 9, 9, 9, 3, 9, 9, 9, 9, 9, 9, 9, 9, 9, 9, 9, 9, 2, 2, 8, 2, 8, 2, 2, 6, 6, 6, 6, 6, 6, 6, 6, 6, 6, 0, 5, 9, 0, 2, 9, 1, 4, 9, 5, 9, 1, 9, 5, 2, 5, 9, 9, 0, 0, 0, 0, 0, 9, 2, 2, 9, 2, 9, 2, 2, 9, 2, 2, 2, 9, 2, 9, 2, 2, 2, 2, 2, 2, 2, 9, 9, 5, 5, 5, 5, 5, 5, 5, 5, 5, 5, 5, 9, 9, 9, 9, 9, 5, 9, 5, 5, 5, 5, 5, 5, 2, 5, 2, 2, 2, 9, 5, 5, 5, 9, 9, 9, 9, 9, 9, 9, 9, 9, 9, 9, 9, 9, 9, 9, 9, 9, 9, 9, 9, 9, 9, 2, 9, 2, 9, 2, 2, 2, 2, 2, 2, 2, 2, 2, 2, 3, 8, 8, 8, 8, 8, 8, 8, 1, 1, 9, 9, 9, 4, 4, 4, 8, 8, 8, 3, 8, 3, 3, 3, 3, 3, 4, 3, 8, 3, 8, 9, 8, 9, 1, 1, 1, 1, 3, 3, 3, 3, 9, 4, 9, 4, 1, 1, 8, 8, 8, 8, 2, 2, 2, 2, 2, 2, 2, 2, 2, 2, 0, 8, 9, 2, 2, 0, 2, 2, 2, 2, 5, 0, 2, 5, 2, 5, 0, 9, 6, 6, 2, 6, 6, 6, 2, 6, 2, 6, 2, 6, 3, 8, 8, 4, 8, 3, 9, 8, 2, 2, 2, 2, 3, 2, 9, 0, 2, 3, 2, 2, 2, 3, 8, 3, 8, 3, 8, 2, 2, 2, 3, 8, 3, 8, 2, 2, 2, 2, 2, 2, 9, 2, 9, 9, 0, 9, 9, 9, 0, 0, 9, 9, 0, 9, 9, 9, 9, 9, 0, 9, 0, 9, 9, 9, 9, 9, 9, 0, 9, 0, 9, 9, 3, 6, 6, 6, 6, 6, 6, 6, 6, 6, 6, 2, 9, 2, 9, 2, 9, 9, 9, 2, 9, 9, 9, 9, 9, 9, 9, 9, 9, 9, 9, 9, 0, 3, 9, 8, 8, 8, 2, 8, 2, 8, 8, 8, 8, 8, 8, 8, 8, 8, 8, 8, 8, 8, 8, 8, 8, 8, 8, 8, 8, 8, 8, 8, 8, 8, 8, 9, 2, 9, 9, 9, 2, 9, 4, 9, 0, 9, 9, 9, 9, 9, 9, 9, 9, 9, 9, 9, 9, 9, 9, 9, 9, 9, 9, 9, 9, 9, 9, 9, 9, 0, 9, 9, 9, 9, 9, 9, 0, 2, 2, 2, 2, 2, 2, 2, 2, 2, 9, 0, 0, 9, 9, 0, 2, 2, 2, 3, 2, 2, 2, 3, 3, 3, 3, 3, 8, 3, 8, 3, 4, 5, 5, 5, 5, 5, 5, 5, 5, 5, 5, 5, 5, 5, 5, 5, 5, 5, 5, 5, 5, 5, 5, 5, 5, 5, 5, 5, 5, 5, 5, 5, 5, 5, 5, 5, 5, 5, 5, 5, 5, 5, 5, 5, 5, 5, 5, 5, 5, 5, 5, 5, 5, 5, 5, 5, 5, 5, 5, 5, 5, 5, 5, 5, 5, 5, 5, 5, 5, 5, 5, 5, 5, 5, 5, 5, 5, 5, 5, 5, 5, 5, 5, 5, 5, 5, 5, 5, 5, 5, 5, 5, 5, 5, 5, 5, 5, 5, 5, 5, 5, 5, 5, 5, 5, 5, 5, 5, 5, 5, 5, 5, 5, 5, 5, 5, 5, 5, 5, 5, 5, 5, 5, 5, 5, 5, 5, 5, 5, 4, 4, 4, 4, 4, 4, 4, 4, 4, 4, 4, 4, 4, 4, 4, 4, 4, 4, 4, 4, 4, 4, 4, 4, 7, 7, 7, 7, 7, 7, 7, 7, 7, 7, 7, 7, 7, 7, 7, 7, 7, 7, 7, 7, 7, 7, 5, 7, 5, 7, 7, 7, 7, 7, 7, 7, 7, 7, 7, 7, 7, 7, 5, 7, 5, 7, 7, 7, 7, 7, 7, 7, 0, 7, 7, 7, 7, 7, 7, 7, 7, 7, 7, 7, 7, 7, 7, 7, 7, 7, 7, 7, 7, 7, 7, 7, 7, 7, 0, 7, 0, 7, 7, 7, 7, 7, 7, 4, 7, 4, 0, 7, 0, 7, 7, 7, 7, 7, 7, 5, 7, 5, 7, 5, 7, 5, 0, 5, 0, 5, 5, 7, 5, 7, 7, 7, 5, 7, 7, 7, 7, 7, 7, 7, 7, 7, 5, 0, 0, 7, 3, 3, 3, 3, 3, 3, 3, 3, 3, 3, 3, 2, 3, 3, 3, 3, 2, 8, 2, 2, 2, 8, 2, 2, 2, 2, 8, 8, 8, 8, 8, 8, 8, 8, 2, 8, 2, 8, 9, 2, 9, 2, 8, 8, 8, 8, 2, 8, 2, 8, 2, 2, 2, 2, 2, 2, 2, 2, 2, 2, 2, 2, 2, 2, 2, 2, 2, 2, 8, 8, 8, 8, 8, 8, 2, 2, 2, 2, 2, 2, 8, 2, 8, 8, 8, 8, 8, 8, 8, 8, 8, 2, 8, 2, 2, 2, 2, 2, 8, 8, 8, 8, 8, 8, 8, 8, 8, 8, 2, 2, 2, 2, 2, 2, 2, 2, 2, 2, 2, 2, 8, 2, 2, 2, 2, 2, 2, 2, 3, 2, 2, 2, 2, 2, 2, 2, 2, 2, 2, 2, 2, 2, 2, 3, 2, 3, 2, 2, 2, 2, 2, 9, 2, 2, 2, 2, 2, 2, 8, 2, 2, 2, 2, 2, 2, 2, 2, 2, 2, 5, 2, 2, 2, 2, 9, 1, 2, 2, 2, 9, 5, 2, 2, 2, 2, 2, 2, 2, 1, 2, 2, 2, 2, 2, 2, 9, 3, 3, 3, 3, 3, 3, 3, 3, 3, 3, 3, 3, 3, 3, 9, 3, 2, 4, 4, 4, 4, 4, 4, 3, 4, 4, 4, 4, 4, 4, 4, 4, 4, 4, 4, 4, 4, 4, 4, 4, 4, 4, 4, 4, 4, 4, 4, 6, 4, 6, 3, 2, 3, 9, 4, 4, 2, 4, 3, 9, 4, 4, 4, 4, 4, 4, 4, 4, 4, 4, 4, 4, 4, 4, 4, 4, 9, 9, 9, 9, 9, 9, 9, 9, 4, 4, 4, 4, 4, 5, 9, 9, 0, 5, 5, 9, 5, 9, 5, 9, 4, 8, 5, 4, 4, 5, 9, 5, 5, 4, 9, 4, 7, 7, 5, 5, 0, 0, 5, 5, 9, 9, 4, 4, 7, 9, 9, 7, 4, 5, 4, 9, 4, 9, 5, 5, 5, 5, 5, 4, 4, 4, 4, 4, 9, 4, 3, 4, 3, 4, 4, 4, 4, 4, 7, 4, 7, 4, 4, 7, 4, 5, 5, 4, 3, 3, 9, 3, 3, 3, 2, 3, 9, 3, 9, 2, 0, 9, 5, 9, 9, 5, 9, 9, 5, 8, 8, 8, 9, 9, 9, 7, 9, 7, 9, 7, 9, 7, 9, 7, 9, 7, 7, 9, 3, 3, 3, 3, 6, 6, 6, 3, 2, 2, 2, 2, 2, 2, 2, 3, 2, 3, 2, 2, 3, 2, 3, 2, 2, 2, 2, 2, 9, 2, 2, 2, 2, 2, 2, 2, 2, 2, 2, 2, 3, 3, 3, 3, 3, 3, 3, 3, 3, 3, 3, 2, 3, 2, 3, 3, 2, 9, 9, 9, 9, 2, 2, 2, 9, 2, 9, 2, 2, 9, 9, 9, 9, 9, 2, 2, 2, 3, 9, 9, 9, 9, 4, 2, 2, 3, 3, 9, 2, 2, 2, 2, 2, 2, 2, 2, 2, 2, 2, 2, 2, 2, 2, 2, 2, 2, 2, 0, 2, 2, 2, 0, 5, 5, 0, 3, 0, 9, 2, 0, 0, 0, 5, 3, 3, 3, 3, 6, 3, 3, 3, 3, 3, 3, 3, 3, 9, 9, 9, 2, 9, 9, 2, 9, 9, 9, 9, 9, 9, 9, 9, 9, 9, 9, 0, 0, 2, 2, 9, 2, 8, 8, 8, 8, 8, 8, 8, 8, 8, 8, 8, 9, 8, 9, 9, 4, 9, 4, 8, 8, 8, 8, 8, 1, 8, 1, 1, 8, 1, 8, 8, 8, 8, 8, 8, 8, 8, 8, 8, 8, 8, 8, 8, 8, 8, 8, 0, 9, 0, 9, 8, 8, 9, 9, 9, 4, 9, 4, 8, 7, 8, 7, 9, 9, 9, 9, 4, 8, 4, 8, 7, 9, 7, 9, 9, 9, 4, 4, 4, 4, 4, 4, 4, 4, 5, 5, 8, 8, 5, 8, 8, 8, 8, 8, 8, 5, 8, 8, 5, 8, 2, 8, 2, 2, 8, 8, 8, 8, 8, 8, 2, 8, 8, 8, 2, 8, 7, 4, 7, 4, 7, 4, 4, 4, 4, 4, 7, 4, 9, 6, 4, 2, 8, 2, 8, 2, 8, 8, 3, 2, 2, 2, 2, 2, 2, 2, 2, 2, 2, 2, 2, 2, 2, 2, 2, 8, 3, 8, 2, 8, 2, 4, 3, 4, 3, 2, 2, 2, 2, 2, 2, 2, 2, 2, 2, 2, 2, 2, 2, 2, 2, 2, 2, 2, 2, 2, 2, 2, 2, 2, 9, 2, 9, 9, 4, 9, 4, 3, 3, 9, 9, 5, 5, 5, 0, 5, 5, 5, 5, 5, 5, 5, 5, 5, 5, 5, 5, 5, 5, 5, 5, 5, 2, 2, 2, 2, 9, 2, 2, 2, 2, 0, 2, 2, 1, 2, 9, 9, 0, 2, 9, 9, 9, 9, 1, 4, 9, 4, 4, 4, 4, 4, 4, 4, 4, 4, 4, 4, 4, 4, 4, 4, 4, 3, 4, 3, 2, 2, 4, 4, 4, 4, 4, 3, 4, 3, 3, 3, 3, 3, 3, 3, 3, 3, 3, 3, 3, 3, 3, 3, 3, 3, 3, 3, 3, 3, 3, 3, 3, 3, 3, 3, 3, 9, 9, 9, 9, 9, 9, 9, 9, 9, 9, 9, 9, 0, 9, 0, 9, 0, 9, 0, 0, 9, 9, 9, 0, 3, 3, 3, 3, 4, 6, 3, 3, 9, 9, 0, 9, 7, 9, 2, 9, 2, 2, 2, 2, 2, 2, 2, 9, 2, 9, 2, 2, 2, 9, 2, 2, 2, 9, 2, 2, 2, 2, 2, 2, 2, 4, 4, 4, 4, 4, 4, 4, 4, 4, 4, 4, 4, 4, 4, 4, 4, 3, 3, 3, 2, 3, 2, 3, 3, 3, 3, 3, 3, 3, 3, 3, 3, 3, 3, 2, 3, 5, 2, 2, 0, 2, 0, 0, 2, 0, 2, 0, 2, 0, 2, 0, 0, 5, 5, 5, 5, 5, 5, 5, 5, 5, 5, 5, 5, 5, 5, 5, 5, 5, 5, 5, 5, 5, 5, 5, 5, 5, 5, 5, 5, 5, 5, 5, 5, 5, 5, 5, 5, 5, 5, 5, 5, 5, 5, 9, 9, 0, 9, 0, 9, 9, 5, 9, 5, 9, 9, 9, 9, 9, 9, 9, 9, 9, 0, 9, 9, 9, 9, 3, 3, 6, 3, 3, 6, 3, 3, 3, 3, 3, 3, 7, 7, 3, 4, 4, 4, 4, 4, 7, 2, 4, 4, 4, 4, 4, 4, 4, 4, 4, 4, 4, 4, 4, 4, 8, 4, 8, 8, 3, 9, 9, 3, 3, 3, 3, 9, 3, 9, 3, 9, 3, 9, 3, 9, 3, 9, 3, 3, 9, 3, 9, 9, 9, 2, 9, 3, 3, 3, 3, 3, 3, 8, 8, 3, 3, 3, 3, 8, 3, 8, 3, 3, 3, 3, 3, 4, 9, 9, 2, 2, 2, 2, 2, 2, 2, 2, 2, 2, 0, 2, 2, 9, 2, 2, 9, 9, 2, 4, 9, 4, 4, 7, 7, 4, 4, 3, 9, 3, 2, 9, 2, 9, 9, 9, 9, 9, 9, 7, 9, 7, 4, 4, 4, 4, 9, 9, 9, 9, 9, 9, 9, 9, 9, 4, 4, 4, 4, 9, 9, 9, 4, 9, 4, 4, 0, 9, 1, 9, 9, 9, 9, 9, 4, 9, 4, 4, 4, 4, 4, 7, 7, 7, 7, 4, 7, 4, 0, 0, 9, 0, 9, 9, 7, 9, 7, 7, 7, 7, 7, 7, 7, 7, 7, 7, 7, 7, 7, 7, 7, 7, 7, 7, 9, 7, 9, 9, 1, 4, 4, 1, 1, 9, 9, 9, 9, 9, 9, 9, 9, 9, 9, 9, 9, 9, 8, 9, 8, 8, 8, 8, 8, 1, 1, 8, 1, 1, 1, 1, 1, 1, 1, 9, 9, 9, 9, 9, 9, 9, 9, 9, 9, 9, 9, 9, 9, 1, 1, 1, 1, 4, 4, 4, 4, 4, 1, 4, 1, 1, 4, 1, 4, 4, 4, 4, 4, 9, 4, 9, 4, 1, 4, 1, 4, 4, 4, 4, 4, 4, 1, 9, 9, 9, 9, 4, 1, 1, 1, 1, 1, 1, 1, 1, 1, 1, 4, 9, 9, 4, 4, 4, 4, 4, 4, 4, 4, 9, 4, 9, 4, 9, 0, 9, 0, 0, 9, 0, 9, 9, 9, 9, 9, 9, 9, 1, 1, 1, 8, 1, 1, 4, 1, 4, 4, 9, 9, 4, 4, 4, 4, 4, 4, 4, 4, 4, 4, 4, 4, 4, 4, 4, 4, 4, 4, 4, 4, 4, 4, 4, 4, 4, 4, 1, 4, 1, 4, 4, 4, 9, 9, 9, 9, 9, 1, 1, 1, 1, 1, 4, 1, 4, 9, 9, 9, 9, 1, 1, 1, 1, 9, 9, 9, 9, 9, 9, 9, 9, 9, 4, 2, 2, 2, 2, 2, 2, 2, 2, 2, 2, 2, 2, 0, 2, 8, 8, 2, 2, 2, 2, 3, 3, 3, 3, 3, 3, 3, 3, 3, 3, 3, 3, 4, 4, 4, 4, 4, 4, 4, 4, 4, 4, 4, 4, 4, 4, 4, 4, 4, 4, 4, 4, 4, 4, 4, 4, 0, 0, 0, 0, 0, 0, 0, 0, 7, 3, 7, 7, 0, 0, 0, 7, 0, 7, 0, 0, 0, 0, 7, 9, 7, 9, 0, 0, 0, 9, 0, 9, 9, 9, 9, 4, 9, 9, 9, 9, 9, 9, 8, 9, 8, 9, 3, 4, 4, 4, 4, 9, 9, 8, 9, 9, 6, 4, 4, 4, 4, 4, 7, 4, 4, 7, 2, 2, 2, 5, 2, 5, 2, 8, 2, 8, 2, 2, 2, 2, 2, 5, 2, 5, 5, 5, 5, 5, 5, 5, 5, 5, 2, 2, 2, 2, 2, 2, 2, 2, 2, 2, 2, 2, 2, 2, 3, 3, 3, 2, 3, 2, 2, 3, 9, 9, 9, 9, 9, 9, 9, 8, 9, 8, 8, 9, 8, 9, 8, 9, 8, 9, 9, 9, 9, 9, 9, 8, 9, 9, 7, 0, 7, 0, 9, 9, 9, 9, 0, 9, 0, 9, 5, 7, 5, 7, 9, 9, 9, 9, 9, 9, 9, 9, 0, 7, 0, 7, 0, 0, 4, 9, 7, 7, 7, 7, 9, 9, 9, 9, 7, 9, 7, 9, 9, 9, 9, 9, 9, 9, 9, 9, 0, 0, 0, 0, 0, 0, 0, 0, 0, 0, 0, 0, 0, 0, 0, 0, 0, 0, 3]\n",
            "[3, 3, 3, 9, 9, 9, 9, 9, 9, 9, 9, 9, 9, 9, 9, 9, 9, 9, 9, 9, 9, 9, 9, 9, 9, 9, 9, 3, 3, 3, 3, 3, 3, 3, 3, 3, 3, 7, 7, 7, 7, 7, 7, 7, 7, 7, 7, 7, 7, 7, 7, 7, 7, 9, 9, 9, 9, 9, 9, 9, 9, 9, 9, 9, 9, 9, 9, 9, 9, 9, 9, 9, 9, 9, 9, 9, 9, 3, 3, 3, 3, 3, 3, 3, 3, 3, 3, 3, 3, 3, 3, 3, 3, 3, 5, 5, 5, 5, 5, 5, 5, 5, 5, 5, 5, 5, 5, 5, 5, 5, 5, 5, 5, 5, 5, 5, 5, 5, 5, 5, 5, 5, 5, 5, 5, 5, 5, 5, 5, 5, 5, 5, 5, 5, 5, 5, 5, 5, 5, 5, 5, 5, 5, 5, 5, 5, 5, 5, 5, 5, 5, 5, 5, 5, 5, 5, 5, 5, 4, 4, 4, 4, 4, 4, 4, 4, 4, 4, 4, 4, 4, 4, 4, 4, 4, 4, 4, 4, 4, 4, 4, 4, 4, 4, 4, 4, 4, 4, 4, 4, 4, 4, 4, 4, 9, 9, 9, 9, 9, 9, 9, 9, 9, 9, 9, 9, 9, 9, 9, 9, 9, 9, 9, 9, 9, 9, 9, 9, 7, 7, 7, 7, 7, 7, 7, 7, 7, 7, 7, 7, 7, 7, 7, 7, 7, 7, 7, 7, 7, 7, 7, 7, 7, 7, 7, 7, 7, 7, 7, 7, 7, 7, 7, 7, 9, 9, 9, 9, 9, 9, 9, 9, 9, 9, 9, 9, 9, 9, 9, 9, 9, 9, 9, 9, 9, 9, 9, 9, 6, 6, 6, 6, 6, 6, 6, 6, 6, 6, 6, 6, 6, 6, 6, 6, 6, 6, 6, 6, 6, 6, 6, 6, 6, 6, 6, 6, 6, 6, 6, 6, 6, 6, 2, 2, 2, 2, 2, 2, 2, 2, 2, 2, 2, 2, 2, 2, 2, 2, 2, 2, 2, 2, 2, 2, 2, 2, 2, 2, 2, 2, 4, 4, 4, 4, 4, 4, 4, 4, 4, 4, 4, 4, 4, 5, 5, 5, 5, 5, 5, 5, 5, 5, 5, 5, 5, 5, 5, 5, 5, 5, 5, 5, 5, 5, 5, 5, 5, 5, 5, 5, 5, 5, 5, 5, 5, 5, 5, 5, 5, 5, 5, 5, 5, 5, 5, 5, 5, 5, 5, 5, 5, 5, 5, 5, 5, 5, 5, 5, 5, 5, 5, 5, 5, 5, 5, 5, 5, 5, 5, 5, 5, 5, 5, 5, 5, 5, 5, 5, 5, 5, 5, 5, 5, 5, 5, 5, 5, 5, 5, 5, 5, 5, 5, 5, 5, 5, 5, 5, 5, 5, 5, 5, 5, 5, 5, 5, 5, 5, 5, 5, 5, 5, 5, 5, 5, 5, 5, 5, 5, 5, 5, 5, 5, 5, 5, 5, 5, 5, 5, 5, 5, 5, 5, 5, 5, 5, 5, 5, 5, 4, 4, 4, 4, 4, 4, 4, 4, 4, 4, 4, 4, 4, 4, 4, 4, 4, 4, 4, 4, 4, 4, 4, 4, 4, 4, 4, 4, 4, 4, 4, 4, 4, 4, 4, 4, 4, 4, 4, 4, 4, 4, 4, 4, 4, 4, 4, 4, 4, 4, 4, 4, 4, 4, 4, 4, 4, 4, 4, 4, 4, 4, 4, 4, 4, 4, 4, 4, 4, 4, 4, 4, 4, 4, 4, 4, 4, 4, 4, 4, 0, 0, 0, 0, 0, 0, 0, 0, 0, 0, 0, 0, 0, 0, 0, 0, 0, 0, 0, 0, 0, 0, 0, 0, 0, 0, 0, 0, 0, 0, 0, 0, 0, 0, 0, 0, 0, 0, 0, 0, 0, 0, 0, 0, 0, 0, 0, 0, 0, 0, 0, 0, 0, 0, 0, 0, 0, 0, 0, 0, 0, 0, 0, 0, 0, 0, 0, 0, 0, 0, 0, 0, 0, 0, 0, 0, 0, 0, 0, 0, 0, 0, 0, 0, 0, 0, 0, 0, 0, 0, 0, 0, 0, 0, 0, 0, 7, 7, 7, 7, 7, 7, 7, 7, 7, 7, 7, 7, 7, 7, 7, 7, 7, 7, 7, 7, 7, 7, 7, 7, 7, 7, 7, 7, 7, 7, 7, 7, 7, 7, 7, 7, 7, 7, 7, 7, 7, 7, 7, 7, 7, 7, 7, 7, 7, 7, 7, 7, 7, 7, 7, 7, 6, 6, 6, 4, 4, 4, 4, 4, 4, 4, 4, 4, 4, 4, 4, 4, 4, 4, 4, 4, 4, 4, 4, 4, 4, 4, 4, 4, 4, 4, 4, 4, 4, 4, 4, 4, 4, 4, 4, 4, 4, 4, 4, 4, 4, 4, 4, 4, 4, 4, 4, 5, 5, 5, 5, 5, 5, 5, 5, 5, 5, 5, 5, 5, 5, 5, 5, 5, 5, 5, 5, 5, 5, 5, 5, 5, 5, 5, 5, 5, 5, 5, 5, 5, 5, 5, 5, 5, 5, 5, 5, 5, 5, 5, 5, 5, 5, 5, 5, 5, 5, 5, 5, 5, 5, 5, 5, 5, 5, 5, 5, 5, 5, 5, 5, 5, 5, 5, 5, 5, 5, 5, 5, 5, 5, 5, 5, 5, 5, 5, 5, 5, 5, 5, 5, 5, 5, 5, 5, 5, 5, 5, 5, 5, 3, 4, 4, 4, 4, 4, 4, 4, 4, 4, 4, 4, 4, 4, 4, 4, 4, 4, 4, 4, 4, 4, 4, 4, 4, 4, 4, 4, 4, 4, 4, 4, 4, 4, 4, 4, 4, 4, 4, 4, 4, 4, 4, 4, 4, 4, 4, 4, 4, 4, 4, 4, 4, 4, 4, 4, 4, 4, 4, 4, 4, 4, 6, 6, 6, 3, 3, 3, 3, 3, 3, 3, 3, 3, 3, 3, 3, 3, 3, 3, 3, 6, 6, 8, 8, 8, 8, 8, 8, 8, 8, 8, 8, 8, 8, 8, 8, 8, 8, 8, 8, 8, 8, 8, 8, 8, 8, 8, 8, 8, 8, 8, 8, 8, 8, 8, 8, 8, 8, 8, 8, 8, 8, 8, 8, 8, 8, 6, 3, 8, 8, 8, 8, 8, 8, 8, 8, 8, 8, 8, 8, 8, 8, 8, 8, 8, 8, 8, 8, 8, 8, 8, 8, 8, 8, 8, 8, 8, 8, 8, 8, 8, 8, 8, 8, 8, 8, 8, 8, 8, 8, 8, 8, 8, 8, 8, 8, 8, 8, 8, 8, 8, 8, 8, 8, 8, 8, 8, 8, 8, 8, 8, 8, 8, 8, 8, 8, 8, 8, 8, 8, 8, 8, 8, 8, 8, 8, 8, 8, 8, 8, 8, 8, 8, 8, 8, 8, 8, 8, 8, 8, 8, 8, 8, 8, 8, 8, 8, 8, 8, 8, 8, 8, 8, 8, 8, 8, 8, 8, 8, 8, 8, 8, 8, 8, 8, 8, 8, 8, 8, 8, 8, 8, 8, 8, 8, 8, 8, 8, 8, 8, 8, 8, 8, 8, 8, 8, 8, 8, 8, 8, 8, 8, 8, 8, 8, 8, 8, 8, 8, 8, 8, 8, 8, 8, 8, 8, 8, 8, 8, 8, 8, 8, 8, 8, 8, 8, 8, 8, 8, 8, 8, 8, 8, 8, 8, 8, 8, 8, 8, 8, 8, 8, 1, 1, 1, 1, 4, 4, 4, 4, 4, 5, 5, 5, 5, 5, 5, 5, 5, 5, 5, 5, 5, 5, 5, 5, 5, 5, 5, 5, 5, 5, 5, 5, 5, 5, 5, 5, 5, 5, 5, 5, 5, 5, 5, 5, 5, 5, 5, 5, 5, 5, 5, 5, 5, 0, 0, 0, 0, 0, 0, 0, 0, 0, 0, 0, 0, 0, 0, 0, 0, 0, 0, 0, 0, 0, 0, 0, 0, 0, 0, 0, 0, 0, 0, 0, 0, 0, 0, 0, 0, 0, 0, 0, 0, 0, 0, 0, 0, 0, 0, 0, 0, 0, 0, 0, 0, 0, 0, 0, 0, 0, 0, 0, 0, 0, 0, 0, 0, 4, 4, 4, 4, 4, 4, 4, 4, 4, 4, 4, 4, 4, 4, 4, 4, 4, 4, 4, 4, 4, 4, 4, 4, 4, 4, 4, 4, 4, 4, 4, 4, 4, 4, 4, 4, 4, 4, 4, 4, 4, 4, 4, 4, 4, 4, 4, 4, 4, 4, 4, 4, 4, 4, 4, 4, 4, 4, 4, 4, 4, 4, 4, 4, 4, 4, 4, 4, 4, 4, 4, 4, 4, 4, 4, 4, 4, 4, 4, 4, 4, 4, 4, 4, 2, 2, 2, 2, 2, 2, 2, 2, 2, 2, 2, 2, 2, 2, 2, 2, 2, 2, 2, 2, 2, 2, 2, 2, 2, 2, 2, 2, 2, 2, 2, 2, 7, 7, 7, 7, 7, 7, 7, 7, 7, 7, 7, 7, 7, 7, 7, 7, 7, 7, 7, 7, 7, 7, 7, 7, 7, 7, 7, 7, 7, 7, 7, 7, 7, 7, 7, 7, 7, 7, 7, 7, 7, 7, 7, 7, 7, 7, 7, 7, 7, 7, 7, 7, 7, 7, 7, 7, 7, 9, 9, 9, 9, 9, 9, 9, 9, 9, 9, 9, 9, 9, 9, 9, 9, 9, 9, 9, 9, 9, 9, 9, 9, 3, 3, 3, 3, 3, 3, 3, 3, 3, 3, 3, 3, 3, 3, 3, 3, 3, 3, 3, 3, 3, 3, 3, 3, 3, 3, 3, 3, 3, 3, 3, 3, 2, 2, 2, 2, 2, 2, 2, 2, 2, 2, 2, 2, 2, 2, 2, 2, 2, 2, 2, 2, 2, 2, 2, 2, 2, 2, 2, 2, 2, 2, 2, 2, 2, 2, 2, 2, 2, 2, 2, 2, 2, 2, 2, 2, 2, 2, 2, 2, 2, 2, 2, 2, 2, 2, 2, 2, 2, 2, 2, 2, 1, 1, 2, 2, 2, 2, 2, 2, 2, 2, 2, 2, 2, 2, 2, 2, 2, 2, 2, 2, 2, 2, 2, 2, 2, 2, 2, 2, 2, 2, 2, 2, 2, 2, 1, 5, 5, 5, 5, 5, 5, 5, 5, 5, 5, 5, 5, 2, 2, 2, 2, 2, 2, 2, 2, 2, 2, 2, 2, 2, 2, 2, 2, 2, 2, 2, 2, 2, 2, 2, 2, 2, 2, 2, 2, 2, 2, 2, 2, 4, 4, 4, 4, 3, 3, 3, 3, 3, 3, 3, 3, 3, 3, 3, 3, 3, 3, 3, 3, 3, 3, 3, 3, 3, 3, 3, 3, 3, 3, 3, 3, 0, 0, 0, 0, 0, 0, 0, 0, 0, 0, 0, 0, 0, 0, 0, 0, 0, 0, 0, 0, 0, 0, 0, 0, 0, 0, 0, 0, 0, 0, 0, 0, 0, 0, 0, 0, 2, 2, 2, 2, 2, 2, 2, 2, 2, 2, 2, 2, 2, 2, 2, 2, 2, 2, 2, 2, 2, 2, 2, 2, 2, 2, 2, 2, 2, 2, 2, 2, 5, 1, 1, 1, 1, 1, 1, 1, 1, 1, 1, 1, 1, 1, 1, 1, 4, 4, 4, 4, 4, 4, 4, 4, 2, 2, 2, 2, 2, 2, 2, 2, 2, 2, 2, 2, 2, 2, 2, 2, 2, 2, 2, 2, 2, 2, 2, 2, 2, 2, 2, 2, 2, 2, 2, 2, 9, 9, 9, 9, 9, 9, 9, 9, 9, 9, 9, 9, 9, 9, 9, 9, 9, 9, 9, 9, 0, 0, 0, 0, 0, 0, 0, 0, 0, 0, 0, 0, 0, 0, 0, 0, 0, 0, 0, 0, 0, 0, 0, 0, 0, 0, 0, 0, 0, 0, 0, 0, 0, 0, 0, 0, 0, 0, 0, 0, 0, 0, 0, 0, 0, 0, 0, 0, 0, 0, 0, 0, 0, 0, 0, 0, 0, 0, 0, 0, 0, 0, 0, 0, 0, 0, 0, 0, 0, 0, 0, 0, 0, 0, 0, 0, 0, 0, 0, 0, 0, 0, 0, 0, 0, 0, 0, 0, 0, 0, 0, 0, 2, 2, 2, 2, 2, 4, 4, 4, 4, 4, 4, 4, 3, 3, 3, 3, 3, 3, 3, 3, 3, 3, 0, 0, 0, 0, 1, 1, 1, 2, 2, 2, 2, 2, 2, 2, 2, 2, 2, 2, 2, 2, 2, 2, 2, 2, 2, 2, 2, 2, 2, 2, 2, 2, 2, 2, 2, 2, 2, 2, 2, 2, 2, 2, 2, 2, 2, 2, 2, 2, 2, 2, 2, 2, 2, 2, 2, 2, 2, 2, 2, 5, 5, 5, 5, 5, 5, 5, 5, 5, 5, 5, 5, 5, 5, 5, 5, 7, 7, 7, 7, 7, 7, 7, 7, 7, 7, 7, 7, 7, 7, 7, 7, 7, 7, 7, 7, 7, 7, 7, 7, 7, 7, 7, 7, 7, 7, 7, 7, 7, 7, 7, 7, 7, 7, 7, 7, 7, 7, 7, 7, 7, 7, 7, 7, 7, 7, 7, 7, 7, 7, 7, 7, 7, 7, 7, 7, 7, 7, 7, 7, 7, 7, 7, 7, 7, 7, 7, 7, 7, 7, 7, 7, 7, 7, 7, 7, 7, 7, 7, 7, 7, 7, 7, 7, 7, 7, 7, 7, 7, 7, 7, 7, 7, 7, 7, 7, 7, 7, 7, 7, 7, 7, 7, 7, 7, 7, 7, 7, 7, 7, 7, 7, 7, 7, 7, 7, 7, 7, 7, 7, 7, 7, 7, 7, 7, 7, 7, 7, 7, 7, 7, 7, 7, 7, 7, 7, 7, 7, 7, 7, 7, 7, 7, 7, 7, 7, 7, 7, 7, 7, 7, 8, 8, 8, 8, 8, 8, 8, 8, 8, 8, 8, 8, 8, 8, 8, 8, 8, 8, 8, 8, 8, 8, 8, 8, 8, 8, 8, 8, 8, 8, 8, 8, 8, 8, 8, 8, 8, 8, 8, 8, 8, 8, 8, 8, 8, 8, 8, 8, 8, 8, 8, 8, 8, 8, 8, 8, 8, 8, 8, 8, 8, 8, 8, 8, 8, 8, 8, 8, 8, 8, 8, 8, 8, 8, 8, 8, 8, 8, 8, 8, 8, 8, 8, 8, 8, 8, 8, 8, 8, 8, 8, 8, 8, 8, 8, 8, 8, 8, 8, 8, 8, 8, 8, 8, 8, 8, 8, 8, 8, 8, 8, 8, 8, 8, 8, 8, 8, 8, 8, 8, 8, 8, 8, 8, 8, 8, 8, 8, 8, 8, 8, 8, 8, 8, 8, 8, 8, 8, 8, 8, 8, 8, 8, 8, 8, 8, 8, 8, 8, 8, 8, 8, 8, 8, 8, 8, 8, 8, 8, 8, 8, 8, 8, 8, 8, 8, 8, 8, 8, 8, 8, 8, 8, 8, 8, 8, 8, 8, 8, 8, 8, 8, 8, 8, 8, 8, 8, 8, 8, 8, 8, 8, 8, 8, 8, 8, 8, 8, 8, 8, 8, 8, 8, 8, 8, 8, 8, 8, 8, 8, 8, 8, 8, 8, 8, 8, 8, 8, 8, 8, 8, 8, 8, 8, 8, 8, 8, 8, 8, 8, 8, 8, 8, 8, 8, 8, 8, 8, 8, 8, 8, 8, 8, 8, 8, 8, 8, 8, 8, 8, 8, 8, 8, 8, 8, 8, 8, 8, 8, 8, 8, 8, 8, 8, 8, 8, 8, 8, 8, 8, 8, 8, 8, 8, 8, 8, 8, 8, 8, 8, 8, 8, 8, 8, 8, 8, 8, 8, 8, 8, 8, 8, 8, 8, 8, 8, 8, 8, 8, 8, 8, 8, 8, 8, 8, 8, 8, 8, 8, 8, 8, 8, 8, 8, 8, 8, 8, 8, 8, 8, 8, 8, 8, 8, 8, 8, 8, 8, 8, 8, 8, 8, 8, 8, 8, 8, 8, 8, 8, 8, 8, 8, 8, 8, 8, 8, 8, 8, 8, 8, 8, 8, 8, 8, 8, 8, 8, 8, 8, 8, 8, 8, 8, 8, 8, 8, 8, 8, 8, 8, 8, 8, 8, 8, 8, 8, 8, 8, 8, 8, 8, 8, 8, 8, 8, 8, 8, 8, 8, 8, 8, 8, 8, 8, 8, 8, 8, 8, 8, 8, 3, 3, 3, 3, 3, 3, 3, 3, 3, 3, 3, 3, 3, 3, 3, 3, 4, 4, 4, 4, 4, 4, 4, 4, 4, 4, 4, 4, 4, 4, 4, 4, 4, 4, 4, 4, 4, 4, 4, 4, 4, 4, 4, 4, 3, 3, 3, 3, 3, 3, 3, 3, 2, 2, 2, 2, 2, 2, 2, 2, 2, 2, 2, 2, 2, 2, 2, 2, 2, 2, 2, 2, 2, 2, 2, 2, 2, 2, 2, 2, 3, 3, 3, 3, 3, 3, 3, 3, 3, 9, 9, 9, 9, 9, 9, 9, 9, 9, 9, 9, 9, 9, 9, 9, 9, 9, 9, 9, 9, 9, 9, 9, 9, 3, 3, 3, 3, 3, 3, 3, 3, 3, 3, 3, 6, 3, 3, 3, 3, 3, 3, 3, 9, 9, 9, 9, 9, 9, 9, 9, 9, 9, 9, 9, 9, 9, 9, 9, 9, 9, 9, 9, 9, 9, 9, 9, 3, 3, 3, 3, 3, 3, 3, 3, 9, 9, 9, 9, 9, 9, 9, 9, 9, 9, 9, 9, 9, 9, 9, 9, 9, 9, 9, 9, 9, 9, 9, 9, 1, 2, 2, 2, 2, 2, 2, 2, 2, 2, 2, 2, 2, 2, 2, 2, 2, 2, 2, 2, 2, 2, 2, 2, 2, 2, 2, 2, 2, 3, 3, 6, 5, 5, 5, 5, 5, 5, 5, 5, 5, 5, 5, 5, 5, 5, 5, 5, 5, 5, 5, 5, 5, 5, 5, 5, 3, 3, 3, 3, 3, 3, 3, 3, 3, 3, 3, 3, 3, 3, 3, 3, 9, 9, 9, 9, 9, 9, 9, 9, 9, 9, 9, 9, 9, 9, 9, 9, 9, 9, 9, 9, 2, 2, 2, 2, 2, 2, 2, 2, 2, 2, 2, 2, 2, 2, 2, 2, 2, 2, 2, 2, 2, 2, 2, 2, 2, 2, 2, 2, 2, 2, 2, 2, 0, 0, 0, 0, 0, 0, 0, 0, 0, 0, 0, 0, 0, 0, 0, 0, 0, 0, 0, 0, 0, 0, 0, 0, 0, 0, 0, 0, 0, 0, 0, 0, 0, 0, 0, 0, 0, 0, 0, 0, 0, 0, 0, 0, 0, 0, 0, 0, 0, 0, 0, 0, 0, 0, 0, 0, 0, 0, 0, 0, 0, 0, 0, 0, 0, 0, 0, 0, 0, 0, 0, 0, 0, 0, 0, 0, 0, 0, 0, 0, 0, 0, 0, 0, 0, 0, 0, 0, 0, 0, 0, 0, 9, 9, 9, 9, 9, 9, 9, 9, 9, 9, 9, 9, 9, 9, 9, 9, 9, 9, 9, 9, 9, 9, 9, 9, 9, 9, 9, 9, 9, 9, 9, 9, 9, 9, 9, 9, 9, 9, 9, 9, 9, 9, 9, 9, 9, 9, 9, 9, 9, 9, 9, 9, 9, 9, 9, 9, 9, 9, 9, 9, 9, 9, 9, 9, 9, 9, 9, 9, 9, 9, 9, 9, 9, 9, 9, 9, 9, 9, 9, 9, 9, 9, 9, 9, 9, 9, 9, 9, 9, 9, 9, 9, 9, 9, 9, 9, 0, 0, 0, 0, 0, 0, 0, 0, 0, 0, 0, 0, 0, 0, 0, 0, 3, 3, 3, 3, 3, 3, 3, 3, 3, 3, 3, 3, 3, 3, 3, 3, 3, 3, 6, 6, 6, 6, 6, 6, 3, 3, 3, 3, 3, 3, 3, 3, 3, 3, 3, 3, 3, 3, 3, 3, 3, 3, 3, 3, 3, 3, 3, 3, 3, 3, 3, 3, 1, 1, 1, 1, 1, 1, 1, 1, 1, 1, 1, 1, 1, 1, 1, 1, 1, 1, 1, 1, 1, 1, 1, 1, 1, 1, 1, 1, 1, 1, 1, 1, 1, 1, 1, 1, 1, 1, 1, 1, 1, 1, 1, 1, 1, 1, 1, 1, 1, 1, 1, 1, 1, 1, 1, 1, 1, 1, 1, 1, 1, 1, 1, 1, 1, 1, 1, 1, 1, 1, 1, 1, 1, 1, 1, 1, 1, 1, 1, 1, 1, 1, 1, 1, 1, 1, 1, 1, 1, 1, 1, 1, 1, 1, 1, 1, 1, 1, 1, 1, 1, 1, 1, 1, 1, 1, 1, 1, 1, 1, 1, 1, 1, 1, 1, 1, 1, 1, 1, 1, 1, 1, 1, 1, 1, 1, 1, 1, 1, 1, 1, 1, 1, 1, 1, 1, 1, 1, 1, 3, 3, 3, 3, 3, 3, 3, 3, 3, 3, 3, 3, 3, 3, 3, 3, 3, 3, 3, 3, 3, 3, 3, 3, 3, 3, 3, 3, 3, 3, 3, 3, 9, 9, 9, 9, 9, 9, 9, 9, 9, 9, 9, 9, 9, 9, 9, 9, 9, 9, 9, 9, 9, 9, 9, 9, 9, 9, 9, 9, 9, 9, 9, 9, 9, 9, 9, 9, 9, 9, 9, 9, 9, 9, 9, 9, 9, 9, 9, 9, 5, 5, 5, 5, 5, 5, 5, 5, 5, 5, 5, 5, 5, 5, 5, 5, 5, 5, 5, 5, 5, 5, 5, 5, 5, 5, 5, 5, 5, 5, 3, 3, 3, 3, 3, 3, 3, 3, 8, 8, 8, 8, 8, 8, 3, 3, 3, 3, 3, 3, 3, 3, 3, 3, 3, 3, 3, 3, 3, 3, 9, 9, 9, 9, 9, 9, 9, 9, 9, 9, 9, 9, 9, 9, 9, 9, 9, 9, 9, 9, 9, 9, 9, 9, 2, 2, 2, 2, 2, 2, 2, 2, 2, 2, 2, 2, 2, 2, 2, 2, 2, 2, 2, 2, 2, 2, 2, 2, 2, 2, 2, 2, 2, 2, 2, 2, 0, 0, 0, 0, 0, 0, 0, 0, 0, 0, 0, 0, 0, 0, 0, 0, 0, 0, 0, 0, 0, 0, 0, 0, 0, 0, 0, 0, 0, 0, 0, 0, 0, 0, 0, 0, 0, 0, 0, 0, 0, 0, 0, 0, 0, 0, 0, 0, 0, 0, 0, 0, 0, 0, 0, 0, 0, 0, 0, 0, 0, 0, 0, 0, 0, 0, 0, 0, 0, 0, 0, 0, 0, 0, 0, 0, 0, 0, 0, 0, 0, 0, 0, 0, 0, 0, 0, 0, 0, 0, 0, 0, 0, 0, 0, 0, 0, 0, 0, 0, 0, 0, 0, 0, 0, 0, 0, 0, 0, 0, 0, 0, 0, 0, 0, 0, 0, 0, 0, 0, 0, 0, 0, 0, 3, 3, 3, 3, 3, 3, 3, 3, 3, 3, 3, 3, 2, 2, 2, 2, 2, 2, 2, 2, 2, 2, 2, 2, 2, 2, 2, 2, 2, 2, 2, 2, 2, 2, 2, 2, 2, 2, 2, 2, 2, 2, 2, 2, 7, 7, 7, 7, 7, 7, 7, 7, 7, 7, 7, 7, 7, 7, 7, 7, 7, 7, 7, 7, 7, 7, 7, 7, 7, 7, 7, 7, 7, 7, 7, 7, 7, 7, 7, 7, 7, 7, 7, 7, 7, 7, 7, 7, 7, 7, 7, 7, 7, 7, 7, 7, 7, 7, 7, 7, 7, 7, 7, 7, 7, 7, 7, 7, 7, 7, 7, 7, 7, 7, 7, 7, 7, 7, 7, 7, 7, 7, 7, 7, 7, 7, 7, 7, 7, 7, 7, 7, 7, 7, 7, 7, 7, 7, 7, 7, 7, 7, 7, 7, 7, 7, 7, 7, 7, 7, 7, 7, 7, 7, 7, 7, 7, 7, 7, 7, 7, 7, 7, 7, 7, 7, 7, 7, 7, 7, 7, 7, 7, 7, 7, 7, 7, 7, 7, 7, 7, 7, 7, 7, 7, 7, 7, 7, 7, 7, 7, 7, 7, 7, 7, 7, 7, 7, 7, 7, 7, 7, 7, 7, 7, 7, 7, 7, 7, 7, 7, 7, 7, 7, 7, 7, 7, 7, 7, 7, 7, 7, 7, 7, 7, 7, 7, 7, 7, 7, 7, 7, 7, 7, 7, 7, 7, 7, 7, 7, 7, 7, 7, 7, 7, 7, 7, 7, 7, 7, 7, 7, 7, 7, 7, 7, 7, 7, 7, 7, 7, 7, 7, 7, 7, 7, 7, 7, 7, 7, 7, 7, 7, 7, 7, 7, 7, 7, 7, 7, 9, 9, 9, 9, 9, 9, 9, 9, 9, 9, 9, 9, 9, 9, 9, 9, 9, 9, 9, 9, 9, 9, 9, 9, 5, 5, 5, 5, 5, 5, 5, 5, 5, 5, 5, 5, 9, 9, 9, 9, 9, 9, 9, 9, 9, 9, 9, 9, 9, 9, 9, 9, 9, 9, 9, 9, 9, 9, 9, 9, 9, 9, 9, 9, 9, 9, 9, 9, 9, 9, 9, 9, 9, 9, 9, 9, 9, 9, 9, 9, 3, 3, 3, 3, 3, 3, 3, 3, 3, 3, 3, 3, 8, 8, 8, 8, 8, 8, 8, 8, 8, 8, 8, 8, 8, 8, 8, 8, 8, 8, 8, 8, 8, 8, 8, 8, 8, 8, 8, 8, 8, 8, 8, 8, 8, 8, 8, 8, 8, 8, 8, 8, 8, 8, 8, 8, 8, 8, 8, 8, 8, 8, 8, 8, 8, 8, 8, 8, 8, 8, 8, 8, 8, 8, 8, 8, 8, 8, 8, 8, 8, 8, 8, 8, 8, 8, 8, 8, 8, 8, 8, 8, 8, 8, 8, 8, 8, 8, 8, 8, 8, 8, 8, 8, 9, 9, 9, 9, 9, 9, 9, 9, 9, 9, 9, 9, 9, 9, 9, 9, 9, 9, 9, 9, 9, 9, 9, 9, 9, 9, 9, 9, 9, 9, 9, 9, 9, 9, 9, 9, 9, 9, 9, 9, 9, 9, 9, 9, 9, 9, 9, 9, 3, 0, 0, 0, 0, 0, 0, 0, 0, 0, 0, 0, 0, 0, 0, 0, 0, 0, 0, 0, 0, 0, 0, 0, 0, 0, 0, 0, 0, 0, 0, 0, 0, 0, 0, 0, 0, 0, 0, 0, 0, 0, 0, 0, 0, 0, 0, 0, 0, 0, 0, 0, 0, 0, 0, 0, 0, 0, 0, 0, 0, 0, 0, 0, 0, 3, 3, 3, 3, 3, 3, 3, 3, 3, 3, 3, 3, 3, 3, 3, 3, 9, 9, 9, 9, 9, 9, 9, 9, 9, 9, 9, 9, 9, 9, 9, 9, 9, 9, 9, 9, 9, 9, 9, 9, 3, 3, 3, 3, 3, 3, 3, 3, 3, 3, 3, 3, 9, 9, 9, 9, 9, 9, 9, 9, 9, 9, 9, 9, 9, 9, 9, 9, 9, 9, 9, 9, 9, 9, 9, 9, 3, 3, 3, 3, 3, 3, 3, 6, 6, 6, 6, 6, 6, 6, 6, 6, 6, 9, 9, 9, 9, 9, 9, 9, 9, 9, 9, 9, 9, 9, 9, 9, 9, 9, 9, 9, 9, 9, 9, 9, 9, 5, 5, 5, 5, 5, 5, 5, 5, 5, 5, 5, 5, 5, 5, 5, 5, 5, 5, 5, 5, 5, 5, 5, 5, 5, 5, 5, 5, 5, 5, 5, 5, 5, 5, 5, 5, 5, 5, 5, 5, 5, 5, 5, 5, 5, 5, 5, 5, 5, 5, 5, 5, 5, 5, 5, 5, 5, 5, 5, 5, 5, 5, 5, 5, 5, 5, 5, 5, 5, 5, 5, 5, 5, 5, 5, 5, 5, 5, 5, 5, 5, 5, 5, 5, 5, 5, 5, 5, 5, 5, 5, 5, 8, 8, 8, 8, 8, 8, 8, 8, 8, 8, 8, 8, 8, 8, 8, 8, 8, 8, 8, 8, 8, 8, 8, 8, 8, 8, 8, 8, 8, 8, 8, 8, 8, 8, 8, 8, 8, 8, 8, 8, 8, 8, 8, 8, 8, 8, 8, 8, 8, 8, 8, 8, 2, 2, 2, 2, 2, 2, 2, 2, 2, 2, 2, 2, 2, 2, 2, 2, 2, 2, 2, 2, 2, 2, 2, 2, 2, 2, 2, 2, 6, 6, 6, 6, 6, 6, 6, 6, 6, 6, 6, 6, 8, 8, 8, 8, 8, 8, 8, 8, 2, 2, 2, 2, 2, 2, 2, 2, 2, 2, 2, 2, 2, 2, 2, 2, 2, 2, 2, 2, 2, 2, 2, 2, 2, 2, 2, 2, 2, 2, 2, 2, 2, 2, 2, 2, 2, 2, 2, 2, 2, 2, 2, 2, 2, 2, 2, 2, 2, 2, 2, 2, 2, 2, 2, 2, 2, 2, 2, 2, 2, 2, 2, 2, 6, 6, 6, 6, 6, 6, 6, 6, 6, 6, 6, 9, 9, 9, 9, 9, 9, 9, 9, 9, 9, 9, 9, 9, 9, 9, 9, 9, 9, 9, 9, 9, 9, 9, 9, 8, 8, 8, 8, 8, 8, 8, 8, 8, 8, 8, 8, 8, 8, 8, 8, 8, 8, 8, 8, 8, 8, 8, 8, 8, 8, 8, 8, 8, 8, 8, 8, 7, 7, 7, 7, 7, 7, 7, 7, 0, 0, 9, 9, 9, 9, 9, 9, 9, 9, 9, 9, 9, 9, 9, 9, 9, 9, 9, 9, 9, 9, 9, 9, 9, 9, 9, 9, 9, 9, 9, 9, 9, 9, 9, 9, 9, 9, 9, 9, 9, 9, 9, 9, 9, 9, 9, 9, 9, 9, 3, 3, 3, 3, 3, 3, 3, 3, 3, 3, 3, 3, 3, 3, 3, 3, 5, 5, 5, 5, 5, 5, 5, 5, 5, 5, 5, 5, 5, 5, 5, 5, 5, 5, 5, 5, 5, 5, 5, 5, 5, 5, 5, 5, 5, 5, 5, 5, 5, 5, 5, 5, 5, 5, 5, 5, 5, 5, 5, 5, 5, 5, 5, 5, 5, 5, 5, 5, 5, 5, 5, 5, 5, 5, 5, 5, 5, 5, 5, 5, 5, 5, 5, 5, 5, 5, 5, 5, 5, 5, 5, 5, 5, 5, 5, 5, 5, 5, 5, 5, 5, 5, 5, 5, 5, 5, 5, 5, 5, 5, 5, 5, 5, 5, 5, 5, 5, 5, 5, 5, 5, 5, 5, 5, 5, 5, 5, 5, 5, 5, 5, 5, 5, 5, 5, 5, 5, 5, 5, 5, 5, 5, 5, 5, 9, 9, 9, 9, 9, 9, 9, 9, 9, 9, 9, 9, 9, 9, 9, 9, 9, 9, 9, 9, 9, 9, 9, 9, 7, 7, 7, 7, 7, 7, 7, 7, 7, 7, 7, 7, 7, 7, 7, 7, 7, 7, 7, 7, 7, 7, 7, 7, 7, 7, 7, 7, 7, 7, 7, 7, 7, 7, 7, 7, 7, 7, 7, 7, 7, 7, 7, 7, 7, 7, 7, 7, 7, 7, 7, 7, 7, 7, 7, 7, 7, 7, 7, 7, 7, 7, 7, 7, 7, 7, 7, 7, 7, 7, 7, 7, 7, 7, 7, 7, 7, 7, 7, 7, 7, 7, 7, 7, 7, 7, 7, 7, 7, 7, 7, 7, 7, 7, 7, 7, 7, 7, 7, 7, 7, 7, 7, 7, 7, 7, 7, 7, 7, 7, 7, 7, 7, 7, 7, 7, 7, 7, 7, 7, 7, 7, 7, 7, 7, 7, 3, 3, 3, 3, 3, 3, 3, 3, 3, 3, 3, 3, 3, 3, 3, 3, 0, 0, 0, 0, 0, 0, 0, 0, 0, 0, 0, 0, 0, 0, 0, 0, 0, 0, 0, 0, 0, 0, 0, 0, 0, 0, 0, 0, 0, 0, 0, 0, 0, 0, 0, 0, 0, 0, 0, 0, 0, 0, 0, 0, 0, 0, 0, 0, 0, 0, 0, 0, 0, 0, 0, 0, 0, 0, 0, 0, 0, 0, 0, 0, 0, 0, 0, 0, 0, 0, 0, 0, 0, 0, 0, 0, 0, 0, 0, 0, 0, 0, 0, 0, 0, 0, 0, 0, 0, 0, 0, 0, 0, 0, 0, 0, 0, 0, 0, 0, 0, 0, 0, 0, 0, 0, 0, 0, 0, 0, 0, 0, 0, 0, 0, 0, 0, 0, 0, 0, 0, 0, 0, 0, 0, 0, 0, 0, 0, 0, 0, 0, 0, 0, 0, 0, 0, 0, 0, 0, 0, 0, 0, 0, 0, 0, 0, 0, 0, 0, 0, 0, 2, 2, 2, 2, 2, 2, 2, 2, 2, 2, 2, 2, 2, 2, 2, 2, 2, 2, 2, 2, 2, 2, 2, 2, 2, 2, 2, 2, 3, 3, 3, 3, 3, 3, 3, 3, 3, 3, 3, 3, 3, 3, 3, 3, 4, 4, 4, 4, 4, 4, 4, 4, 4, 4, 4, 4, 4, 4, 4, 4, 4, 4, 4, 4, 4, 4, 4, 4, 4, 4, 4, 4, 4, 4, 4, 4, 4, 4, 4, 4, 4, 4, 4, 4, 4, 4, 4, 4, 4, 4, 4, 4, 4, 4, 4, 4, 4, 4, 4, 4, 4, 4, 4, 4, 4, 4, 4, 4, 4, 4, 4, 4, 4, 4, 4, 4, 4, 4, 4, 4, 4, 4, 4, 4, 4, 4, 4, 4, 4, 4, 4, 4, 4, 4, 4, 4, 4, 4, 4, 4, 4, 4, 4, 4, 4, 4, 4, 4, 4, 4, 4, 4, 4, 4, 4, 4, 4, 4, 4, 4, 4, 4, 4, 4, 4, 4, 4, 4, 4, 4, 4, 4, 4, 4, 4, 4, 4, 4, 4, 4, 4, 4, 4, 4, 4, 4, 4, 4, 4, 4, 4, 4, 3, 3, 3, 3, 3, 3, 3, 3, 3, 3, 3, 3, 1, 1, 1, 1, 1, 1, 1, 1, 1, 1, 1, 1, 7, 7, 7, 7, 7, 7, 7, 7, 7, 7, 7, 7, 7, 7, 7, 7, 3, 3, 3, 3, 4, 4, 4, 4, 2, 2, 2, 2, 2, 2, 2, 2, 2, 2, 2, 2, 2, 2, 2, 2, 2, 2, 2, 2, 2, 2, 2, 2, 2, 2, 2, 2, 2, 2, 2, 2, 3, 3, 3, 3, 3, 3, 3, 3, 3, 3, 3, 3, 3, 3, 3, 3, 6, 9, 9, 9, 9, 9, 9, 9, 9, 9, 9, 9, 9, 9, 9, 9, 9, 9, 9, 9, 9, 3, 3, 3, 3, 3, 2, 2, 2, 2, 2, 2, 2, 2, 2, 2, 2, 2, 2, 2, 2, 2, 2, 2, 2, 2, 2, 2, 2, 2, 2, 3, 3, 3, 3, 3, 3, 3, 3, 3, 3, 3, 3, 3, 3, 3, 3, 3, 3, 3, 3, 3, 3, 3, 3, 3, 3, 3, 3, 3, 9, 9, 9, 9, 9, 9, 9, 9, 9, 9, 9, 9, 9, 9, 9, 9, 9, 9, 9, 9, 9, 9, 9, 9, 8, 8, 8, 8, 8, 8, 8, 8, 8, 8, 8, 8, 8, 8, 8, 8, 8, 8, 8, 8, 8, 8, 8, 8, 8, 8, 8, 8, 8, 8, 8, 8, 8, 8, 8, 8, 8, 8, 8, 8, 8, 8, 8, 8, 8, 8, 8, 8, 8, 8, 8, 8, 8, 8, 8, 8, 8, 8, 8, 8, 8, 8, 8, 8, 8, 8, 8, 8, 8, 8, 8, 8, 8, 8, 8, 8, 5, 5, 5, 5, 5, 5, 5, 5, 2, 2, 2, 2, 2, 2, 2, 2, 2, 2, 2, 2, 2, 2, 2, 2, 2, 2, 2, 2, 2, 2, 2, 2, 2, 2, 2, 2, 2, 2, 2, 2, 4, 4, 4, 4, 4, 4, 4, 4, 4, 4, 4, 4, 4, 4, 5, 5, 5, 5, 5, 5, 5, 5, 5, 5, 5, 5, 5, 5, 5, 5, 5, 5, 5, 5, 5, 5, 5, 5, 5, 5, 5, 5, 5, 5, 5, 5, 5, 5, 5, 5, 5, 5, 5, 5, 5, 5, 5, 5, 5, 5, 5, 5, 5, 5, 5, 5, 5, 5, 5, 5, 5, 5, 5, 5, 5, 5, 5, 5, 5, 5, 5, 5, 5, 1, 1, 5, 5, 5, 5, 5, 5, 5, 5, 5, 5, 5, 5, 5, 5, 5, 5, 5, 5, 5, 5, 5, 8, 8, 8, 8, 8, 8, 8, 8, 8, 3, 3, 3, 3, 3, 3, 3, 3, 3, 3, 3, 3, 3, 3, 3, 3, 2, 2, 2, 2, 2, 2, 2, 2, 2, 2, 2, 2, 2, 2, 2, 2, 2, 2, 2, 2, 2, 2, 2, 2, 2, 2, 2, 2, 3, 3, 3, 3, 3, 3, 3, 3, 3, 3, 3, 3, 3, 3, 3, 3, 3, 3, 3, 3, 3, 3, 3, 3, 3, 3, 3, 3, 9, 9, 9, 9, 9, 9, 9, 9, 9, 9, 9, 9, 9, 9, 9, 9, 9, 9, 9, 9, 9, 9, 9, 9, 3, 3, 3, 3, 4, 3, 3, 3, 1, 1, 1, 1, 1, 2, 2, 2, 2, 2, 2, 2, 2, 2, 2, 2, 2, 2, 2, 2, 2, 2, 2, 2, 2, 2, 2, 2, 2, 2, 2, 2, 2, 4, 4, 4, 4, 4, 4, 4, 4, 4, 4, 4, 4, 4, 4, 4, 4, 3, 3, 3, 3, 3, 3, 3, 3, 3, 3, 3, 3, 3, 3, 3, 3, 3, 3, 3, 3, 0, 0, 0, 0, 0, 0, 0, 0, 0, 0, 0, 0, 0, 0, 0, 0, 5, 5, 5, 5, 5, 5, 5, 5, 5, 5, 5, 5, 5, 5, 5, 5, 5, 5, 5, 5, 5, 5, 5, 5, 5, 5, 5, 5, 5, 5, 5, 5, 5, 5, 5, 5, 5, 5, 5, 5, 5, 5, 9, 9, 9, 9, 9, 9, 9, 9, 9, 9, 9, 9, 9, 9, 9, 9, 9, 9, 9, 9, 9, 9, 9, 9, 3, 3, 3, 3, 3, 3, 3, 3, 3, 3, 3, 3, 6, 6, 6, 4, 4, 4, 4, 4, 4, 4, 4, 4, 4, 4, 4, 4, 4, 4, 4, 4, 4, 4, 4, 4, 4, 4, 4, 4, 4, 4, 4, 4, 4, 4, 4, 4, 4, 4, 4, 4, 4, 4, 4, 4, 4, 4, 4, 4, 4, 4, 4, 4, 4, 4, 4, 4, 4, 4, 4, 4, 4, 4, 4, 4, 4, 4, 4, 4, 4, 4, 4, 4, 4, 4, 4, 4, 4, 2, 2, 2, 2, 2, 2, 2, 2, 2, 2, 2, 2, 2, 2, 2, 2, 2, 2, 2, 2, 2, 2, 2, 2, 2, 2, 2, 2, 2, 2, 2, 2, 1, 1, 1, 1, 1, 1, 1, 1, 1, 1, 1, 1, 1, 1, 1, 1, 1, 1, 1, 1, 1, 1, 1, 1, 1, 1, 1, 1, 1, 1, 1, 1, 1, 1, 1, 1, 1, 1, 1, 1, 1, 1, 1, 1, 1, 1, 1, 1, 1, 1, 1, 1, 1, 1, 1, 1, 1, 1, 1, 1, 1, 1, 1, 1, 1, 1, 1, 1, 1, 1, 1, 1, 1, 1, 1, 1, 1, 1, 1, 1, 1, 1, 1, 1, 1, 1, 1, 1, 1, 1, 1, 1, 1, 1, 1, 1, 1, 1, 1, 1, 1, 1, 1, 1, 1, 1, 1, 1, 1, 1, 1, 1, 1, 1, 1, 1, 1, 1, 1, 1, 1, 1, 1, 1, 1, 1, 1, 1, 1, 1, 1, 1, 1, 1, 1, 1, 1, 1, 1, 1, 1, 1, 1, 1, 1, 1, 1, 1, 1, 1, 1, 1, 1, 1, 1, 1, 1, 1, 1, 1, 1, 1, 1, 1, 1, 1, 1, 1, 1, 1, 1, 1, 1, 1, 1, 1, 1, 1, 1, 1, 1, 1, 1, 1, 1, 1, 1, 1, 1, 1, 1, 1, 1, 1, 1, 1, 1, 1, 1, 1, 1, 1, 1, 1, 1, 1, 1, 1, 1, 1, 1, 1, 1, 1, 1, 1, 1, 1, 1, 1, 1, 1, 1, 1, 1, 1, 1, 1, 1, 1, 1, 1, 1, 1, 1, 1, 1, 1, 1, 1, 1, 1, 1, 1, 1, 1, 1, 1, 1, 1, 1, 1, 1, 1, 1, 1, 1, 1, 1, 1, 1, 1, 1, 1, 1, 1, 1, 1, 1, 1, 1, 1, 1, 1, 1, 1, 1, 1, 1, 1, 1, 1, 1, 1, 1, 1, 1, 1, 1, 3, 3, 3, 3, 3, 3, 3, 3, 3, 3, 3, 3, 3, 3, 3, 3, 3, 3, 3, 3, 3, 3, 3, 3, 3, 3, 3, 3, 3, 3, 3, 3, 4, 4, 4, 4, 4, 4, 4, 4, 4, 4, 4, 4, 4, 4, 4, 4, 4, 4, 4, 4, 4, 4, 4, 4, 2, 2, 2, 2, 2, 2, 2, 2, 2, 2, 2, 2, 2, 2, 2, 2, 2, 2, 2, 2, 2, 2, 2, 2, 2, 2, 2, 2, 2, 2, 2, 2, 9, 9, 9, 9, 9, 9, 9, 9, 9, 9, 9, 9, 9, 9, 9, 9, 9, 9, 9, 9, 9, 9, 9, 9, 6, 4, 4, 4, 4, 4, 4, 4, 4, 4, 0, 0, 0, 0, 0, 0, 0, 0, 0, 0, 0, 0, 0, 0, 0, 0, 0, 0, 0, 0, 0, 0, 0, 0, 0, 0, 0, 0, 0, 0, 0, 0, 0, 0, 0, 0, 0, 0, 0, 0, 3, 3, 3, 3, 3, 3, 3, 3, 5, 5, 5, 5, 5, 5, 5, 5, 5, 5, 5, 5, 5, 5, 5, 5, 5, 5, 5, 5, 5, 5, 5, 5, 7, 7, 7, 7, 7, 7, 7, 7, 7, 7, 7, 7, 7, 7, 7, 7, 7, 7, 7, 7, 7, 7, 7, 7, 7, 7, 7, 7, 7, 7, 7, 7, 7, 7, 7, 7, 7, 7, 7, 7, 7, 7, 7, 7, 7, 7, 7, 7, 7, 7, 7, 7, 7, 7, 7, 7, 5, 5, 5, 5, 5, 5, 5, 5, 5, 5, 5, 5, 5, 5, 5, 5, 6]\n"
          ],
          "name": "stdout"
        }
      ]
    },
    {
      "cell_type": "markdown",
      "metadata": {
        "id": "zPVNPUak32m_"
      },
      "source": [
        "classID:\n",
        "0 = air_conditioner\n",
        "1 = car_horn\n",
        "2 = children_playing\n",
        "3 = dog_bark\n",
        "4 = drilling\n",
        "5 = engine_idling\n",
        "6 = gun_shot\n",
        "7 = jackhammer\n",
        "8 = siren\n",
        "9 = street_music"
      ]
    }
  ]
}